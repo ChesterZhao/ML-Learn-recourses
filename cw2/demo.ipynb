{
 "cells": [
  {
   "cell_type": "code",
   "execution_count": null,
   "id": "initial_id",
   "metadata": {
    "collapsed": true
   },
   "outputs": [],
   "source": [
    "import tensorflow as tf\n",
    "\n",
    "# Custom Sparse Categorical Crossentropy Loss Function\n",
    "def custom_loss(y_true, y_pred):\n",
    "    y_true = tf.one_hot(tf.squeeze(y_true), tf.shape(y_pred)[1]) # Convert y_true to one-hot encoding\n",
    "    epsilon = tf.keras.backend.epsilon()     # Clip values to prevent NaN loss\n",
    "    y_pred = tf.clip_by_value(y_pred, epsilon, 1.0 - epsilon)\n",
    "    loss = -tf.reduce_sum(y_true * tf.math.log(y_pred), axis=1) # Calculate cross-entropy\n",
    "    return tf.reduce_mean(loss)\n",
    "\n",
    "\n",
    "# Custom Accuracy Metric Function\n",
    "def custom_accuracy(y_true, y_pred):\n",
    "    # Get predicted classes\n",
    "    y_pred_classes = tf.argmax(y_pred, axis=1)\n",
    "\n",
    "    # Flatten y_true if needed and cast to float32\n",
    "    y_true = tf.cast(tf.squeeze(y_true), tf.float32)\n",
    "\n",
    "    # Cast predicted classes to float32\n",
    "    y_pred_classes = tf.cast(y_pred_classes, tf.float32)\n",
    "\n",
    "    # Calculate accuracy\n",
    "    accuracy = tf.reduce_mean(tf.cast(tf.equal(y_true, y_pred_classes), tf.float32))\n",
    "    return accuracy\n",
    "\n",
    "# Define your model\n",
    "model = tf.keras.Sequential([\n",
    "    tf.keras.layers.Dense(64, input_shape=(100,), activation='relu'),\n",
    "    tf.keras.layers.Dense(128, activation='relu'),  \n",
    "    tf.keras.layers.Dropout(0.1),\n",
    "    tf.keras.layers.Dense(256, activation='relu'), \n",
    "    tf.keras.layers.Dropout(0.1),\n",
    "    tf.keras.layers.Dense(512, activation='relu'), \n",
    "    tf.keras.layers.Dropout(0.1),\n",
    "    tf.keras.layers.Dense(256, activation='relu'), \n",
    "    tf.keras.layers.Dropout(0.1),\n",
    "    tf.keras.layers.Dense(len(categories), activation='softmax')\n",
    "])\n",
    "\n",
    "optimizer = tf.keras.optimizers.Adam(learning_rate=0.001)\n",
    "\n",
    "# Compile the model using custom loss and metric\n",
    "model.compile(optimizer=optimizer, loss=custom_loss, metrics=[custom_accuracy])\n",
    "\n",
    "\n",
    "history=model.fit(X_train, y_train, epochs=80, batch_size=32, validation_data=(X_test, y_test))"
   ]
  }
 ],
 "metadata": {
  "kernelspec": {
   "display_name": "Python 3",
   "language": "python",
   "name": "python3"
  },
  "language_info": {
   "codemirror_mode": {
    "name": "ipython",
    "version": 2
   },
   "file_extension": ".py",
   "mimetype": "text/x-python",
   "name": "python",
   "nbconvert_exporter": "python",
   "pygments_lexer": "ipython2",
   "version": "2.7.6"
  }
 },
 "nbformat": 4,
 "nbformat_minor": 5
}
