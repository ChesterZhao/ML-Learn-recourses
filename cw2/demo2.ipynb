{
 "cells": [
  {
   "cell_type": "code",
   "execution_count": 1,
   "outputs": [
    {
     "name": "stderr",
     "output_type": "stream",
     "text": [
      "/var/folders/fm/_6wfn0r96gjcpy7779d0j2fc0000gn/T/ipykernel_42386/22398637.py:37: VisibleDeprecationWarning: Creating an ndarray from ragged nested sequences (which is a list-or-tuple of lists-or-tuples-or ndarrays with different lengths or shapes) is deprecated. If you meant to do this, you must specify 'dtype=object' when creating the ndarray.\n",
      "  X = np.array(X)\n"
     ]
    },
    {
     "ename": "AttributeError",
     "evalue": "'NoneType' object has no attribute 'keras'",
     "output_type": "error",
     "traceback": [
      "\u001B[0;31m---------------------------------------------------------------------------\u001B[0m",
      "\u001B[0;31mAttributeError\u001B[0m                            Traceback (most recent call last)",
      "Cell \u001B[0;32mIn[1], line 127\u001B[0m\n\u001B[1;32m    125\u001B[0m \u001B[38;5;66;03m# 加载数据和训练模型\u001B[39;00m\n\u001B[1;32m    126\u001B[0m image_paths \u001B[38;5;241m=\u001B[39m glob\u001B[38;5;241m.\u001B[39mglob(\u001B[38;5;124m'\u001B[39m\u001B[38;5;124mCar_Logo_Dataset/**/*.png\u001B[39m\u001B[38;5;124m'\u001B[39m, recursive\u001B[38;5;241m=\u001B[39m\u001B[38;5;28;01mTrue\u001B[39;00m)\n\u001B[0;32m--> 127\u001B[0m X, y \u001B[38;5;241m=\u001B[39m \u001B[43mload_images\u001B[49m\u001B[43m(\u001B[49m\u001B[43mimage_paths\u001B[49m\u001B[43m)\u001B[49m\n\u001B[1;32m    128\u001B[0m label_encoder \u001B[38;5;241m=\u001B[39m LabelEncoder()\n\u001B[1;32m    129\u001B[0m y_encoded \u001B[38;5;241m=\u001B[39m label_encoder\u001B[38;5;241m.\u001B[39mfit_transform(y)\n",
      "Cell \u001B[0;32mIn[1], line 44\u001B[0m, in \u001B[0;36mload_images\u001B[0;34m(image_paths, tf)\u001B[0m\n\u001B[1;32m     41\u001B[0m X \u001B[38;5;241m=\u001B[39m X \u001B[38;5;241m/\u001B[39m \u001B[38;5;241m255.0\u001B[39m\n\u001B[1;32m     43\u001B[0m \u001B[38;5;66;03m# One hot encoding for y\u001B[39;00m\n\u001B[0;32m---> 44\u001B[0m y \u001B[38;5;241m=\u001B[39m \u001B[43mtf\u001B[49m\u001B[38;5;241;43m.\u001B[39;49m\u001B[43mkeras\u001B[49m\u001B[38;5;241m.\u001B[39mutils\u001B[38;5;241m.\u001B[39mto_categorical(y, num_classes\u001B[38;5;241m=\u001B[39m\u001B[38;5;28mlen\u001B[39m(labels))\n\u001B[1;32m     46\u001B[0m \u001B[38;5;28;01mreturn\u001B[39;00m X, y, labels\n",
      "\u001B[0;31mAttributeError\u001B[0m: 'NoneType' object has no attribute 'keras'"
     ]
    }
   ],
   "source": [
    "from sklearn.manifold import TSNE\n",
    "from sklearn.metrics import confusion_matrix, classification_report\n",
    "import glob\n",
    "import numpy as np\n",
    "from PIL import Image\n",
    "from sklearn.model_selection import train_test_split\n",
    "from sklearn.preprocessing import LabelEncoder\n",
    "from sklearn.mixture import GaussianMixture\n",
    "from keras.models import Sequential\n",
    "from keras.layers import Dense, Flatten\n",
    "import matplotlib.pyplot as plt\n",
    "from scipy.stats import mode\n",
    "\n",
    "\n",
    "# 数据预处理\n",
    "def load_images(image_paths, target_size=(256, 256)):\n",
    "    images = []\n",
    "    labels = []\n",
    "\n",
    "    for image_path in image_paths:\n",
    "        image = Image.open(image_path).convert('RGB').resize(target_size)\n",
    "        image = np.array(image) / 255.0\n",
    "        label = image_path.split('/')[-2]\n",
    "        images.append(image)\n",
    "        labels.append(label)\n",
    "\n",
    "    return np.array(images), np.array(labels)\n",
    "\n",
    "\n",
    "# 内建的ANN模型\n",
    "class ANNModel:\n",
    "    def __init__(self, input_shape, num_classes):\n",
    "        self.model = Sequential([\n",
    "            Flatten(input_shape=input_shape),\n",
    "            Dense(128, activation='relu'),\n",
    "            Dense(128, activation='relu'),\n",
    "            Dense(num_classes, activation='softmax')\n",
    "        ])\n",
    "        self.model.compile(optimizer='adam', loss='sparse_categorical_crossentropy', metrics=['accuracy'])\n",
    "\n",
    "    def train(self, X_train, y_train):\n",
    "        return self.model.fit(X_train, y_train, epochs=10, batch_size=32, validation_split=0.2)\n",
    "\n",
    "    def predict(self, X):\n",
    "        return self.model.predict(X)\n",
    "\n",
    "\n",
    "# 无监督模型 (GMM)\n",
    "class UnsupervisedGMM:\n",
    "    def __init__(self, n_components):\n",
    "        self.model = GaussianMixture(n_components=n_components)\n",
    "\n",
    "    def fit(self, X):\n",
    "        self.model.fit(X)\n",
    "\n",
    "    def predict(self, X):\n",
    "        return self.model.predict(X)\n",
    "\n",
    "\n",
    "# Ensemble模型\n",
    "class EnsembleModel:\n",
    "    def __init__(self, supervised_model, unsupervised_model):\n",
    "        self.supervised_model = supervised_model\n",
    "        self.unsupervised_model = unsupervised_model\n",
    "\n",
    "    def fit(self, X, y):\n",
    "        history = self.supervised_model.train(X, y)\n",
    "        features = self.supervised_model.predict(X)\n",
    "        self.unsupervised_model.fit(features)\n",
    "        return history\n",
    "\n",
    "    def predict(self, X):\n",
    "        features = self.supervised_model.predict(X)\n",
    "        return self.unsupervised_model.predict(features)\n",
    "\n",
    "\n",
    "# 可视化训练历史\n",
    "def plot_history(history):\n",
    "    plt.figure(figsize=(12, 4))\n",
    "    plt.subplot(1, 2, 1)\n",
    "    plt.plot(history.history['loss'], label='Training Loss')\n",
    "    plt.plot(history.history['val_loss'], label='Validation Loss')\n",
    "    plt.title('Loss Over Epochs')\n",
    "    plt.legend()\n",
    "\n",
    "    plt.subplot(1, 2, 2)\n",
    "    plt.plot(history.history['accuracy'], label='Training Accuracy')\n",
    "    plt.plot(history.history['val_accuracy'], label='Validation Accuracy')\n",
    "    plt.title('Accuracy Over Epochs')\n",
    "    plt.legend()\n",
    "    plt.show()\n",
    "\n",
    "\n",
    "# 重新映射聚类标签以匹配真实标签\n",
    "def remap_labels(true_labels, predicted_labels):\n",
    "    unique_true_labels = np.unique(true_labels)\n",
    "    mapped_labels = np.zeros_like(predicted_labels)\n",
    "    for true_label in unique_true_labels:\n",
    "        mask = (true_labels == true_label)\n",
    "        # Find the cluster label that most frequently occurs with this true label\n",
    "        most_common = mode(predicted_labels[mask])[0][0]\n",
    "        mapped_labels[predicted_labels == most_common] = true_label\n",
    "    return mapped_labels\n",
    "\n",
    "\n",
    "# 加载数据和训练模型\n",
    "image_paths = glob.glob('Car_Logo_Dataset/**/*.png', recursive=True)\n",
    "X, y = load_images(image_paths)\n",
    "label_encoder = LabelEncoder()\n",
    "y_encoded = label_encoder.fit_transform(y)\n",
    "X_train, X_test, y_train, y_test = train_test_split(X, y_encoded, test_size=0.2, random_state=42)\n",
    "# 构建模型\n",
    "ann_model = ANNModel(X_train[0].shape, len(np.unique(y_train)))\n",
    "gmm_model = UnsupervisedGMM(n_components=len(np.unique(y_train)))\n",
    "ensemble_model = EnsembleModel(ann_model, gmm_model)\n",
    "\n",
    "# 训练模型\n",
    "history = ensemble_model.fit(X_train, y_train)\n",
    "\n",
    "# 可视化损失和准确率\n",
    "plot_history(history)\n",
    "\n",
    "# 进行预测\n",
    "features_test = ann_model.predict(X_test)  # 先通过ANN获得特征"
   ],
   "metadata": {
    "collapsed": false,
    "ExecuteTime": {
     "end_time": "2023-12-03T07:28:10.693765Z",
     "start_time": "2023-12-03T07:28:06.810551Z"
    }
   },
   "id": "791832c06359d05a"
  },
  {
   "cell_type": "code",
   "execution_count": null,
   "outputs": [],
   "source": [
    "features_test.shape"
   ],
   "metadata": {
    "collapsed": false,
    "ExecuteTime": {
     "start_time": "2023-12-03T07:28:10.694723Z"
    }
   },
   "id": "2080255b8268942d"
  },
  {
   "cell_type": "code",
   "execution_count": null,
   "outputs": [],
   "source": [
    "predicted_clusters = gmm_model.predict(features_test)  # 用GMM进行聚类预测\n",
    "mapped_predictions = remap_labels(y_test, predicted_clusters)  # 重新映射聚类标签\n",
    "\n",
    "# 计算混淆矩阵\n",
    "conf_matrix = confusion_matrix(y_test, mapped_predictions)\n",
    "print('Confusion Matrix:')\n",
    "print(conf_matrix)\n",
    "\n",
    "# 绘制混淆矩阵\n",
    "plt.figure(figsize=(12, 10))\n",
    "plt.imshow(conf_matrix, cmap='viridis')\n",
    "plt.title('Confusion Matrix')\n",
    "plt.colorbar()\n",
    "plt.show()\n",
    "\n",
    "# 输出分类报告\n",
    "print('Classification Report:')\n",
    "print(classification_report(y_test, mapped_predictions))\n",
    "\n",
    "# 计算准确率\n",
    "accuracy = np.sum(mapped_predictions == y_test) / len(y_test)\n",
    "print(f'Clustering Accuracy: {accuracy}')"
   ],
   "metadata": {
    "collapsed": false,
    "ExecuteTime": {
     "end_time": "2023-12-03T07:28:10.698764Z",
     "start_time": "2023-12-03T07:28:10.695972Z"
    }
   },
   "id": "9a4d4313549fbe83"
  },
  {
   "cell_type": "code",
   "execution_count": null,
   "outputs": [],
   "source": [
    "def visualize_clusters_with_labels(X, y, model, perplexity=30, learning_rate=200):\n",
    "    # 通过神经网络模型提取特征\n",
    "    features = model.predict(X)\n",
    "\n",
    "    # 使用t-SNE降维到二维\n",
    "    tsne = TSNE(n_components=2, perplexity=perplexity, learning_rate=learning_rate, random_state=42)\n",
    "    X_reduced = tsne.fit_transform(features)\n",
    "\n",
    "    # 绘制所有聚类的散点图\n",
    "    plt.figure(figsize=(12, 10))\n",
    "    scatter = plt.scatter(X_reduced[:, 0], X_reduced[:, 1], c=y, cmap='viridis', alpha=0.6)\n",
    "\n",
    "    # 为每个聚类的质心添加注释\n",
    "    # 如果聚类数量很多，这可能会导致图表拥挤\n",
    "    # unique_labels = np.unique(y)\n",
    "    # for i, label in enumerate(unique_labels):\n",
    "    #     xtext, ytext = np.median(X_reduced[y == label, :], axis=0)\n",
    "    #     txt = f'Cluster {label}'\n",
    "    #     plt.annotate(txt, (xtext, ytext), fontsize=9, ha='center')\n",
    "\n",
    "    # 如果你想为每个点标注标签，取消注释以下代码\n",
    "    for i, txt in enumerate(y):\n",
    "        plt.annotate(txt, (X_reduced[i, 0], X_reduced[i, 1]), fontsize=8, alpha=0.7)\n",
    "\n",
    "    plt.legend(handles=scatter.legend_elements()[0], labels=set(y), title=\"Clusters\")\n",
    "    plt.title('t-SNE visualization with labeled clusters')\n",
    "    plt.xlabel('t-SNE feature 1')\n",
    "    plt.ylabel('t-SNE feature 2')\n",
    "    plt.show()\n",
    "\n",
    "\n",
    "visualize_clusters_with_labels(X_test, mapped_predictions, ann_model)"
   ],
   "metadata": {
    "collapsed": false,
    "ExecuteTime": {
     "start_time": "2023-12-03T07:28:10.697490Z"
    }
   },
   "id": "a346f0e892c0dfa7"
  },
  {
   "cell_type": "code",
   "execution_count": null,
   "outputs": [],
   "source": [
    "# from sklearn.metrics import adjusted_rand_score\n",
    "# \n",
    "# adjusted_rand_index = adjusted_rand_score(y_test, predictions)\n",
    "# print(\"调整后的兰德指数：\", adjusted_rand_index)"
   ],
   "metadata": {
    "collapsed": false
   },
   "id": "1682e7f96bb6b01c"
  },
  {
   "cell_type": "code",
   "execution_count": null,
   "outputs": [],
   "source": [
    "# from sklearn.metrics import normalized_mutual_info_score\n",
    "# \n",
    "# normalized_mutual_info = normalized_mutual_info_score(y_test, predictions)\n",
    "# print(\"标准化互信息：\", normalized_mutual_info)"
   ],
   "metadata": {
    "collapsed": false
   },
   "id": "f4e0b3f6bff20841"
  }
 ],
 "metadata": {
  "kernelspec": {
   "display_name": "Python 3",
   "language": "python",
   "name": "python3"
  },
  "language_info": {
   "codemirror_mode": {
    "name": "ipython",
    "version": 2
   },
   "file_extension": ".py",
   "mimetype": "text/x-python",
   "name": "python",
   "nbconvert_exporter": "python",
   "pygments_lexer": "ipython2",
   "version": "2.7.6"
  }
 },
 "nbformat": 4,
 "nbformat_minor": 5
}
