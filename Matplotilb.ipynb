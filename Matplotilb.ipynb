{
 "cells": [
  {
   "cell_type": "markdown",
   "source": [
    "# Matplotilb 使用"
   ],
   "metadata": {
    "collapsed": false
   },
   "id": "9a5f4ebf26446e71"
  },
  {
   "cell_type": "markdown",
   "source": [
    "## 基础折线图"
   ],
   "metadata": {
    "collapsed": false
   },
   "id": "7fdbde98a067385c"
  },
  {
   "cell_type": "code",
   "execution_count": null,
   "outputs": [],
   "source": [
    "import matplotlib.pyplot as plt\n",
    "\n",
    "# 创建画布\n",
    "plt.figure(figsize=(20, 8), dpi=100)\n",
    "\n",
    "# 绘制图像\n",
    "plt.plot([1,2,3,4,5,6,7], [10, 15, 13, 18, 16, 20, 10])\n",
    "\n",
    "# 图像显示\n",
    "plt.show()"
   ],
   "metadata": {
    "collapsed": false
   },
   "id": "79a64905fc9a18b"
  },
  {
   "cell_type": "markdown",
   "source": [
    "## 绘制折线图"
   ],
   "metadata": {
    "collapsed": false
   },
   "id": "bf75015f9f7cbd73"
  },
  {
   "cell_type": "code",
   "execution_count": null,
   "outputs": [],
   "source": [
    "import matplotlib.pyplot as plt\n",
    "import random\n",
    "\n",
    "# 准备数据\n",
    "x = range(60)\n",
    "y = [random.uniform(15, 18) for i in x]\n",
    "\n",
    "# 创建画布\n",
    "plt.figure(figsize=(20, 8), dpi=100)\n",
    "\n",
    "# 绘制图像\n",
    "plt.plot(x, y)\n",
    "\n",
    "# 添加x，y轴刻度\n",
    "x_tick_label = [\"11:{}\".format(i) for i in x]\n",
    "y_tick = range(40)\n",
    "\n",
    "# 修改x，y轴坐标刻度显示\n",
    "# 切片操作 [::5] 意思是 start:stop:step\n",
    "plt.xticks(x[::5], x_tick_label[::5])\n",
    "plt.yticks(y_tick[::5])\n",
    "\n",
    "# 添加网格虚线\n",
    "plt.grid(True, linestyle=\"--\", alpha=0.5)\n",
    "\n",
    "# 坐标名称\n",
    "plt.xlabel(\"time\")\n",
    "plt.ylabel(\"temperature\")\n",
    "plt.title(\"temperature-time\")\n",
    "\n",
    "# 图像显示\n",
    "plt.show()\n"
   ],
   "metadata": {
    "collapsed": false
   },
   "id": "d22f2d0388e54ecd"
  },
  {
   "cell_type": "markdown",
   "source": [
    "## 绘制多个折线图\n",
    "### 字符风格\n",
    "- -实线\n",
    "- --虚线\n",
    "- -.点划线\n",
    "- ：点虚线\n",
    "- ''无线条"
   ],
   "metadata": {
    "collapsed": false
   },
   "id": "b8a809094331da92"
  },
  {
   "cell_type": "code",
   "execution_count": null,
   "outputs": [],
   "source": [
    "import matplotlib.pyplot as plt\n",
    "import random\n",
    "\n",
    "# 准备数据\n",
    "x = range(60)\n",
    "y_shanghai = [random.uniform(15, 18) for i in x]\n",
    "y_beijing = [random.uniform(1, 3) for i in x]\n",
    "\n",
    "# 创建画布\n",
    "plt.figure(figsize=(20, 8), dpi=100)\n",
    "\n",
    "# 绘制图像\n",
    "plt.plot(x, y_shanghai, label=\"shanghai\")\n",
    "plt.plot(x, y_beijing, color=\"r\", linestyle=\"--\", label=\"beijing\")\n",
    "\n",
    "# 添加x，y轴刻度\n",
    "x_tick_label = [\"11:{}\".format(i) for i in x]\n",
    "y_tick = range(40)\n",
    "\n",
    "# 修改x，y轴坐标刻度显示\n",
    "# 切片操作 [::5] 意思是 start:stop:step\n",
    "plt.xticks(x[::5], x_tick_label[::5])\n",
    "plt.yticks(y_tick[::5])\n",
    "\n",
    "# 坐标名称\n",
    "plt.xlabel(\"time\")\n",
    "plt.ylabel(\"temperature\")\n",
    "plt.title(\"temperature-time\")\n",
    "\n",
    "# 添加网格虚线\n",
    "plt.grid(True, linestyle=\"--\", alpha=0.5)\n",
    "\n",
    "# 添加图例\n",
    "plt.legend(loc=\"best\")\n",
    "\n",
    "# 图像显示\n",
    "plt.show()"
   ],
   "metadata": {
    "collapsed": false
   },
   "id": "db07e97de79112d5"
  },
  {
   "cell_type": "markdown",
   "source": [
    "## 绘制多个折线图"
   ],
   "metadata": {
    "collapsed": false
   },
   "id": "b50469c59d3bf07b"
  },
  {
   "cell_type": "code",
   "execution_count": null,
   "outputs": [],
   "source": [
    "import matplotlib.pyplot as plt\n",
    "import random\n",
    "\n",
    "# 准备数据\n",
    "x = range(60)\n",
    "y_shanghai = [random.uniform(15, 18) for i in x]\n",
    "y_beijing = [random.uniform(1, 3) for i in x]\n",
    "\n",
    "# 创建画布\n",
    "fig, axes = plt.subplots(nrows=1, ncols=2, figsize=(20, 8), dpi=100)\n",
    "\n",
    "# 绘制图像\n",
    "axes[0].plot(x, y_shanghai, label=\"shanghai\")\n",
    "axes[1].plot(x, y_beijing, color=\"r\", linestyle=\"--\", label=\"beijing\")\n",
    "\n",
    "# 添加x，y轴刻度\n",
    "x_tick_label = [\"11:{}\".format(i) for i in x]\n",
    "y_tick = range(40)\n",
    "\n",
    "# 修改x，y轴坐标刻度显示\n",
    "axes[0].set_xticks(x[::5], x_tick_label[::5])\n",
    "axes[0].set_yticks(y_tick[::5])\n",
    "axes[0].set_xticklabels(x_tick_label[::5], rotation=45)\n",
    "\n",
    "axes[1].set_xticks(x[::5], x_tick_label[::5])\n",
    "axes[1].set_yticks(y_tick[::5])\n",
    "axes[1].set_xticklabels(x_tick_label[::5], rotation=45)\n",
    "\n",
    "# 坐标名称\n",
    "axes[0].set_xlabel(\"time\")\n",
    "axes[0].set_ylabel(\"temperature\")\n",
    "axes[0].set_title(\"temperature-time\")\n",
    "\n",
    "axes[1].set_xlabel(\"time\")\n",
    "axes[1].set_ylabel(\"temperature\")\n",
    "axes[1].set_title(\"temperature-time\")\n",
    "\n",
    "# 添加网格虚线\n",
    "axes[0].grid(True, linestyle=\"--\", alpha=0.5)\n",
    "axes[1].grid(True, linestyle=\"--\", alpha=0.5)\n",
    "\n",
    "# 添加图例\n",
    "axes[0].legend(loc=\"best\")\n",
    "axes[1].legend(loc=\"best\")\n",
    "\n",
    "# 图像显示\n",
    "plt.show()"
   ],
   "metadata": {
    "collapsed": false
   },
   "id": "d7ea89b8dd489d01"
  },
  {
   "cell_type": "markdown",
   "source": [
    "## 数学函数绘制"
   ],
   "metadata": {
    "collapsed": false
   },
   "id": "1b4ee8bf09013fd8"
  },
  {
   "cell_type": "code",
   "execution_count": null,
   "outputs": [],
   "source": [
    "import numpy as np\n",
    "\n",
    "x = np.linspace(-10, 10, 1000) # 在-10到10之间生成1000个数\n",
    "y = np.sin(x)\n",
    "\n",
    "plt.figure(figsize=(20, 8), dpi=100)\n",
    "\n",
    "plt.plot(x, y)\n",
    "\n",
    "plt.grid()\n",
    "\n",
    "plt.show()"
   ],
   "metadata": {
    "collapsed": false
   },
   "id": "c5fd11afb5be4741"
  },
  {
   "cell_type": "markdown",
   "source": [
    "## 常见图形绘制"
   ],
   "metadata": {
    "collapsed": false
   },
   "id": "bc08bbc52608cc72"
  },
  {
   "cell_type": "markdown",
   "source": [
    "### 散点图"
   ],
   "metadata": {
    "collapsed": false
   },
   "id": "b1bb2185ead94a1d"
  },
  {
   "cell_type": "code",
   "execution_count": null,
   "outputs": [],
   "source": [
    "import matplotlib.pyplot as plt\n",
    "\n",
    "# 准备数据\n",
    "x = [225, 210, 180, 210, 188, 176, 209, 200, 180, 196, 210, 225, 215, 200, 235, 245, 230, 200, 210, 222, 210, 230, 220, 190]\n",
    "y = [105, 100, 100, 90, 90, 95, 100, 95, 85, 90, 100, 100, 95, 90, 95, 110, 105, 100, 95, 100, 105, 100, 95, 90]\n",
    "\n",
    "# 创建画布\n",
    "plt.figure(figsize=(20, 8), dpi=100)\n",
    "\n",
    "# 绘制图像\n",
    "plt.scatter(x, y)\n",
    "\n",
    "# 显示\n",
    "plt.show()"
   ],
   "metadata": {
    "collapsed": false
   },
   "id": "c141e7487c54f302"
  },
  {
   "cell_type": "markdown",
   "source": [
    "### 柱状图绘制"
   ],
   "metadata": {
    "collapsed": false
   },
   "id": "a14a61ca9cd49ef9"
  },
  {
   "cell_type": "code",
   "execution_count": null,
   "outputs": [],
   "source": [
    "import matplotlib.pyplot as plt\n",
    "\n",
    "# 准备数据\n",
    "moveName = [\"AQSIQ\", \"Dangal\", \"My Boyfriend Is An Alien\", \"The Wandering Earth\", \"Crazy Alien\"]\n",
    "\n",
    "# 横坐标\n",
    "x = range(len(moveName))\n",
    "\n",
    "# 票房数据\n",
    "y = [56.01, 44.13, 33.12, 30.25, 21.58]\n",
    "\n",
    "# 创建画布\n",
    "plt.figure(figsize=(20, 8), dpi=100)\n",
    "\n",
    "# 绘制图像\n",
    "plt.bar(x, y, color=[\"b\", \"r\", \"g\", \"y\", \"c\"], width=0.3)\n",
    "\n",
    "# 修改x轴刻度显示\n",
    "plt.xticks(x, moveName)\n",
    "\n",
    "# 添加网格\n",
    "plt.grid(linestyle=\"--\", alpha=0.5)\n",
    "\n",
    "# 添加标题\n",
    "plt.title(\"Move Consumption\")\n",
    "\n",
    "# 显示图像\n",
    "plt.show()"
   ],
   "metadata": {
    "collapsed": false
   },
   "id": "df2ba2afdb2d74bf"
  },
  {
   "cell_type": "markdown",
   "source": [
    "### 绘制饼状图"
   ],
   "metadata": {
    "collapsed": false
   },
   "id": "5b35fa54cccc7c27"
  },
  {
   "cell_type": "code",
   "execution_count": 46,
   "outputs": [
    {
     "data": {
      "text/plain": "<Figure size 2000x800 with 1 Axes>",
      "image/png": "[encoded data removed]"
     },
     "metadata": {},
     "output_type": "display_data"
    }
   ],
   "source": [
    "import matplotlib.pyplot as plt\n",
    "\n",
    "# 准备数据\n",
    "x = [1, 2, 3, 4, 5]\n",
    "labels = [\"class1\", \"class2\",\"class3\",\"class4\",\"class5\"]\n",
    "explode = [0, 0, 0.2, 0.1, 0] # 数据抽取\n",
    "\n",
    "plt.figure(figsize=(20, 8), dpi=100)\n",
    "plt.pie(x, labels = labels, autopct=\"%.2f%%\", explode = explode)\n",
    "plt.show()"
   ],
   "metadata": {
    "collapsed": false,
    "ExecuteTime": {
     "end_time": "2023-10-18T09:07:30.283383Z",
     "start_time": "2023-10-18T09:07:30.215244Z"
    }
   },
   "id": "a86de92c9d058e"
  },
  {
   "cell_type": "code",
   "execution_count": null,
   "outputs": [],
   "source": [],
   "metadata": {
    "collapsed": false
   },
   "id": "7cbbd1af1964a9e8"
  }
 ],
 "metadata": {
  "kernelspec": {
   "display_name": "Python 3 (ipykernel)",
   "language": "python",
   "name": "python3"
  },
  "language_info": {
   "codemirror_mode": {
    "name": "ipython",
    "version": 3
   },
   "file_extension": ".py",
   "mimetype": "text/x-python",
   "name": "python",
   "nbconvert_exporter": "python",
   "pygments_lexer": "ipython3",
   "version": "3.8.18"
  }
 },
 "nbformat": 4,
 "nbformat_minor": 5
}
