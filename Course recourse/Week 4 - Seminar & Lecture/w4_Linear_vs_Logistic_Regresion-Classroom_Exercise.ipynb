{
 "cells": [
  {
   "cell_type": "code",
   "execution_count": null,
   "id": "927b3d5f",
   "metadata": {},
   "outputs": [],
   "source": [
    "#import libraries"
   ]
  },
  {
   "cell_type": "code",
   "execution_count": null,
   "id": "d5339df8",
   "metadata": {},
   "outputs": [],
   "source": [
    "#Provided a numpy array for x_train and y_train as our random data\n",
    "#random numpy array for x_train\n",
    "\n",
    "#random numpy array for y_train\n"
   ]
  },
  {
   "cell_type": "code",
   "execution_count": null,
   "id": "f00e8fe2",
   "metadata": {},
   "outputs": [],
   "source": [
    "# let creates a function that creates an array filled with zeros with an \n",
    "#argument `(1)` specifies the shape of the array(ie one-element array) for w parameter. \n",
    "\n",
    "\n",
    "\n",
    "#Also, initialize b parameter as 0."
   ]
  }
 ],
 "metadata": {
  "kernelspec": {
   "display_name": "Python 3 (ipykernel)",
   "language": "python",
   "name": "python3"
  },
  "language_info": {
   "codemirror_mode": {
    "name": "ipython",
    "version": 3
   },
   "file_extension": ".py",
   "mimetype": "text/x-python",
   "name": "python",
   "nbconvert_exporter": "python",
   "pygments_lexer": "ipython3",
   "version": "3.11.4"
  }
 },
 "nbformat": 4,
 "nbformat_minor": 5
}
