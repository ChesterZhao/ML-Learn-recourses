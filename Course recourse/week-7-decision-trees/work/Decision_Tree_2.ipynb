{
 "cells": [
  {
   "cell_type": "code",
   "execution_count": null,
   "id": "a8ce67cf",
   "metadata": {
    "scrolled": true
   },
   "outputs": [],
   "source": [
    "#import the libraries\n",
    "import pandas as pd\n",
    "from sklearn.model_selection import train_test_split\n",
    "from sklearn.tree import DecisionTreeClassifier\n",
    "#from sklearn.metrics import accuracy_score, classification_report\n",
    "\n",
    "#Load and Explore the Dataset\n",
    "\n",
    "# Load the dataset (replace 'heart.csv' with the actual dataset file)\n",
    "data = pd.read_csv('heart_failure.csv')\n",
    "\n",
    "# Explore the dataset\n",
    "print(data.head())\n",
    "#print(data.info())\n"
   ]
  },
  {
   "cell_type": "code",
   "execution_count": null,
   "id": "62be5aa9",
   "metadata": {},
   "outputs": [],
   "source": [
    "# Assuming you have a DataFrame named 'data' with your features including categorical columns\n",
    "X = data[['Sex', 'ChestPainType', 'RestingBP',  'Cholesterol',  'FastingBS', 'RestingECG',  'MaxHR', 'ExerciseAngina',  'Oldpeak', 'ST_Slope']]\n",
    "\n",
    "# Identify categorical columns\n",
    "categorical_cols = X.select_dtypes(include=['object']).columns\n",
    "\n",
    "# Apply one-hot encoding to categorical columns\n",
    "X = pd.get_dummies(X[categorical_cols], drop_first=True)"
   ]
  },
  {
   "cell_type": "code",
   "execution_count": null,
   "id": "367d4651",
   "metadata": {},
   "outputs": [],
   "source": [
    "y = data['HeartDisease']\n",
    "# Split the data into training and testing sets\n",
    "X_train, X_test, y_train, y_test = train_test_split(X, y, test_size=0.2, random_state=42)"
   ]
  },
  {
   "cell_type": "code",
   "execution_count": null,
   "id": "3e12be7b",
   "metadata": {},
   "outputs": [],
   "source": [
    "\n",
    "#Build and Train the Decision Tree Model by initialize the DecisionTreeClassifier\n",
    "model = DecisionTreeClassifier(max_depth=3, random_state=42)\n",
    "#With random_state=42 , we get the same train and test sets across different executions,\n",
    "#but random_state=0,  the train and test sets are different from the previous case\n",
    "# Train the model on the training data\n",
    "model.fit(X_train, y_train)\n",
    "\n"
   ]
  },
  {
   "cell_type": "code",
   "execution_count": null,
   "id": "302f4c29",
   "metadata": {},
   "outputs": [],
   "source": [
    "# Make predictions on the test set\n",
    "y_pred = model.predict(X_test)\n",
    "\n",
    "# Calculate the accuracy of the model\n",
    "correct_predictions = sum(y_pred == y_test)\n",
    "total_predictions = len(y_test)\n",
    "accuracy = correct_predictions / total_predictions\n",
    "\n",
    "# Calculate the error rate\n",
    "error_rate = 1 - accuracy\n",
    "\n",
    "# Print the results\n",
    "print(\"Accuracy:\", accuracy)\n",
    "print(\"Error Rate:\", error_rate)\n"
   ]
  },
  {
   "cell_type": "code",
   "execution_count": null,
   "id": "98463b69",
   "metadata": {},
   "outputs": [],
   "source": []
  }
 ],
 "metadata": {
  "kernelspec": {
   "display_name": "Python 3 (ipykernel)",
   "language": "python",
   "name": "python3"
  },
  "language_info": {
   "codemirror_mode": {
    "name": "ipython",
    "version": 3
   },
   "file_extension": ".py",
   "mimetype": "text/x-python",
   "name": "python",
   "nbconvert_exporter": "python",
   "pygments_lexer": "ipython3",
   "version": "3.9.17"
  }
 },
 "nbformat": 4,
 "nbformat_minor": 5
}
