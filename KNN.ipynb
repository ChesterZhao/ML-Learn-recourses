{
 "cells": [
  {
   "cell_type": "markdown",
   "source": [
    "# KNN"
   ],
   "metadata": {
    "collapsed": false
   },
   "id": "147b9c0f97899608"
  },
  {
   "cell_type": "code",
   "execution_count": null,
   "outputs": [],
   "source": [
    "from sklearn.neighbors import KNeighborsClassifier"
   ],
   "metadata": {
    "collapsed": false
   },
   "id": "7e309403547a8012"
  },
  {
   "cell_type": "markdown",
   "source": [
    "## 1.调用API"
   ],
   "metadata": {
    "collapsed": false
   },
   "id": "416c2651a2033343"
  },
  {
   "cell_type": "code",
   "execution_count": null,
   "outputs": [],
   "source": [
    "# 构建数据\n",
    "x = [[1], [2], [10], [20]]\n",
    "y = [0, 0, 1, 1]\n",
    "\n",
    "# 实例化训练模型\n",
    "estimator = KNeighborsClassifier(n_neighbors=1)\n",
    "\n",
    "# 训练\n",
    "estimator.fit(x, y)\n",
    "\n",
    "# 数据预测\n",
    "res = estimator.predict([[13]])\n",
    "res"
   ],
   "metadata": {
    "collapsed": false
   },
   "id": "59eff3820e2d20b4"
  },
  {
   "cell_type": "markdown",
   "source": [
    "## 2.数据集"
   ],
   "metadata": {
    "collapsed": false
   },
   "id": "ffaedc9a271dd0ef"
  },
  {
   "cell_type": "code",
   "execution_count": null,
   "outputs": [],
   "source": [
    "from sklearn.datasets import load_iris, fetch_20newsgroups\n",
    "import seaborn as sns\n",
    "import matplotlib.pyplot as plt\n",
    "import pandas as pd"
   ],
   "metadata": {
    "collapsed": false
   },
   "id": "2f1ca48114664776"
  },
  {
   "cell_type": "code",
   "execution_count": null,
   "outputs": [],
   "source": [
    "# 小型数据集\n",
    "iris = load_iris()\n",
    "print(iris)  # 全部数据集\n",
    "print(\"数据集特征值：\\n\", iris.data)\n",
    "print(\"数据集目标值：\\n\", iris[\"target\"])\n",
    "print(\"数据集特征值名字：\\n\", iris.feature_names)\n",
    "print(\"数据集目标值名字：\\n\", iris.target_names)\n",
    "print(\"数据描述：\\n\", iris.DESCR)"
   ],
   "metadata": {
    "collapsed": false
   },
   "id": "3445c208597d894f"
  },
  {
   "cell_type": "code",
   "execution_count": null,
   "outputs": [],
   "source": [
    "#大型数据集\n",
    "news = fetch_20newsgroups()\n",
    "print(news)"
   ],
   "metadata": {
    "collapsed": false
   },
   "id": "612f607c1c6b12ac"
  },
  {
   "cell_type": "markdown",
   "source": [
    "## 3.可视化"
   ],
   "metadata": {
    "collapsed": false
   },
   "id": "4afb0e21ec740165"
  },
  {
   "cell_type": "code",
   "execution_count": null,
   "outputs": [],
   "source": [
    "from sklearn.datasets import load_iris, fetch_20newsgroups\n",
    "\n",
    "iris = load_iris()\n",
    "import seaborn as sns\n",
    "import matplotlib.pyplot as plt\n",
    "import pandas as pd"
   ],
   "metadata": {
    "collapsed": false
   },
   "id": "8609f67beb986ebc"
  },
  {
   "cell_type": "code",
   "execution_count": null,
   "outputs": [],
   "source": [
    "iris_d = pd.DataFrame(data=iris.data, columns=['sepal_length', 'sepal_width', 'petal_length', 'petal_width'])\n",
    "iris_d[\"target\"] = iris.target\n",
    "print(iris_d)"
   ],
   "metadata": {
    "collapsed": false
   },
   "id": "8ae0ed1f1bfa8b32"
  },
  {
   "cell_type": "code",
   "execution_count": null,
   "outputs": [],
   "source": [
    "def iris_plot(data, col1, col2):\n",
    "    sns.lmplot(x=col1, y=col2, data=data, hue=\"target\", fit_reg=False)\n",
    "    plt.title(\"Iris\")\n",
    "    plt.show()"
   ],
   "metadata": {
    "collapsed": false
   },
   "id": "98d312d65a4f207e"
  },
  {
   "cell_type": "code",
   "execution_count": null,
   "outputs": [],
   "source": [
    "iris_plot(iris_d, 'petal_width', 'sepal_length')\n",
    "iris_plot(iris_d, 'petal_width', 'sepal_width')"
   ],
   "metadata": {
    "collapsed": false
   },
   "id": "59b0d9f37462a356"
  },
  {
   "cell_type": "markdown",
   "source": [
    "## 4.数据集划分\n",
    "机器学习一般的数据集会划分为两个部分：\n",
    "• 训练数据：用于训练，构建模型\n",
    "•测试数据：在模型检验时使用，用于评估模型是否有效\n",
    "划分比例：\n",
    "• 训练集：70% 80% 75％\n",
    "• 測试集：30% 20% 25%\n",
    "\n",
    "数据集划分api\n",
    "• sklearn.model_selection.train_test_split（arrays， \"options）\n",
    "    • 参数：\n",
    "        • x 数据集的特征值\n",
    "        • y 数据集的标签值\n",
    "        • test_size 測试集的大小，一般为float\n",
    "        • random_state 随机数种子，不同的种子会造成不同的随机采样结果。相同的种子采样结果相同。\n",
    "    • return\n",
    "    • x_train,x_test,y_train,y_test"
   ],
   "metadata": {
    "collapsed": false
   },
   "id": "5707a8463fb0b998"
  },
  {
   "cell_type": "code",
   "execution_count": null,
   "outputs": [],
   "source": [
    "from sklearn.model_selection import train_test_split\n",
    "\n",
    "x_train, x_test, y_train, y_test = train_test_split(iris.data, iris.target, test_size=0.2, random_state=22)"
   ],
   "metadata": {
    "collapsed": false
   },
   "id": "468473897374e4ac"
  },
  {
   "cell_type": "code",
   "execution_count": null,
   "outputs": [],
   "source": [
    "print(\"训练集的特征值：\\n\", x_train)\n",
    "print(\"训练集的目标值：\\n\", y_train)\n",
    "print(\"测试集的特征值：\\n\", x_test)\n",
    "print(\"测试集的目标值：\\n\", y_test)"
   ],
   "metadata": {
    "collapsed": false
   },
   "id": "54e0f68ec77e0275"
  },
  {
   "cell_type": "markdown",
   "source": [
    "## 5.特征预处理"
   ],
   "metadata": {
    "collapsed": false
   },
   "id": "9281cd3e84c01b06"
  },
  {
   "cell_type": "markdown",
   "source": [
    "### 5.1数据归一化\n",
    "将原始数据改编为[0,1]之间"
   ],
   "metadata": {
    "collapsed": false
   },
   "id": "a476c714a2bc049"
  },
  {
   "cell_type": "markdown",
   "source": [],
   "metadata": {
    "collapsed": false
   },
   "id": "52a23b47e2b49976"
  }
 ],
 "metadata": {
  "kernelspec": {
   "display_name": "Python 3",
   "language": "python",
   "name": "python3"
  },
  "language_info": {
   "codemirror_mode": {
    "name": "ipython",
    "version": 2
   },
   "file_extension": ".py",
   "mimetype": "text/x-python",
   "name": "python",
   "nbconvert_exporter": "python",
   "pygments_lexer": "ipython2",
   "version": "2.7.6"
  }
 },
 "nbformat": 4,
 "nbformat_minor": 5
}
