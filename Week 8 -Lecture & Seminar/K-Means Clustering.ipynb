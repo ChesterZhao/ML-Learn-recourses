{
 "cells": [
  {
   "cell_type": "markdown",
   "id": "1cee7fc1",
   "metadata": {},
   "source": [
    "# KMeans Clustering"
   ]
  },
  {
   "cell_type": "code",
   "execution_count": null,
   "id": "b6f0ab5e",
   "metadata": {},
   "outputs": [],
   "source": [
    "#Importing Libraries\n",
    "#The code imports the necessary libraries, including `matplotlib.pyplot` for plotting, \n",
    "#`make_blobs` from `sklearn.datasets` for generating sample data, \n",
    "#and `KMeans` from `sklearn.cluster` for performing KMeans clustering.\n",
    "\n",
    "import matplotlib.pyplot as plt\n",
    "from sklearn.datasets import make_blobs\n",
    "from sklearn.cluster import KMeans"
   ]
  },
  {
   "cell_type": "code",
   "execution_count": null,
   "id": "c5363ac5",
   "metadata": {},
   "outputs": [],
   "source": [
    "#Generating Sample Data\n",
    "#This line generates synthetic data using the `make_blobs` function. \n",
    "#It creates 300 data points with three centers, \n",
    "#making it suitable for a KMeans clustering task.\n",
    "\n",
    "data, _ = make_blobs(n_samples=300, centers=3, random_state=42)\n",
    "\n",
    "   "
   ]
  },
  {
   "cell_type": "code",
   "execution_count": null,
   "id": "d5c78ceb",
   "metadata": {},
   "outputs": [],
   "source": [
    "#Fitting KMeans Model- \n",
    "# This initializes a KMeans model with three clusters \n",
    "#and fits it to the generated data.\n",
    "\n",
    "kmeans = KMeans(n_clusters=3, random_state=42)\n",
    "kmeans.fit(data)\n",
    "\n",
    "  "
   ]
  },
  {
   "cell_type": "code",
   "execution_count": null,
   "id": "c5ec01c1",
   "metadata": {},
   "outputs": [],
   "source": [
    "#Extracting Centroids and Labels:\n",
    "#The code extracts the cluster centroids and labels assigned to each data point \n",
    "#by the KMeans algorithm.\n",
    " \n",
    "centroids = kmeans.cluster_centers_\n",
    "labels = kmeans.labels_\n"
   ]
  },
  {
   "cell_type": "code",
   "execution_count": null,
   "id": "70906ffd",
   "metadata": {},
   "outputs": [],
   "source": [
    "#Plotting Data Points:\n",
    "#It creates a scatter plot of the data points, with different colors for each cluster (`c=labels`). \n",
    "#The colormap 'viridis' is used, and points have reduced opacity (`alpha=0.7`) and black edges.\n",
    "\n",
    "plt.scatter(data[:, 0], data[:, 1], c=labels, cmap='viridis', alpha=0.7, edgecolors='k')\n",
    "\n",
    "\n",
    "#Plotting Centroids:\n",
    "# This loop adds markers for each centroid with circle markers, a size of 200, \n",
    "#and black edges. The label includes the centroid number.\n",
    "\n",
    "\n",
    "for i, centroid in enumerate(centroids):\n",
    "    plt.scatter(centroid[0], centroid[1], marker='o', s=200, edgecolors='k', label=f'Centroid {i + 1}')\n",
    "\n",
    "# Adding Legend:\n",
    "# It adds a legend to the plot based on the labels specified in the loop that\n",
    "# plots centroids.\n",
    "\n",
    "plt.legend()\n",
    "\n",
    "# To show the Plot:\n",
    "\n",
    "plt.show()"
   ]
  },
  {
   "cell_type": "markdown",
   "id": "5294c2fd",
   "metadata": {},
   "source": [
    "#### The overall purpose of the code is to demonstrate the results of KMeans clustering on the generated data by visualizing the data points and cluster centroids."
   ]
  }
 ],
 "metadata": {
  "kernelspec": {
   "display_name": "Python 3 (ipykernel)",
   "language": "python",
   "name": "python3"
  },
  "language_info": {
   "codemirror_mode": {
    "name": "ipython",
    "version": 3
   },
   "file_extension": ".py",
   "mimetype": "text/x-python",
   "name": "python",
   "nbconvert_exporter": "python",
   "pygments_lexer": "ipython3",
   "version": "3.9.17"
  }
 },
 "nbformat": 4,
 "nbformat_minor": 5
}
