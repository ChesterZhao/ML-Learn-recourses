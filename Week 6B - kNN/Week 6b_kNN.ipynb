{
 "cells": [
  {
   "cell_type": "code",
   "execution_count": 1,
   "id": "49a1510a",
   "metadata": {
    "ExecuteTime": {
     "end_time": "2023-11-09T00:14:38.065826Z",
     "start_time": "2023-11-09T00:14:37.932773Z"
    }
   },
   "outputs": [],
   "source": [
    "# Load the necessary libraries\n",
    "import pandas as pd\n",
    "import numpy as np\n",
    "import sklearn as sklearn"
   ]
  },
  {
   "cell_type": "code",
   "execution_count": 2,
   "id": "42424dce",
   "metadata": {
    "ExecuteTime": {
     "end_time": "2023-11-09T00:14:38.082078Z",
     "start_time": "2023-11-09T00:14:38.066923Z"
    }
   },
   "outputs": [
    {
     "data": {
      "text/plain": "    User ID  Gender  Age  EstimatedSalary  Purchased\n0  15624510    Male   19            19000          0\n1  15810944    Male   35            20000          0\n2  15668575  Female   26            43000          0\n3  15603246  Female   27            57000          0\n4  15804002    Male   19            76000          0",
      "text/html": "<div>\n<style scoped>\n    .dataframe tbody tr th:only-of-type {\n        vertical-align: middle;\n    }\n\n    .dataframe tbody tr th {\n        vertical-align: top;\n    }\n\n    .dataframe thead th {\n        text-align: right;\n    }\n</style>\n<table border=\"1\" class=\"dataframe\">\n  <thead>\n    <tr style=\"text-align: right;\">\n      <th></th>\n      <th>User ID</th>\n      <th>Gender</th>\n      <th>Age</th>\n      <th>EstimatedSalary</th>\n      <th>Purchased</th>\n    </tr>\n  </thead>\n  <tbody>\n    <tr>\n      <th>0</th>\n      <td>15624510</td>\n      <td>Male</td>\n      <td>19</td>\n      <td>19000</td>\n      <td>0</td>\n    </tr>\n    <tr>\n      <th>1</th>\n      <td>15810944</td>\n      <td>Male</td>\n      <td>35</td>\n      <td>20000</td>\n      <td>0</td>\n    </tr>\n    <tr>\n      <th>2</th>\n      <td>15668575</td>\n      <td>Female</td>\n      <td>26</td>\n      <td>43000</td>\n      <td>0</td>\n    </tr>\n    <tr>\n      <th>3</th>\n      <td>15603246</td>\n      <td>Female</td>\n      <td>27</td>\n      <td>57000</td>\n      <td>0</td>\n    </tr>\n    <tr>\n      <th>4</th>\n      <td>15804002</td>\n      <td>Male</td>\n      <td>19</td>\n      <td>76000</td>\n      <td>0</td>\n    </tr>\n  </tbody>\n</table>\n</div>"
     },
     "execution_count": 2,
     "metadata": {},
     "output_type": "execute_result"
    }
   ],
   "source": [
    "# Read the CSV data into a Pandas DataFrame\n",
    "df = pd.read_csv(\"Social_Network_Ads.csv\")\n",
    "\n",
    "# Display the first few rows of the DataFrame\n",
    "df.head()"
   ]
  },
  {
   "cell_type": "code",
   "execution_count": 3,
   "id": "9d07faa0",
   "metadata": {
    "ExecuteTime": {
     "end_time": "2023-11-09T00:14:38.148951Z",
     "start_time": "2023-11-09T00:14:38.080358Z"
    }
   },
   "outputs": [
    {
     "data": {
      "text/plain": "array([['Male', 19, 19000],\n       ['Male', 35, 20000],\n       ['Female', 26, 43000],\n       ...,\n       ['Female', 50, 20000],\n       ['Male', 36, 33000],\n       ['Female', 49, 36000]], dtype=object)"
     },
     "execution_count": 3,
     "metadata": {},
     "output_type": "execute_result"
    }
   ],
   "source": [
    "# Extract feature variables from the DataFrame\n",
    "X = df.iloc[:, [1, 2, 3]].values\n",
    "X"
   ]
  },
  {
   "cell_type": "code",
   "execution_count": 4,
   "id": "02867184",
   "metadata": {
    "ExecuteTime": {
     "end_time": "2023-11-09T00:14:38.153057Z",
     "start_time": "2023-11-09T00:14:38.102910Z"
    }
   },
   "outputs": [
    {
     "data": {
      "text/plain": "array([0, 0, 0, 0, 0, 0, 0, 1, 0, 0, 0, 0, 0, 0, 0, 0, 1, 1, 1, 1, 1, 1,\n       1, 1, 1, 1, 1, 1, 0, 0, 0, 1, 0, 0, 0, 0, 0, 0, 0, 0, 0, 0, 0, 0,\n       0, 0, 0, 0, 1, 0, 0, 0, 0, 0, 0, 0, 0, 0, 0, 0, 0, 0, 0, 1, 0, 0,\n       0, 0, 0, 0, 0, 0, 0, 0, 0, 1, 0, 0, 0, 0, 0, 0, 0, 0, 0, 1, 0, 0,\n       0, 0, 0, 0, 0, 0, 0, 0, 0, 1, 0, 0, 0, 0, 0, 1, 0, 0, 0, 0, 0, 0,\n       0, 0, 0, 0, 0, 0, 0, 0, 0, 0, 0, 0, 0, 0, 0, 0, 0, 0, 0, 0, 0, 0,\n       0, 0, 0, 0, 0, 1, 0, 0, 0, 0, 0, 0, 0, 0, 1, 0, 0, 0, 0, 0, 0, 0,\n       0, 0, 0, 0, 0, 1, 1, 0, 0, 0, 0, 0, 0, 0, 1, 0, 0, 0, 0, 0, 0, 0,\n       0, 0, 0, 0, 0, 0, 1, 0, 0, 0, 0, 0, 0, 0, 0, 0, 0, 0, 0, 0, 0, 0,\n       0, 0, 0, 0, 1, 0, 1, 0, 1, 0, 1, 0, 1, 1, 0, 0, 0, 1, 0, 0, 0, 1,\n       0, 1, 1, 1, 0, 0, 1, 1, 0, 1, 1, 0, 1, 1, 0, 1, 0, 0, 0, 1, 1, 0,\n       1, 1, 0, 1, 0, 1, 0, 1, 0, 0, 1, 1, 0, 1, 0, 0, 1, 1, 0, 1, 1, 0,\n       1, 1, 0, 0, 1, 0, 0, 1, 1, 1, 1, 1, 0, 1, 1, 1, 1, 0, 1, 1, 0, 1,\n       0, 1, 0, 1, 1, 1, 1, 0, 0, 0, 1, 1, 0, 1, 1, 1, 1, 1, 0, 0, 0, 1,\n       1, 0, 0, 1, 0, 1, 0, 1, 1, 0, 1, 0, 1, 1, 0, 1, 1, 0, 0, 0, 1, 1,\n       0, 1, 0, 0, 1, 0, 1, 0, 0, 1, 1, 0, 0, 1, 1, 0, 1, 1, 0, 0, 1, 0,\n       1, 0, 1, 1, 1, 0, 1, 0, 1, 1, 1, 0, 1, 1, 1, 1, 0, 1, 1, 1, 0, 1,\n       0, 1, 0, 0, 1, 1, 0, 1, 1, 1, 1, 1, 1, 0, 1, 1, 1, 1, 1, 1, 0, 1,\n       1, 1, 0, 1])"
     },
     "execution_count": 4,
     "metadata": {},
     "output_type": "execute_result"
    }
   ],
   "source": [
    "# Extract the target variable from the DataFrame\n",
    "y = df.iloc[:, -1].values\n",
    "y"
   ]
  },
  {
   "cell_type": "code",
   "execution_count": 5,
   "id": "b18939f1",
   "metadata": {
    "ExecuteTime": {
     "end_time": "2023-11-09T00:14:38.237535Z",
     "start_time": "2023-11-09T00:14:38.147343Z"
    }
   },
   "outputs": [
    {
     "data": {
      "text/plain": "array([[1, 19, 19000],\n       [1, 35, 20000],\n       [0, 26, 43000],\n       ...,\n       [0, 50, 20000],\n       [1, 36, 33000],\n       [0, 49, 36000]], dtype=object)"
     },
     "execution_count": 5,
     "metadata": {},
     "output_type": "execute_result"
    }
   ],
   "source": [
    "# Convert categorical data to numerical using LabelEncoder\n",
    "from sklearn.preprocessing import LabelEncoder\n",
    "\n",
    "le = LabelEncoder()\n",
    "X[:, 0] = le.fit_transform(X[:, 0])\n",
    "X"
   ]
  },
  {
   "cell_type": "code",
   "execution_count": 6,
   "id": "65573bff",
   "metadata": {
    "ExecuteTime": {
     "end_time": "2023-11-09T00:14:38.238952Z",
     "start_time": "2023-11-09T00:14:38.235607Z"
    }
   },
   "outputs": [
    {
     "data": {
      "text/plain": "(400,)"
     },
     "execution_count": 6,
     "metadata": {},
     "output_type": "execute_result"
    }
   ],
   "source": [
    "# Check the shape of the target variable\n",
    "y.shape"
   ]
  },
  {
   "cell_type": "code",
   "execution_count": 7,
   "id": "893ec5cb",
   "metadata": {
    "ExecuteTime": {
     "end_time": "2023-11-09T00:14:38.244071Z",
     "start_time": "2023-11-09T00:14:38.239832Z"
    }
   },
   "outputs": [
    {
     "data": {
      "text/plain": "array([[ 1.02020406, -1.78179743, -1.49004624],\n       [ 1.02020406, -0.25358736, -1.46068138],\n       [-0.98019606, -1.11320552, -0.78528968],\n       ...,\n       [-0.98019606,  1.17910958, -1.46068138],\n       [ 1.02020406, -0.15807423, -1.07893824],\n       [-0.98019606,  1.08359645, -0.99084367]])"
     },
     "execution_count": 7,
     "metadata": {},
     "output_type": "execute_result"
    }
   ],
   "source": [
    "# Standardize the feature variables\n",
    "from sklearn.preprocessing import StandardScaler\n",
    "\n",
    "sc = StandardScaler()\n",
    "X = sc.fit_transform(X)\n",
    "X"
   ]
  },
  {
   "cell_type": "code",
   "execution_count": 8,
   "id": "b1d6819a",
   "metadata": {
    "ExecuteTime": {
     "end_time": "2023-11-09T00:14:38.363048Z",
     "start_time": "2023-11-09T00:14:38.244325Z"
    }
   },
   "outputs": [],
   "source": [
    "# Split the data into training and testing sets\n",
    "from sklearn.model_selection import train_test_split\n",
    "\n",
    "X_train, X_test, y_train, y_test = train_test_split(X, y, test_size=0.20, random_state=0)"
   ]
  },
  {
   "cell_type": "code",
   "execution_count": 9,
   "id": "13f1ffc0",
   "metadata": {
    "ExecuteTime": {
     "end_time": "2023-11-09T00:14:38.523415Z",
     "start_time": "2023-11-09T00:14:38.363550Z"
    }
   },
   "outputs": [
    {
     "data": {
      "text/plain": "KNeighborsClassifier(metric='manhattan')",
      "text/html": "<style>#sk-container-id-1 {color: black;}#sk-container-id-1 pre{padding: 0;}#sk-container-id-1 div.sk-toggleable {background-color: white;}#sk-container-id-1 label.sk-toggleable__label {cursor: pointer;display: block;width: 100%;margin-bottom: 0;padding: 0.3em;box-sizing: border-box;text-align: center;}#sk-container-id-1 label.sk-toggleable__label-arrow:before {content: \"▸\";float: left;margin-right: 0.25em;color: #696969;}#sk-container-id-1 label.sk-toggleable__label-arrow:hover:before {color: black;}#sk-container-id-1 div.sk-estimator:hover label.sk-toggleable__label-arrow:before {color: black;}#sk-container-id-1 div.sk-toggleable__content {max-height: 0;max-width: 0;overflow: hidden;text-align: left;background-color: #f0f8ff;}#sk-container-id-1 div.sk-toggleable__content pre {margin: 0.2em;color: black;border-radius: 0.25em;background-color: #f0f8ff;}#sk-container-id-1 input.sk-toggleable__control:checked~div.sk-toggleable__content {max-height: 200px;max-width: 100%;overflow: auto;}#sk-container-id-1 input.sk-toggleable__control:checked~label.sk-toggleable__label-arrow:before {content: \"▾\";}#sk-container-id-1 div.sk-estimator input.sk-toggleable__control:checked~label.sk-toggleable__label {background-color: #d4ebff;}#sk-container-id-1 div.sk-label input.sk-toggleable__control:checked~label.sk-toggleable__label {background-color: #d4ebff;}#sk-container-id-1 input.sk-hidden--visually {border: 0;clip: rect(1px 1px 1px 1px);clip: rect(1px, 1px, 1px, 1px);height: 1px;margin: -1px;overflow: hidden;padding: 0;position: absolute;width: 1px;}#sk-container-id-1 div.sk-estimator {font-family: monospace;background-color: #f0f8ff;border: 1px dotted black;border-radius: 0.25em;box-sizing: border-box;margin-bottom: 0.5em;}#sk-container-id-1 div.sk-estimator:hover {background-color: #d4ebff;}#sk-container-id-1 div.sk-parallel-item::after {content: \"\";width: 100%;border-bottom: 1px solid gray;flex-grow: 1;}#sk-container-id-1 div.sk-label:hover label.sk-toggleable__label {background-color: #d4ebff;}#sk-container-id-1 div.sk-serial::before {content: \"\";position: absolute;border-left: 1px solid gray;box-sizing: border-box;top: 0;bottom: 0;left: 50%;z-index: 0;}#sk-container-id-1 div.sk-serial {display: flex;flex-direction: column;align-items: center;background-color: white;padding-right: 0.2em;padding-left: 0.2em;position: relative;}#sk-container-id-1 div.sk-item {position: relative;z-index: 1;}#sk-container-id-1 div.sk-parallel {display: flex;align-items: stretch;justify-content: center;background-color: white;position: relative;}#sk-container-id-1 div.sk-item::before, #sk-container-id-1 div.sk-parallel-item::before {content: \"\";position: absolute;border-left: 1px solid gray;box-sizing: border-box;top: 0;bottom: 0;left: 50%;z-index: -1;}#sk-container-id-1 div.sk-parallel-item {display: flex;flex-direction: column;z-index: 1;position: relative;background-color: white;}#sk-container-id-1 div.sk-parallel-item:first-child::after {align-self: flex-end;width: 50%;}#sk-container-id-1 div.sk-parallel-item:last-child::after {align-self: flex-start;width: 50%;}#sk-container-id-1 div.sk-parallel-item:only-child::after {width: 0;}#sk-container-id-1 div.sk-dashed-wrapped {border: 1px dashed gray;margin: 0 0.4em 0.5em 0.4em;box-sizing: border-box;padding-bottom: 0.4em;background-color: white;}#sk-container-id-1 div.sk-label label {font-family: monospace;font-weight: bold;display: inline-block;line-height: 1.2em;}#sk-container-id-1 div.sk-label-container {text-align: center;}#sk-container-id-1 div.sk-container {/* jupyter's `normalize.less` sets `[hidden] { display: none; }` but bootstrap.min.css set `[hidden] { display: none !important; }` so we also need the `!important` here to be able to override the default hidden behavior on the sphinx rendered scikit-learn.org. See: https://github.com/scikit-learn/scikit-learn/issues/21755 */display: inline-block !important;position: relative;}#sk-container-id-1 div.sk-text-repr-fallback {display: none;}</style><div id=\"sk-container-id-1\" class=\"sk-top-container\"><div class=\"sk-text-repr-fallback\"><pre>KNeighborsClassifier(metric=&#x27;manhattan&#x27;)</pre><b>In a Jupyter environment, please rerun this cell to show the HTML representation or trust the notebook. <br />On GitHub, the HTML representation is unable to render, please try loading this page with nbviewer.org.</b></div><div class=\"sk-container\" hidden><div class=\"sk-item\"><div class=\"sk-estimator sk-toggleable\"><input class=\"sk-toggleable__control sk-hidden--visually\" id=\"sk-estimator-id-1\" type=\"checkbox\" checked><label for=\"sk-estimator-id-1\" class=\"sk-toggleable__label sk-toggleable__label-arrow\">KNeighborsClassifier</label><div class=\"sk-toggleable__content\"><pre>KNeighborsClassifier(metric=&#x27;manhattan&#x27;)</pre></div></div></div></div></div>"
     },
     "execution_count": 9,
     "metadata": {},
     "output_type": "execute_result"
    }
   ],
   "source": [
    "# Import and create a K-Nearest Neighbors (KNN) classifier\n",
    "from sklearn.neighbors import KNeighborsClassifier\n",
    "\n",
    "classifier = KNeighborsClassifier(n_neighbors=5,\n",
    "                                  metric='manhattan')  #other metric could be 'cosine', 'euclidean', 'haversine', 'l2', 'l1', \n",
    "classifier.fit(X_train, y_train)"
   ]
  },
  {
   "cell_type": "code",
   "execution_count": 10,
   "id": "a1d36500",
   "metadata": {
    "ExecuteTime": {
     "end_time": "2023-11-09T00:14:38.529141Z",
     "start_time": "2023-11-09T00:14:38.524640Z"
    }
   },
   "outputs": [],
   "source": [
    "# Make predictions on the test data\n",
    "y_pred = classifier.predict(X_test)"
   ]
  },
  {
   "cell_type": "code",
   "execution_count": 11,
   "id": "348a26ac",
   "metadata": {
    "ExecuteTime": {
     "end_time": "2023-11-09T00:14:38.534077Z",
     "start_time": "2023-11-09T00:14:38.529272Z"
    }
   },
   "outputs": [
    {
     "data": {
      "text/plain": "0.95"
     },
     "execution_count": 11,
     "metadata": {},
     "output_type": "execute_result"
    }
   ],
   "source": [
    "from sklearn.metrics import confusion_matrix, accuracy_score\n",
    "\n",
    "ac = accuracy_score(y_test, y_pred)\n",
    "ac"
   ]
  },
  {
   "cell_type": "code",
   "execution_count": 12,
   "id": "ff98672b",
   "metadata": {
    "ExecuteTime": {
     "end_time": "2023-11-09T00:14:38.539613Z",
     "start_time": "2023-11-09T00:14:38.536778Z"
    }
   },
   "outputs": [],
   "source": [
    "# Calculate the accuracy score of the classifier\n",
    "\n",
    "cm = confusion_matrix(y_test, y_pred)"
   ]
  },
  {
   "cell_type": "code",
   "execution_count": 13,
   "id": "795a8571",
   "metadata": {
    "ExecuteTime": {
     "end_time": "2023-11-09T00:14:38.643143Z",
     "start_time": "2023-11-09T00:14:38.540995Z"
    }
   },
   "outputs": [
    {
     "data": {
      "text/plain": "<Figure size 500x500 with 2 Axes>",
      "image/png": "[encoded data removed]"
     },
     "metadata": {},
     "output_type": "display_data"
    }
   ],
   "source": [
    "# Display the confusion matrix as a heatmap\n",
    "%matplotlib inline\n",
    "import matplotlib.pyplot as plt\n",
    "import seaborn as sn\n",
    "\n",
    "plt.figure(figsize=(5, 5))\n",
    "sn.heatmap(cm, annot=True)\n",
    "plt.title('Confusion Matrix')\n",
    "plt.xlabel('Predicted')\n",
    "plt.ylabel('Truth')\n",
    "plt.show()"
   ]
  },
  {
   "cell_type": "markdown",
   "id": "347fd10f",
   "metadata": {},
   "source": [
    "## Explanation of the code above:\n",
    "\n",
    "This code above performs classification using the k-Nearest Neighbors (KNN) algorithm on a social network advertisement dataset. Follow the explanation of the step by step line of each code done:\n",
    "\n",
    "1. Import necessary libraries:\n",
    "   - `import pandas as pd`: Imports the Pandas library, commonly used for data manipulation and analysis.\n",
    "   - `import numpy as np`: Imports the NumPy library, which is often used for numerical computations.\n",
    "   - `import sklearn as sklearn`: Imports the scikit-learn library, which is used for machine learning tasks.\n",
    "\n",
    "3. Read a CSV file into a Pandas DataFrame:\n",
    "   - `df = pd.read_csv(\"Social_Network_Ads.csv\")`: Loads a CSV file named \"Social_Network_Ads.csv\" into a Pandas DataFrame called `df`.\n",
    "\n",
    "5. Display the first few rows of the DataFrame:\n",
    "   - `df.head()`: Prints the first few rows of the DataFrame to the console.\n",
    "\n",
    "7. Extract feature variables from the DataFrame:\n",
    "   - `X = df.iloc[:, [1, 2, 3]].values`: Selects columns 1, 2, and 3 from the DataFrame `df` and converts them into a NumPy array, which represents the feature variables. The `iloc` method is used to select rows and columns from the DataFrame.\n",
    "\n",
    "9. Extract the target variable from the DataFrame:\n",
    "   - `y = df.iloc[:, -1].values`: Selects the last column of the DataFrame `df` and converts it into a NumPy array. This represents the target variable.\n",
    "\n",
    "11. Convert categorical data to numerical data:\n",
    "    - `from sklearn.preprocessing import LabelEncoder`: Import the `LabelEncoder` class from scikit-learn.\n",
    "    - `le = LabelEncoder()`: Create a `LabelEncoder` instance called `le`.\n",
    "    - `X[:, 0] = le.fit_transform(X[:, 0])`: Encode the categorical data in the first column of the feature variables `X` to numerical values using the `fit_transform` method.\n",
    "\n",
    "13. Check the shape of the target variable `y`:\n",
    "    - `y.shape`: This line doesn't modify the data but checks and displays the shape (number of elements) of the `y` array.\n",
    "\n",
    "15. Standardize the feature variables:\n",
    "    - `from sklearn.preprocessing import StandardScaler`: Import the `StandardScaler` class from scikit-learn.\n",
    "    - `sc = StandardScaler()`: Create a `StandardScaler` instance called `sc`.\n",
    "    - `X = sc.fit_transform(X)`: Standardize the feature variables `X` using the `fit_transform` method, making their mean 0 and standard deviation 1.\n",
    "\n",
    "17. Split the data into training and testing sets:\n",
    "    - `from sklearn.model_selection import train_test_split`: Import the `train_test_split` function from scikit-learn.\n",
    "    - `X_train, X_test, y_train, y_test = train_test_split(X, y, test_size=0.20, random_state=0)`: Split the standardized feature variables (`X`) and target variable (`y`) into training and testing sets. The `test_size` parameter specifies that 20% of the data will be used for testing, and the `random_state` parameter sets a random seed for reproducibility.\n",
    "\n",
    "19. Display the valid metrics for the KNN algorithm:\n",
    "    - `sklearn.neighbors.VALID_METRICS['brute']`: This line seems to be an attempt to check the valid metrics for the 'brute' KNN algorithm, but it doesn't actually affect the code's functionality.\n",
    "\n",
    "21. Import and create a K-Nearest Neighbors (KNN) classifier:\n",
    "    - `from sklearn.neighbors import KNeighborsClassifier`: Import the `KNeighborsClassifier` class from scikit-learn.\n",
    "    - `classifier = KNeighborsClassifier(n_neighbors=5, metric='manhattan')`: Create a KNN classifier instance with 5 neighbors and using the 'manhattan' distance metric.\n",
    "    - `classifier.fit(X_train, y_train)`: Fit the KNN classifier to the training data.\n",
    "\n",
    "23. Make predictions on the test data:\n",
    "    - `y_pred = classifier.predict(X_test)`: Use the trained KNN classifier to make predictions on the test data and store the results in `y_pred`.\n",
    "\n",
    "25. Calculate the accuracy score of the classifier:\n",
    "    - `ac = accuracy_score(y_test, y_pred)`: Calculate the accuracy score by comparing the predicted values (`y_pred`) with the true values (`y_test`) from the testing set.\n",
    "\n",
    "27. Import libraries for creating a confusion matrix and visualization:\n",
    "    - `from sklearn.metrics import confusion_matrix, accuracy_score`: Import the `confusion_matrix` and `accuracy_score` functions from scikit-learn.\n",
    "    - `cm = confusion_matrix(y_test, y_pred)`: Create a confusion matrix using the true labels (`y_test`) and predicted labels (`y_pred`).\n",
    "\n",
    "29. Plot a heatmap of the confusion matrix:\n",
    "    - `%matplotlib inline`: This line is often used in Jupyter Notebook to display plots within the notebook.\n",
    "    - `import matplotlib.pyplot as plt`: Import the `matplotlib` library for creating plots.\n",
    "    - `import seaborn as sn`: Import the `seaborn` library for data visualization.\n",
    "    - `plt.figure(figsize=(10, 7))`: Create a figure with a specific size for the heatmap.\n",
    "    - `sn.heatmap(cm, annot=True)`: Plot a heatmap of the confusion matrix with annotations.\n",
    "    - `plt.xlabel('Predicted')` and `plt.ylabel('Truth')`: Add labels to the heatmap to indicate the predicted and true values.\n",
    "    - `plt.title('Confusion Matrix')`: Add title to the confusion matrix"
   ]
  },
  {
   "cell_type": "code",
   "execution_count": 13,
   "id": "11b45909",
   "metadata": {
    "ExecuteTime": {
     "end_time": "2023-11-09T00:14:38.647963Z",
     "start_time": "2023-11-09T00:14:38.643409Z"
    }
   },
   "outputs": [],
   "source": []
  }
 ],
 "metadata": {
  "kernelspec": {
   "display_name": "Python 3 (ipykernel)",
   "language": "python",
   "name": "python3"
  },
  "language_info": {
   "codemirror_mode": {
    "name": "ipython",
    "version": 3
   },
   "file_extension": ".py",
   "mimetype": "text/x-python",
   "name": "python",
   "nbconvert_exporter": "python",
   "pygments_lexer": "ipython3",
   "version": "3.9.17"
  }
 },
 "nbformat": 4,
 "nbformat_minor": 5
}
