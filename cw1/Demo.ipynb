{
 "cells": [
  {
   "cell_type": "code",
   "execution_count": 18,
   "id": "initial_id",
   "metadata": {
    "collapsed": true,
    "ExecuteTime": {
     "end_time": "2023-11-13T06:56:08.148893Z",
     "start_time": "2023-11-13T06:56:08.140223Z"
    }
   },
   "outputs": [],
   "source": [
    "import numpy as np\n",
    "import tensorflow as tf\n",
    "from keras import Sequential"
   ]
  },
  {
   "cell_type": "markdown",
   "source": [
    "# KNN coursework"
   ],
   "metadata": {
    "collapsed": false
   },
   "id": "1dd99720c6dd8b90"
  },
  {
   "cell_type": "code",
   "execution_count": 19,
   "outputs": [
    {
     "data": {
      "text/plain": "array([3., 4., 5.], dtype=float32)"
     },
     "execution_count": 19,
     "metadata": {},
     "output_type": "execute_result"
    }
   ],
   "source": [
    "X_train = np.array([0., 1, 2, 3, 4, 5], dtype=np.float32).reshape(-1,1)  # 2-D Matrix\n",
    "Y_train = np.array([0,  0, 0, 1, 1, 1], dtype=np.float32).reshape(-1,1)  # 2-D Matrix\n",
    "\n",
    "# 创建布尔索引\n",
    "pos = Y_train == 1 \n",
    "neg = Y_train == 0\n",
    "\n",
    "X_train[pos]"
   ],
   "metadata": {
    "collapsed": false,
    "ExecuteTime": {
     "end_time": "2023-11-13T06:56:08.175604Z",
     "start_time": "2023-11-13T06:56:08.151776Z"
    }
   },
   "id": "98f25e39c77036e3"
  },
  {
   "cell_type": "code",
   "execution_count": 20,
   "outputs": [
    {
     "name": "stdout",
     "output_type": "stream",
     "text": [
      "Model: \"sequential_1\"\n",
      "_________________________________________________________________\n",
      " Layer (type)                Output Shape              Param #   \n",
      "=================================================================\n",
      " L1 (Dense)                  (None, 1)                 2         \n",
      "                                                                 \n",
      "=================================================================\n",
      "Total params: 2 (8.00 Byte)\n",
      "Trainable params: 2 (8.00 Byte)\n",
      "Non-trainable params: 0 (0.00 Byte)\n",
      "_________________________________________________________________\n"
     ]
    }
   ],
   "source": [
    "'''\n",
    "第一个参数 (1): 这是该层的单元（或神经元）数量。在这个例子中，1 表示该层只有一个神经元。\n",
    "input_dim=1: 这个参数指定输入数据的维度。在这个例子中，input_dim=1 表示每个输入样本是一维的。这通常用于模型的第一层，以告诉模型输入数据的形状。\n",
    "activation='sigmoid': 这个参数定义了激活函数，用于决定神经元的输出。'sigmoid' 是一种常用的激活函数，它将输入值映射到 (0, 1) 范围内，常用于二元分类问题的输出层。\n",
    "name='L1': 这个参数为层提供了一个名称。在这个例子中，层被命名为 'L1'。这对于在后续处理中引用或调试特定层非常有用。\n",
    "'''\n",
    "model = Sequential(\n",
    "    [\n",
    "        tf.keras.layers.Dense(1, input_dim=1,  activation = 'sigmoid', name='L1')\n",
    "    ]\n",
    ")\n",
    "\n",
    "model.summary()"
   ],
   "metadata": {
    "collapsed": false,
    "ExecuteTime": {
     "end_time": "2023-11-13T06:56:08.188867Z",
     "start_time": "2023-11-13T06:56:08.159599Z"
    }
   },
   "id": "bcae1500a6c129b7"
  },
  {
   "cell_type": "code",
   "execution_count": 21,
   "outputs": [
    {
     "name": "stdout",
     "output_type": "stream",
     "text": [
      "[[-0.95140016]] [0.]\n"
     ]
    }
   ],
   "source": [
    "logistic_layer = model.get_layer(\"L1\")\n",
    "w, b = logistic_layer.get_weights()\n",
    "print(w, b)"
   ],
   "metadata": {
    "collapsed": false,
    "ExecuteTime": {
     "end_time": "2023-11-13T06:56:08.189593Z",
     "start_time": "2023-11-13T06:56:08.171765Z"
    }
   },
   "id": "4b3dc6d2057f7f73"
  },
  {
   "cell_type": "code",
   "execution_count": 22,
   "outputs": [],
   "source": [
    "set_w = np.array([[2]])\n",
    "set_b = np.array([-4.5])\n",
    "# 设置w，b\n",
    "logistic_layer.set_weights([set_w, set_b])"
   ],
   "metadata": {
    "collapsed": false,
    "ExecuteTime": {
     "end_time": "2023-11-13T06:56:08.190125Z",
     "start_time": "2023-11-13T06:56:08.178108Z"
    }
   },
   "id": "993be707a6eb3f88"
  },
  {
   "cell_type": "code",
   "execution_count": 23,
   "outputs": [
    {
     "name": "stdout",
     "output_type": "stream",
     "text": [
      "1/1 [==============================] - 0s 52ms/step\n"
     ]
    },
    {
     "name": "stderr",
     "output_type": "stream",
     "text": [
      "2023-11-13 14:56:08.207881: I tensorflow/core/grappler/optimizers/custom_graph_optimizer_registry.cc:114] Plugin optimizer for device_type GPU is enabled.\n"
     ]
    }
   ],
   "source": [
    "a1 = model.predict(X_train[0].reshape(1, 1))"
   ],
   "metadata": {
    "collapsed": false,
    "ExecuteTime": {
     "end_time": "2023-11-13T06:56:08.253467Z",
     "start_time": "2023-11-13T06:56:08.184581Z"
    }
   },
   "id": "7a4f9895e3ccdaf1"
  },
  {
   "cell_type": "code",
   "execution_count": 24,
   "outputs": [
    {
     "name": "stdout",
     "output_type": "stream",
     "text": [
      "[[0.01098694]]\n"
     ]
    }
   ],
   "source": [
    "print(a1)"
   ],
   "metadata": {
    "collapsed": false,
    "ExecuteTime": {
     "end_time": "2023-11-13T06:56:08.255924Z",
     "start_time": "2023-11-13T06:56:08.253632Z"
    }
   },
   "id": "216555f72e6d0458"
  }
 ],
 "metadata": {
  "kernelspec": {
   "display_name": "Python 3",
   "language": "python",
   "name": "python3"
  },
  "language_info": {
   "codemirror_mode": {
    "name": "ipython",
    "version": 2
   },
   "file_extension": ".py",
   "mimetype": "text/x-python",
   "name": "python",
   "nbconvert_exporter": "python",
   "pygments_lexer": "ipython2",
   "version": "2.7.6"
  }
 },
 "nbformat": 4,
 "nbformat_minor": 5
}
