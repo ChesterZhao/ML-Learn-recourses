{
 "cells": [
  {
   "cell_type": "markdown",
   "id": "e8c663e28e90180e",
   "metadata": {},
   "source": [
    "# Linear Regression"
   ]
  },
  {
   "cell_type": "code",
   "execution_count": 21,
   "id": "ddc0cad456625686",
   "metadata": {
    "ExecuteTime": {
     "end_time": "2023-11-21T09:34:54.513406Z",
     "start_time": "2023-11-21T09:34:54.468913Z"
    }
   },
   "outputs": [],
   "source": [
    "import pandas as pd\n",
    "import numpy as np\n",
    "import matplotlib.pyplot as plt\n",
    "from sklearn.model_selection import train_test_split"
   ]
  },
  {
   "cell_type": "markdown",
   "id": "67a7833e90ac87c1",
   "metadata": {},
   "source": [
    "# 1. Data preprocessing\n",
    "- I'll use the bike sharing dataset from UCI Machine Learning Repository.\n",
    "- The dataset contains the hourly count of rental bikes between years 2017 and 2018 in the Capital Bikeshare system with the corresponding weather and seasonal information.\n",
    "- First I should convert the data to a usable format, like change the holiday and functioning day  and holiday to 0 and 1\n",
    "- Also I should convert the season and month to one-hot encoding, then I can use the data to train the model."
   ]
  },
  {
   "cell_type": "code",
   "execution_count": 22,
   "id": "e20366bad4f35ce5",
   "metadata": {
    "ExecuteTime": {
     "end_time": "2023-11-21T09:34:54.562447Z",
     "start_time": "2023-11-21T09:34:54.471965Z"
    }
   },
   "outputs": [],
   "source": [
    "dataset_cols = [\"bike_count\", \"hour\", \"temp\", \"humidity\", \"wind\", \"visibility\", \"dew_pt_temp\", \"radiation\", \"rain\", \"snow\", \"functional\"]\n",
    "bike_data = pd.read_csv('./SeoulBikeData.csv').drop([\"Date\", \"Holiday\", \"Seasons\"], axis=1)\n",
    "\n",
    "bike_data.columns = dataset_cols"
   ]
  },
  {
   "cell_type": "markdown",
   "source": [
    "# 3. Data Visualization\n",
    "- I'll visualize the data to get a better understanding of the data.\n",
    "- I used the scatter plot to visualize the relationship between the features and the label."
   ],
   "metadata": {
    "collapsed": false
   },
   "id": "f89b7ddfa0820fab"
  },
  {
   "cell_type": "code",
   "execution_count": 23,
   "outputs": [],
   "source": [
    "# for label in bike_data.columns[1:]:\n",
    "#   plt.scatter(bike_data[label], bike_data[\"bike_count\"])\n",
    "#   plt.title(label)\n",
    "#   plt.ylabel(\"Bike Count at Noon\")\n",
    "#   plt.xlabel(label)\n",
    "#   plt.show()"
   ],
   "metadata": {
    "collapsed": false,
    "ExecuteTime": {
     "end_time": "2023-11-21T09:34:54.564217Z",
     "start_time": "2023-11-21T09:34:54.482690Z"
    }
   },
   "id": "bcc522b5256cf179"
  },
  {
   "cell_type": "markdown",
   "source": [
    "# 3.1 Correlation"
   ],
   "metadata": {
    "collapsed": false
   },
   "id": "5674f475fa49a2f9"
  },
  {
   "cell_type": "code",
   "execution_count": 24,
   "outputs": [
    {
     "data": {
      "text/plain": "   bike_count  temp  humidity  dew_pt_temp  radiation  rain  snow\n0         254  -5.2        37        -17.6        0.0   0.0   0.0\n1         204  -5.5        38        -17.6        0.0   0.0   0.0\n2         173  -6.0        39        -17.7        0.0   0.0   0.0\n3         107  -6.2        40        -17.6        0.0   0.0   0.0\n4          78  -6.0        36        -18.6        0.0   0.0   0.0",
      "text/html": "<div>\n<style scoped>\n    .dataframe tbody tr th:only-of-type {\n        vertical-align: middle;\n    }\n\n    .dataframe tbody tr th {\n        vertical-align: top;\n    }\n\n    .dataframe thead th {\n        text-align: right;\n    }\n</style>\n<table border=\"1\" class=\"dataframe\">\n  <thead>\n    <tr style=\"text-align: right;\">\n      <th></th>\n      <th>bike_count</th>\n      <th>temp</th>\n      <th>humidity</th>\n      <th>dew_pt_temp</th>\n      <th>radiation</th>\n      <th>rain</th>\n      <th>snow</th>\n    </tr>\n  </thead>\n  <tbody>\n    <tr>\n      <th>0</th>\n      <td>254</td>\n      <td>-5.2</td>\n      <td>37</td>\n      <td>-17.6</td>\n      <td>0.0</td>\n      <td>0.0</td>\n      <td>0.0</td>\n    </tr>\n    <tr>\n      <th>1</th>\n      <td>204</td>\n      <td>-5.5</td>\n      <td>38</td>\n      <td>-17.6</td>\n      <td>0.0</td>\n      <td>0.0</td>\n      <td>0.0</td>\n    </tr>\n    <tr>\n      <th>2</th>\n      <td>173</td>\n      <td>-6.0</td>\n      <td>39</td>\n      <td>-17.7</td>\n      <td>0.0</td>\n      <td>0.0</td>\n      <td>0.0</td>\n    </tr>\n    <tr>\n      <th>3</th>\n      <td>107</td>\n      <td>-6.2</td>\n      <td>40</td>\n      <td>-17.6</td>\n      <td>0.0</td>\n      <td>0.0</td>\n      <td>0.0</td>\n    </tr>\n    <tr>\n      <th>4</th>\n      <td>78</td>\n      <td>-6.0</td>\n      <td>36</td>\n      <td>-18.6</td>\n      <td>0.0</td>\n      <td>0.0</td>\n      <td>0.0</td>\n    </tr>\n  </tbody>\n</table>\n</div>"
     },
     "execution_count": 24,
     "metadata": {},
     "output_type": "execute_result"
    }
   ],
   "source": [
    "bike_data[\"functional\"] = (bike_data[\"functional\"] == \"Yes\").astype(int)\n",
    "# bike_data = bike_data[bike_data[\"hour\"] == 12]\n",
    "bike_data = bike_data.drop([\"hour\", \"wind\", \"visibility\", \"functional\"], axis=1)\n",
    "bike_data.head()"
   ],
   "metadata": {
    "collapsed": false,
    "ExecuteTime": {
     "end_time": "2023-11-21T09:34:54.618208Z",
     "start_time": "2023-11-21T09:34:54.489555Z"
    }
   },
   "id": "960f5e1e288b3f87"
  },
  {
   "cell_type": "markdown",
   "source": [
    "# 2. Data Scaled\n",
    "- I need scale the data before training the model. I'll use the min-max scaler to scale the data."
   ],
   "metadata": {
    "collapsed": false
   },
   "id": "6a28587f43e6b56c"
  },
  {
   "cell_type": "code",
   "execution_count": 25,
   "outputs": [
    {
     "data": {
      "text/plain": "   bike_count      temp  humidity  dew_pt_temp  radiation      rain      snow\n0         254 -1.513871 -1.042423    -1.659510  -0.655094 -0.131792 -0.171881\n1         204 -1.538986 -0.993313    -1.659510  -0.655094 -0.131792 -0.171881\n2         173 -1.580845 -0.944203    -1.667167  -0.655094 -0.131792 -0.171881\n3         107 -1.597589 -0.895093    -1.659510  -0.655094 -0.131792 -0.171881\n4          78 -1.580845 -1.091533    -1.736077  -0.655094 -0.131792 -0.171881",
      "text/html": "<div>\n<style scoped>\n    .dataframe tbody tr th:only-of-type {\n        vertical-align: middle;\n    }\n\n    .dataframe tbody tr th {\n        vertical-align: top;\n    }\n\n    .dataframe thead th {\n        text-align: right;\n    }\n</style>\n<table border=\"1\" class=\"dataframe\">\n  <thead>\n    <tr style=\"text-align: right;\">\n      <th></th>\n      <th>bike_count</th>\n      <th>temp</th>\n      <th>humidity</th>\n      <th>dew_pt_temp</th>\n      <th>radiation</th>\n      <th>rain</th>\n      <th>snow</th>\n    </tr>\n  </thead>\n  <tbody>\n    <tr>\n      <th>0</th>\n      <td>254</td>\n      <td>-1.513871</td>\n      <td>-1.042423</td>\n      <td>-1.659510</td>\n      <td>-0.655094</td>\n      <td>-0.131792</td>\n      <td>-0.171881</td>\n    </tr>\n    <tr>\n      <th>1</th>\n      <td>204</td>\n      <td>-1.538986</td>\n      <td>-0.993313</td>\n      <td>-1.659510</td>\n      <td>-0.655094</td>\n      <td>-0.131792</td>\n      <td>-0.171881</td>\n    </tr>\n    <tr>\n      <th>2</th>\n      <td>173</td>\n      <td>-1.580845</td>\n      <td>-0.944203</td>\n      <td>-1.667167</td>\n      <td>-0.655094</td>\n      <td>-0.131792</td>\n      <td>-0.171881</td>\n    </tr>\n    <tr>\n      <th>3</th>\n      <td>107</td>\n      <td>-1.597589</td>\n      <td>-0.895093</td>\n      <td>-1.659510</td>\n      <td>-0.655094</td>\n      <td>-0.131792</td>\n      <td>-0.171881</td>\n    </tr>\n    <tr>\n      <th>4</th>\n      <td>78</td>\n      <td>-1.580845</td>\n      <td>-1.091533</td>\n      <td>-1.736077</td>\n      <td>-0.655094</td>\n      <td>-0.131792</td>\n      <td>-0.171881</td>\n    </tr>\n  </tbody>\n</table>\n</div>"
     },
     "execution_count": 25,
     "metadata": {},
     "output_type": "execute_result"
    }
   ],
   "source": [
    "# We will standardize all the features except 'Rented Bike Count'\n",
    "features_to_standardize = [\"temp\", \"humidity\", \"dew_pt_temp\", \"radiation\", \"rain\", \"snow\"]\n",
    "\n",
    "# Standardize the features\n",
    "for feature in features_to_standardize:\n",
    "    mean = bike_data[feature].mean()\n",
    "    std = bike_data[feature].std()\n",
    "    bike_data[feature] = (bike_data[feature] - mean) / std\n",
    "    \n",
    "bike_data.head()"
   ],
   "metadata": {
    "collapsed": false,
    "ExecuteTime": {
     "end_time": "2023-11-21T09:34:54.621353Z",
     "start_time": "2023-11-21T09:34:54.494941Z"
    }
   },
   "id": "ce00e473d9ba62fb"
  },
  {
   "cell_type": "markdown",
   "id": "38b6af7d97587bf4",
   "metadata": {},
   "source": [
    "# 4. Linear Regression\n",
    "- In the class - LinearRegression, I'll implement the fit and predict methods.\n",
    "- The fit method will train the model using gradient descent."
   ]
  },
  {
   "cell_type": "code",
   "execution_count": 26,
   "id": "bbd11826646f67b",
   "metadata": {
    "ExecuteTime": {
     "end_time": "2023-11-21T09:34:54.622103Z",
     "start_time": "2023-11-21T09:34:54.505591Z"
    }
   },
   "outputs": [],
   "source": [
    "class LinearRegression:\n",
    "    \"\"\"\n",
    "    Linear Regression class.\n",
    "    :param learning_rate: The step length that will be taken when following the negative gradient during training.\n",
    "    :param iterations: The number of iterations to train the model.\n",
    "    :param w: The weights of the model.\n",
    "    :param b: The bias of the model.\n",
    "    :param cost_history: The cost history of the model which will be used to plot the cost over iterations.\n",
    "    \"\"\"\n",
    "\n",
    "    def __init__(self, learning_rate, iterations):\n",
    "        \"\"\"\n",
    "        Initializes the LinearRegression model with specified learning rate and number of iterations.\n",
    "        :param learning_rate: The learning rate for the model.\n",
    "        :param iterations: The number of iterations for which the model will be trained.\n",
    "        \"\"\"\n",
    "        self.learning_rate = learning_rate\n",
    "        self.iterations = iterations\n",
    "        self.w = None\n",
    "        self.b = None\n",
    "        self.cost_history = []\n",
    "\n",
    "    def _initialize_weights(self, n_features):\n",
    "        \"\"\"\n",
    "        Initializes weights and bias to zeros.\n",
    "        :param n_features: The number of features in the dataset.\n",
    "        \"\"\"\n",
    "        self.w = np.zeros(n_features)\n",
    "        self.b = 0\n",
    "\n",
    "    def _compute_cost(self, predictions, y):\n",
    "        \"\"\"\n",
    "        Computes the cost (mean squared error) between the predictions and the true values.\n",
    "        :param predictions: The predicted values from the model.\n",
    "        :param y: The actual target values.\n",
    "        :return: The computed mean squared error.\n",
    "        \"\"\"\n",
    "        cost = np.mean((predictions - y) ** 2) / 2\n",
    "        return cost\n",
    "\n",
    "    def _compute_gradients(self, X, y, predictions):\n",
    "        \"\"\"\n",
    "        Computes the gradients of the cost function with respect to the model parameters.\n",
    "        :param X: The input features.\n",
    "        :param y: The actual target values.\n",
    "        :param predictions: The predicted values from the model.\n",
    "        :return: The gradients with respect to weights and bias.\n",
    "        \"\"\"\n",
    "        n_samples = len(y)\n",
    "        dw = np.dot(X.T, (predictions - y)) / n_samples\n",
    "        db = np.sum(predictions - y) / n_samples\n",
    "        return dw, db\n",
    "\n",
    "    def _update_parameters(self, dw, db):\n",
    "        \"\"\"\n",
    "        Updates the model parameters using the computed gradients.\n",
    "        :param dw: The gradient with respect to weights.\n",
    "        :param db: The gradient with respect to bias.\n",
    "        \"\"\"\n",
    "        self.w -= self.learning_rate * dw\n",
    "        self.b -= self.learning_rate * db\n",
    "\n",
    "    def fit(self, X, y):\n",
    "        \"\"\"\n",
    "        Trains the Linear Regression model using gradient descent.\n",
    "        :param X: The input features for training.\n",
    "        :param y: The target values for training.\n",
    "        \"\"\"\n",
    "        n_samples, n_features = X.shape\n",
    "\n",
    "        # Initialize weights and bias\n",
    "        self._initialize_weights(n_features)\n",
    "\n",
    "        # Gradient Descent\n",
    "        for i in range(self.iterations):\n",
    "            # Predictions\n",
    "            predictions = self.predict(X)\n",
    "\n",
    "            # Compute the cost\n",
    "            cost = self._compute_cost(predictions, y)\n",
    "            self.cost_history.append(cost)\n",
    "            if i % 10000 == 0:\n",
    "                print(cost)\n",
    "\n",
    "            # Compute gradients\n",
    "            dw, db = self._compute_gradients(X, y, predictions)\n",
    "\n",
    "            # Update weights and bias\n",
    "            self._update_parameters(dw, db)\n",
    "        \n",
    "        print({'weights': self.w, 'bias': self.b})\n",
    "\n",
    "        return self\n",
    "\n",
    "    def predict(self, X):\n",
    "        \"\"\"\n",
    "        Makes predictions using the linear model.\n",
    "        :param X: The input features for making predictions.\n",
    "        :return: The predicted values.\n",
    "        \"\"\"\n",
    "        return np.dot(X, self.w) + self.b\n"
   ]
  },
  {
   "cell_type": "markdown",
   "id": "28a766155c80a7f0",
   "metadata": {},
   "source": [
    "# 5. Train the model\n",
    "- Now that I have implemented the LinearRegression class, I can train the model.\n",
    "- I'll use 80% of the data for training and 20% for testing.\n",
    "- Due the linear regression is regression but my data set is classification, so I need round the predictions to the nearest integer to simulate classification."
   ]
  },
  {
   "cell_type": "markdown",
   "id": "f40bfad6e09f1d13",
   "metadata": {},
   "source": [
    "## 5.1 Classify the data"
   ]
  },
  {
   "cell_type": "code",
   "execution_count": 27,
   "id": "dc8339e9bf11e73f",
   "metadata": {
    "ExecuteTime": {
     "end_time": "2023-11-21T09:34:54.622173Z",
     "start_time": "2023-11-21T09:34:54.509129Z"
    }
   },
   "outputs": [],
   "source": [
    "# Shuffle the data\n",
    "bike_data = bike_data.sample(frac=1, random_state=42)\n",
    "\n",
    "# Split the data\n",
    "X = bike_data.drop('bike_count', axis=1).values\n",
    "y = bike_data['bike_count'].values\n",
    "\n",
    "X_train, X_test, y_train, y_test = train_test_split(X, y, test_size=0.2, random_state=42)"
   ]
  },
  {
   "cell_type": "markdown",
   "id": "c871e7aa28b948e9",
   "metadata": {},
   "source": [
    "## 5.2 Train the model"
   ]
  },
  {
   "cell_type": "code",
   "execution_count": 28,
   "id": "e2f853e9e7f14eb",
   "metadata": {
    "ExecuteTime": {
     "end_time": "2023-11-21T09:35:15.222945Z",
     "start_time": "2023-11-21T09:34:54.527411Z"
    }
   },
   "outputs": [
    {
     "name": "stdout",
     "output_type": "stream",
     "text": [
      "460024.17437214614\n",
      "128576.04177740979\n",
      "128576.03039855442\n",
      "128576.0303977\n",
      "128576.03039769996\n",
      "{'weights': array([ 453.0281618 , -212.22421214,  -35.18979602,  -86.90404604,\n",
      "        -63.85070024,   20.23298491]), 'bias': 701.9945501577948}\n"
     ]
    }
   ],
   "source": [
    "linear_regression_model = LinearRegression(0.1, 50000)\n",
    "linear_regression_model.fit(X_train, y_train)\n",
    "\n",
    "cost_history = linear_regression_model.cost_history\n",
    "\n",
    "predictions = linear_regression_model.predict(X_test)"
   ]
  },
  {
   "cell_type": "markdown",
   "id": "9eae3f893a5eaaea",
   "metadata": {},
   "source": [
    "# 6. Evaluate the model\n",
    "## 6.1 Calculate the mse of the model\n",
    "MSE (Mean Squared Error) is calculated as follows:\n",
    "$$\n",
    "\\[ \\text{MSE} = \\frac{1}{n} \\sum_{i=1}^{n} (y_i - \\hat{y}_i)^2 \\]\n",
    "$$\n",
    "Where:\n",
    "\n",
    "- $\\( n \\)$ is the number of samples.\n",
    "- $\\( y_i \\)$ is the actual value.\n",
    "- $\\( \\hat{y}_i \\)$ is the predicted value.\n",
    "- $\\( (y_i - \\hat{y}_i)^2 \\)$ is the square of the difference between the actual and predicted values.\n"
   ]
  },
  {
   "cell_type": "code",
   "execution_count": 29,
   "id": "62ebaf59302e7ea2",
   "metadata": {
    "ExecuteTime": {
     "end_time": "2023-11-21T09:35:15.289911Z",
     "start_time": "2023-11-21T09:35:15.217144Z"
    }
   },
   "outputs": [
    {
     "name": "stdout",
     "output_type": "stream",
     "text": [
      "MSE: 236418.01\n"
     ]
    }
   ],
   "source": [
    "def mse(y_true, y_pred):\n",
    "    \"\"\"\n",
    "    The mse function is used to compute the mse of the model.\n",
    "    :param y_true: the true labels\n",
    "    :param y_pred: the predicted labels\n",
    "    :return: the mse of the model\n",
    "    \"\"\"\n",
    "    return np.sum((y_true - y_pred) ** 2) / len(y_true)\n",
    "\n",
    "print(f\"MSE: {mse(y_test, predictions):.2f}\")"
   ]
  },
  {
   "cell_type": "markdown",
   "id": "3460158eaf869e17",
   "metadata": {},
   "source": [
    "## 6.2 Visualize the results"
   ]
  },
  {
   "cell_type": "code",
   "execution_count": 30,
   "id": "49d87a33649a40b4",
   "metadata": {
    "ExecuteTime": {
     "end_time": "2023-11-21T09:35:15.416206Z",
     "start_time": "2023-11-21T09:35:15.290679Z"
    }
   },
   "outputs": [
    {
     "data": {
      "text/plain": "<Figure size 800x600 with 1 Axes>",
      "image/png": "[encoded data removed]"
     },
     "metadata": {},
     "output_type": "display_data"
    }
   ],
   "source": [
    "# Plot the cost history over iterations\n",
    "plt.figure(figsize=(8, 6))\n",
    "plt.plot(cost_history)\n",
    "plt.title('Cost History over Iterations')\n",
    "plt.xlabel('Number of Iterations')\n",
    "plt.ylabel('Cost')\n",
    "plt.show()"
   ]
  }
 ],
 "metadata": {
  "kernelspec": {
   "display_name": "Python 3 (ipykernel)",
   "language": "python",
   "name": "python3"
  },
  "language_info": {
   "codemirror_mode": {
    "name": "ipython",
    "version": 3
   },
   "file_extension": ".py",
   "mimetype": "text/x-python",
   "name": "python",
   "nbconvert_exporter": "python",
   "pygments_lexer": "ipython3",
   "version": "3.8.18"
  }
 },
 "nbformat": 4,
 "nbformat_minor": 5
}
