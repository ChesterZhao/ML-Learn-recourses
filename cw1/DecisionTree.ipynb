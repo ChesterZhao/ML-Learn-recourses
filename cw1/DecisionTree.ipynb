{
 "cells": [
  {
   "cell_type": "markdown",
   "source": [
    "# 1. Importing libraries"
   ],
   "metadata": {
    "collapsed": false
   },
   "id": "1ad69b835a404ab6"
  },
  {
   "cell_type": "code",
   "execution_count": 196,
   "outputs": [],
   "source": [
    "import pandas as pd\n",
    "import numpy as np\n",
    "from sklearn.model_selection import train_test_split"
   ],
   "metadata": {
    "collapsed": false,
    "ExecuteTime": {
     "end_time": "2023-11-22T13:54:26.470511Z",
     "start_time": "2023-11-22T13:54:26.442646Z"
    }
   },
   "id": "6e31fc390d04d3fb"
  },
  {
   "cell_type": "markdown",
   "source": [
    "# 2. Load data"
   ],
   "metadata": {
    "collapsed": false
   },
   "id": "6b67ec74b1bbeb9f"
  },
  {
   "cell_type": "code",
   "execution_count": 197,
   "outputs": [],
   "source": [
    "column_names = [\n",
    "    \"erythema\", \"scaling\", \"definite borders\", \"itching\", \"koebner phenomenon\",\n",
    "    \"polygonal papules\", \"follicular papules\", \"oral mucosal involvement\", \"knee and elbow involvement\",\n",
    "    \"scalp involvement\", \"family history\", \"melanin incontinence\", \"eosinophils in the infiltrate\",\n",
    "    \"PNL infiltrate\", \"fibrosis of the papillary dermis\", \"exocytosis\", \"acanthosis\",\n",
    "    \"hyperkeratosis\", \"parakeratosis\", \"clubbing of the rete ridges\", \"elongation of the rete ridges\",\n",
    "    \"thinning of the suprapapillary epidermis\", \"spongiform pustule\", \"munro microabcess\",\n",
    "    \"focal hypergranulosis\", \"disappearance of the granular layer\", \"vacuolisation and damage of basal layer\",\n",
    "    \"spongiosis\", \"saw-tooth appearance of retes\", \"follicular horn plug\", \"perifollicular parakeratosis\",\n",
    "    \"inflammatory monoluclear inflitrate\", \"band-like infiltrate\", \"Age\", \"class\"\n",
    "]\n",
    "\n",
    "dermatology_data = pd.read_csv('dermatology/dermatology.data', header=None, names=column_names)"
   ],
   "metadata": {
    "collapsed": false,
    "ExecuteTime": {
     "end_time": "2023-11-22T13:54:26.551012Z",
     "start_time": "2023-11-22T13:54:26.446039Z"
    }
   },
   "id": "e19891032336a1d9"
  },
  {
   "cell_type": "markdown",
   "source": [
    "# 3. Data Preprocessing\n",
    "## 3.1 Data replace and fill missing values"
   ],
   "metadata": {
    "collapsed": false
   },
   "id": "510cd4e0c91b7d95"
  },
  {
   "cell_type": "code",
   "execution_count": 198,
   "outputs": [],
   "source": [
    "# Replacing the missing values with NaN\n",
    "dermatology_data.replace(\"?\", pd.NA, inplace=True)\n",
    "dermatology_data['Age'] = pd.to_numeric(dermatology_data['Age'], errors='coerce')\n",
    "\n",
    "# Filling the missing values in 'Age' with the median age\n",
    "age_median = dermatology_data['Age'].median()\n",
    "dermatology_data['Age'].fillna(age_median, inplace=True)\n",
    "\n",
    "# Dropping the 'perifollicular parakeratosis' column\n",
    "dermatology_data.drop('perifollicular parakeratosis', axis=1, inplace=True)"
   ],
   "metadata": {
    "collapsed": false,
    "ExecuteTime": {
     "end_time": "2023-11-22T13:54:26.551165Z",
     "start_time": "2023-11-22T13:54:26.512389Z"
    }
   },
   "id": "313a27dcc71740b"
  },
  {
   "cell_type": "markdown",
   "source": [
    "## 3.2 Splitting the data into train and test sets"
   ],
   "metadata": {
    "collapsed": false
   },
   "id": "edd27ccf1342f194"
  },
  {
   "cell_type": "code",
   "execution_count": 199,
   "outputs": [],
   "source": [
    "# Splitting the data into train and test sets\n",
    "train, test = train_test_split(dermatology_data, test_size=0.2, random_state=42)"
   ],
   "metadata": {
    "collapsed": false,
    "ExecuteTime": {
     "end_time": "2023-11-22T13:54:26.551219Z",
     "start_time": "2023-11-22T13:54:26.533236Z"
    }
   },
   "id": "c662a53c501da570"
  },
  {
   "cell_type": "markdown",
   "source": [
    "# 4. Decision Tree Model\n",
    "## 4.1 Tools Preparation\n",
    "- calculate_entropy: Used to calculate the entropy of the data.\n",
    "- split_dataset: Used to split the dataset based on the feature and feature value."
   ],
   "metadata": {
    "collapsed": false
   },
   "id": "e726cc92bab22c3c"
  },
  {
   "cell_type": "code",
   "execution_count": 200,
   "outputs": [],
   "source": [
    "def calculate_entropy(data):\n",
    "    \"\"\"\n",
    "    Calculate the entropy of the data using ID3 formula.\n",
    "    :param data: The dataset.\n",
    "    :return: The entropy of the data.\n",
    "    \"\"\"\n",
    "    labels = data.iloc[:, -1]\n",
    "    label_counts = labels.value_counts()\n",
    "    entropy = -sum((count/len(labels)) * np.log2(count/len(labels)) for count in label_counts)\n",
    "    return entropy\n",
    "\n",
    "def split_dataset(data, feature_index, value):\n",
    "    \"\"\"\n",
    "    Split the dataset based on the feature and feature value.\n",
    "    :param data: The dataset.\n",
    "    :param feature_index: The index of the feature used to split the dataset.\n",
    "    :param value: The value of the feature.\n",
    "    :return: The dataset after splitting.\n",
    "    \"\"\"\n",
    "    feature_name = data.columns[feature_index]\n",
    "    reduced_data = data[data[feature_name] == value].drop(columns=[feature_name])\n",
    "    return reduced_data"
   ],
   "metadata": {
    "collapsed": false,
    "ExecuteTime": {
     "end_time": "2023-11-22T13:54:26.551365Z",
     "start_time": "2023-11-22T13:54:26.538424Z"
    }
   },
   "id": "ccd5a752ce4dbb61"
  },
  {
   "cell_type": "markdown",
   "source": [
    "## 4.2 ID3DecisionTree"
   ],
   "metadata": {
    "collapsed": false
   },
   "id": "25f5c33c5b614237"
  },
  {
   "cell_type": "code",
   "execution_count": 201,
   "outputs": [],
   "source": [
    "class ID3DecisionTree:\n",
    "    def __init__(self, max_depth, min_info_gain):\n",
    "        \"\"\"\n",
    "        Initialize the decision tree model.\n",
    "        :param max_depth: The maximum depth of the tree which used to avoid over fitting.\n",
    "        :param min_info_gain: The minimum information gain which used to avoid over fitting.\n",
    "        \"\"\"\n",
    "        self.max_depth = max_depth\n",
    "        self.min_info_gain = min_info_gain\n",
    "        self.tree = None\n",
    "\n",
    "    def choose_best_feature_to_split(self, data):\n",
    "        \"\"\"\n",
    "        Choose the best feature to split the dataset, this method can be used to continuous and discrete features, like the age or the family history.\n",
    "        :param data: The dataset.\n",
    "        :return: The index of the best feature.\n",
    "        \"\"\"\n",
    "        num_features = data.shape[1] - 1 # The number of features.\n",
    "        base_entropy = calculate_entropy(data) # The entropy of the dataset before splitting.\n",
    "        best_info_gain = 0.0 # The best information gain.\n",
    "        best_feature = -1 # The index of the best feature.\n",
    "\n",
    "        \"\"\"\n",
    "        To traverse all the features and find the best feature, each loop will calculate the information gain of the feature and update the best feature.\n",
    "        \"\"\"\n",
    "        for i in range(num_features):\n",
    "            feature_name = data.columns[i]\n",
    "            unique_vals = set(data[feature_name])\n",
    "            \n",
    "            # Split the dataset based on the feature and calculate the new entropy.\n",
    "            new_entropy = 0.0\n",
    "            for value in unique_vals:\n",
    "                sub_dataset = split_dataset(data, i, value)\n",
    "                # Calculate The probability of the feature value.\n",
    "                prob = len(sub_dataset) / float(len(data)) \n",
    "                # Update the new entropy.\n",
    "                new_entropy += prob * calculate_entropy(sub_dataset)\n",
    "            \n",
    "            # Calculate the change of the entropy.\n",
    "            info_gain = base_entropy - new_entropy\n",
    "            # Update the best feature.\n",
    "            if info_gain > best_info_gain and info_gain > self.min_info_gain:\n",
    "                best_info_gain = info_gain\n",
    "                best_feature = i\n",
    "\n",
    "        return best_feature\n",
    "\n",
    "    def build_tree(self, data, depth=0):\n",
    "        \"\"\"\n",
    "        Use the ID3 algorithm to build the decision tree.\n",
    "        :param data: The dataset.\n",
    "        :param depth: The depth of the tree.\n",
    "        :return: The decision tree.\n",
    "        \"\"\"\n",
    "        labels = data.iloc[:, -1]\n",
    "        if len(labels.unique()) == 1:\n",
    "            return labels.iloc[0]\n",
    "        if data.shape[1] == 1 or depth == self.max_depth:\n",
    "            return labels.mode()[0]\n",
    "\n",
    "        best_feature = self.choose_best_feature_to_split(data)\n",
    "        if best_feature == -1:\n",
    "            return labels.mode()[0]\n",
    "\n",
    "        feature_name = data.columns[best_feature]\n",
    "        tree = {feature_name: {}}\n",
    "        for value in set(data[feature_name]):\n",
    "            sub_data = split_dataset(data, best_feature, value)\n",
    "            tree[feature_name][value] = self.build_tree(sub_data, depth + 1)\n",
    "\n",
    "        return tree\n",
    "\n",
    "    def fit(self, data):\n",
    "        \"\"\"\n",
    "        Train the decision tree model.\n",
    "        :param data: The dataset.\n",
    "        \"\"\"\n",
    "        self.tree = self.build_tree(data)\n",
    "\n",
    "    def predict_sample(self, tree, sample):\n",
    "        \"\"\"\n",
    "        Predict the class of the signal sample.\n",
    "        :param tree: The decision tree.\n",
    "        :param sample: The single sample.\n",
    "        :return: The predict result.\n",
    "        \"\"\"\n",
    "        if not isinstance(tree, dict):\n",
    "            return tree\n",
    "        feature_index = list(tree.keys())[0]\n",
    "        feature_value = sample[feature_index]\n",
    "        sub_tree = tree[feature_index].get(feature_value, np.nan)\n",
    "        return self.predict_sample(sub_tree, sample)\n",
    "\n",
    "    def predict(self, data):\n",
    "        \"\"\"\n",
    "        Predict the class of the dataset.\n",
    "        :param data: The dataset to be predicted.\n",
    "        :return: The predict result.\n",
    "        \"\"\"\n",
    "        predictions = data.apply(lambda x: self.predict_sample(self.tree, x), axis=1)\n",
    "        return predictions"
   ],
   "metadata": {
    "collapsed": false,
    "ExecuteTime": {
     "end_time": "2023-11-22T13:54:26.551464Z",
     "start_time": "2023-11-22T13:54:26.546756Z"
    }
   },
   "id": "da651bd2c6449a8e"
  },
  {
   "cell_type": "markdown",
   "source": [
    "# 5. Model Training"
   ],
   "metadata": {
    "collapsed": false
   },
   "id": "ff55ef4140885ce0"
  },
  {
   "cell_type": "code",
   "execution_count": 202,
   "outputs": [],
   "source": [
    "# Training the decision tree model\n",
    "tree = ID3DecisionTree(max_depth=3, min_info_gain=0.1)\n",
    "tree.fit(train)"
   ],
   "metadata": {
    "collapsed": false,
    "ExecuteTime": {
     "end_time": "2023-11-22T13:54:27.382239Z",
     "start_time": "2023-11-22T13:54:26.549023Z"
    }
   },
   "id": "e4a304c7826a24f"
  },
  {
   "cell_type": "code",
   "execution_count": 203,
   "outputs": [
    {
     "data": {
      "text/plain": "{'elongation of the rete ridges': {0: {'Age': {7.0: 6,\n    8.0: 6,\n    9.0: 6,\n    10.0: {'follicular papules': {0: 2, 2: 6, 3: 6}},\n    12.0: {'itching': {0: 4, 1: 6}},\n    13.0: 6,\n    15.0: 2,\n    16.0: {'itching': {1: 2, 2: 4, 3: 3}},\n    17.0: 4,\n    18.0: {'scaling': {1: 4, 2: 3}},\n    19.0: 2,\n    20.0: {'definite borders': {0: 2, 1: 2, 2: 4}},\n    21.0: {'erythema': {1: 4, 2: 2}},\n    22.0: {'polygonal papules': {0: 4, 2: 3, 3: 3}},\n    23.0: {'scaling': {1: 3, 2: 2}},\n    25.0: {'spongiosis': {0: 3, 1: 4, 2: 2, 3: 2}},\n    26.0: 3,\n    27.0: {'parakeratosis': {0: 3, 1: 4, 2: 2}},\n    28.0: 3,\n    30.0: {'koebner phenomenon': {0: 2, 1: 3, 2: 4}},\n    31.0: {'erythema': {1: 4, 3: 2}},\n    32.0: {'itching': {0: 4, 2: 3, 3: 3}},\n    33.0: 2,\n    34.0: {'koebner phenomenon': {0: 2, 1: 4, 3: 3}},\n    35.0: {'itching': {0: 4, 1: 4, 2: 2, 3: 3}},\n    36.0: {'polygonal papules': {0: 2, 2: 3, 3: 3}},\n    37.0: 3,\n    38.0: 3,\n    40.0: {'band-like infiltrate': {0: 2, 1: 5, 2: 3, 3: 3}},\n    41.0: 3,\n    42.0: {'erythema': {1: 3, 2: 2, 3: 3}},\n    43.0: 2,\n    44.0: {'erythema': {2: 3, 3: 2}},\n    45.0: {'exocytosis': {1: 3, 2: 4, 3: 2}},\n    46.0: 4,\n    47.0: {'scaling': {1: 3, 2: 2}},\n    48.0: {'scaling': {1: 3, 2: 4}},\n    49.0: 3,\n    50.0: {'itching': {0: 2, 2: 3, 3: 3}},\n    51.0: {'erythema': {1: 2, 2: 3}},\n    52.0: {'definite borders': {0: 2, 1: 2, 3: 3}},\n    53.0: 3,\n    55.0: {'itching': {0: 4, 2: 2, 3: 5}},\n    56.0: 3,\n    57.0: 3,\n    60.0: {'erythema': {1: 4, 2: 3, 3: 3}},\n    61.0: 2,\n    62.0: {'definite borders': {1: 4, 2: 3}},\n    65.0: 3,\n    70.0: {'definite borders': {0: 4, 2: 2}}}},\n  1: {'Age': {33.0: 2,\n    34.0: {'erythema': {1: 2, 3: 5}},\n    38.0: 1,\n    8.0: 6,\n    40.0: {'scaling': {1: 5, 2: 1}},\n    43.0: 1,\n    47.0: 1,\n    18.0: 5,\n    19.0: 1,\n    20.0: 2,\n    51.0: 5,\n    60.0: 1,\n    30.0: 1}},\n  2: {'fibrosis of the papillary dermis': {0: {'spongiosis': {0: 1,\n      2: 2,\n      3: 2}},\n    1: 5,\n    2: 5,\n    3: 5}},\n  3: {'fibrosis of the papillary dermis': {0: 1, 1: 5, 2: 5, 3: 5}}}}"
     },
     "execution_count": 203,
     "metadata": {},
     "output_type": "execute_result"
    }
   ],
   "source": [
    "tree.tree"
   ],
   "metadata": {
    "collapsed": false,
    "ExecuteTime": {
     "end_time": "2023-11-22T13:54:27.387653Z",
     "start_time": "2023-11-22T13:54:27.385015Z"
    }
   },
   "id": "75c4696032e330d7"
  },
  {
   "cell_type": "markdown",
   "source": [
    "# 6. Model Evaluation\n",
    "## 6.1 Accuracy"
   ],
   "metadata": {
    "collapsed": false
   },
   "id": "d4ef836dbef33ebb"
  },
  {
   "cell_type": "code",
   "execution_count": 204,
   "outputs": [
    {
     "name": "stdout",
     "output_type": "stream",
     "text": [
      "Accuracy: 0.6486486486486487\n"
     ]
    }
   ],
   "source": [
    "# Evaluating the decision tree model\n",
    "predictions = tree.predict(test)\n",
    "accuracy = (predictions == test['class']).mean()\n",
    "print(f\"Accuracy: {accuracy}\")"
   ],
   "metadata": {
    "collapsed": false,
    "ExecuteTime": {
     "end_time": "2023-11-22T13:54:27.431157Z",
     "start_time": "2023-11-22T13:54:27.387578Z"
    }
   },
   "id": "82e7362fc194e985"
  },
  {
   "cell_type": "markdown",
   "source": [
    "## 6.2 MSE"
   ],
   "metadata": {
    "collapsed": false
   },
   "id": "8acbcd12b14660d8"
  },
  {
   "cell_type": "code",
   "execution_count": 205,
   "outputs": [
    {
     "name": "stdout",
     "output_type": "stream",
     "text": [
      "MSE: 0.6507936507936508\n"
     ]
    }
   ],
   "source": [
    "# Evaluating the decision tree model\n",
    "predictions = tree.predict(test)\n",
    "mse = ((predictions - test['class']) ** 2).mean()\n",
    "print(f\"MSE: {mse}\")"
   ],
   "metadata": {
    "collapsed": false,
    "ExecuteTime": {
     "end_time": "2023-11-22T13:54:27.471942Z",
     "start_time": "2023-11-22T13:54:27.431106Z"
    }
   },
   "id": "432d3057dc06a0ea"
  },
  {
   "cell_type": "markdown",
   "source": [],
   "metadata": {
    "collapsed": false
   },
   "id": "2acb2dbc0e87988"
  }
 ],
 "metadata": {
  "kernelspec": {
   "display_name": "Python 3",
   "language": "python",
   "name": "python3"
  },
  "language_info": {
   "codemirror_mode": {
    "name": "ipython",
    "version": 2
   },
   "file_extension": ".py",
   "mimetype": "text/x-python",
   "name": "python",
   "nbconvert_exporter": "python",
   "pygments_lexer": "ipython2",
   "version": "2.7.6"
  }
 },
 "nbformat": 4,
 "nbformat_minor": 5
}
