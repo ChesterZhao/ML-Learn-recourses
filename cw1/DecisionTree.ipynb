{
 "cells": [
  {
   "cell_type": "markdown",
   "id": "1ad69b835a404ab6",
   "metadata": {},
   "source": [
    "# 1. Importing libraries"
   ]
  },
  {
   "cell_type": "code",
   "execution_count": 34,
   "id": "6e31fc390d04d3fb",
   "metadata": {
    "ExecuteTime": {
     "end_time": "2023-11-28T06:45:34.882909Z",
     "start_time": "2023-11-28T06:45:34.790384Z"
    }
   },
   "outputs": [],
   "source": [
    "import pandas as pd\n",
    "import numpy as np\n",
    "from sklearn.model_selection import train_test_split\n",
    "from matplotlib import pyplot as plt"
   ]
  },
  {
   "cell_type": "markdown",
   "id": "6b67ec74b1bbeb9f",
   "metadata": {},
   "source": [
    "# 2. Load data"
   ]
  },
  {
   "cell_type": "code",
   "execution_count": 35,
   "id": "e19891032336a1d9",
   "metadata": {
    "ExecuteTime": {
     "end_time": "2023-11-28T06:45:34.941118Z",
     "start_time": "2023-11-28T06:45:34.794509Z"
    }
   },
   "outputs": [],
   "source": [
    "column_names = [\n",
    "    \"erythema\", \"scaling\", \"definite borders\", \"itching\", \"koebner phenomenon\",\n",
    "    \"polygonal papules\", \"follicular papules\", \"oral mucosal involvement\", \"knee and elbow involvement\",\n",
    "    \"scalp involvement\", \"family history\", \"melanin incontinence\", \"eosinophils in the infiltrate\",\n",
    "    \"PNL infiltrate\", \"fibrosis of the papillary dermis\", \"exocytosis\", \"acanthosis\",\n",
    "    \"hyperkeratosis\", \"parakeratosis\", \"clubbing of the rete ridges\", \"elongation of the rete ridges\",\n",
    "    \"thinning of the suprapapillary epidermis\", \"spongiform pustule\", \"munro microabcess\",\n",
    "    \"focal hypergranulosis\", \"disappearance of the granular layer\", \"vacuolisation and damage of basal layer\",\n",
    "    \"spongiosis\", \"saw-tooth appearance of retes\", \"follicular horn plug\", \"perifollicular parakeratosis\",\n",
    "    \"inflammatory monoluclear inflitrate\", \"band-like infiltrate\", \"Age\", \"class\"\n",
    "]\n",
    "\n",
    "dermatology_data = pd.read_csv('dermatology/dermatology.data', header=None, names=column_names)"
   ]
  },
  {
   "cell_type": "markdown",
   "id": "510cd4e0c91b7d95",
   "metadata": {},
   "source": [
    "# 3. Data Preprocessing\n",
    "## 3.1 Data replace and fill missing values"
   ]
  },
  {
   "cell_type": "code",
   "execution_count": 36,
   "id": "313a27dcc71740b",
   "metadata": {
    "ExecuteTime": {
     "end_time": "2023-11-28T06:45:34.943363Z",
     "start_time": "2023-11-28T06:45:34.817001Z"
    }
   },
   "outputs": [],
   "source": [
    "# Replacing the missing values with NaN\n",
    "dermatology_data.replace(\"?\", pd.NA, inplace=True)\n",
    "dermatology_data['Age'] = pd.to_numeric(dermatology_data['Age'], errors='coerce')\n",
    "\n",
    "# Filling the missing values in 'Age' with the median age\n",
    "age_median = dermatology_data['Age'].median()\n",
    "dermatology_data['Age'].fillna(age_median, inplace=True)\n",
    "\n",
    "# Dropping the 'perifollicular parakeratosis' column\n",
    "dermatology_data.drop('perifollicular parakeratosis', axis=1, inplace=True)"
   ]
  },
  {
   "cell_type": "markdown",
   "id": "edd27ccf1342f194",
   "metadata": {},
   "source": [
    "## 3.2 Splitting the data into train and test sets"
   ]
  },
  {
   "cell_type": "code",
   "execution_count": 37,
   "id": "c662a53c501da570",
   "metadata": {
    "ExecuteTime": {
     "end_time": "2023-11-28T06:45:34.943465Z",
     "start_time": "2023-11-28T06:45:34.822113Z"
    }
   },
   "outputs": [],
   "source": [
    "# Splitting the data into train and test sets\n",
    "train, test = train_test_split(dermatology_data, test_size=0.2, random_state=42)"
   ]
  },
  {
   "cell_type": "markdown",
   "id": "e726cc92bab22c3c",
   "metadata": {},
   "source": [
    "# 4. Decision Tree Model\n",
    "## 4.1 Tools Preparation\n",
    "- calculate_entropy: Used to calculate the entropy of the data.\n",
    "- split_dataset: Used to split the dataset based on the feature and feature value."
   ]
  },
  {
   "cell_type": "code",
   "execution_count": 38,
   "id": "ccd5a752ce4dbb61",
   "metadata": {
    "ExecuteTime": {
     "end_time": "2023-11-28T06:45:34.951960Z",
     "start_time": "2023-11-28T06:45:34.825916Z"
    }
   },
   "outputs": [],
   "source": [
    "def calculate_entropy(data):\n",
    "    \"\"\"\n",
    "    Calculate the entropy of the data.\n",
    "    :param data: The dataset.\n",
    "    :return: The entropy of the data.\n",
    "    \"\"\"\n",
    "    labels = data.iloc[:, -1]\n",
    "    label_counts = labels.value_counts()\n",
    "    entropy = -sum((count/len(labels)) * np.log2(count/len(labels)) for count in label_counts)\n",
    "    return entropy\n",
    "\n",
    "def split_dataset(data, feature_index, value):\n",
    "    \"\"\"\n",
    "    Split the dataset based on the feature and feature value.\n",
    "    :param data: The dataset.\n",
    "    :param feature_index: The index of the feature used to split the dataset.\n",
    "    :param value: The value of the feature.\n",
    "    :return: The dataset after splitting.\n",
    "    \"\"\"\n",
    "    feature_name = data.columns[feature_index]\n",
    "    reduced_data = data[data[feature_name] == value].drop(columns=[feature_name])\n",
    "    return reduced_data"
   ]
  },
  {
   "cell_type": "markdown",
   "id": "25f5c33c5b614237",
   "metadata": {},
   "source": [
    "## 4.2 DecisionTree"
   ]
  },
  {
   "cell_type": "code",
   "execution_count": 39,
   "id": "da651bd2c6449a8e",
   "metadata": {
    "ExecuteTime": {
     "end_time": "2023-11-28T06:45:34.952150Z",
     "start_time": "2023-11-28T06:45:34.834679Z"
    }
   },
   "outputs": [],
   "source": [
    "class DecisionTree:\n",
    "    def __init__(self, max_depth, min_info_gain):\n",
    "        \"\"\"\n",
    "        Initialize the decision tree model.\n",
    "        :param max_depth: The maximum depth of the tree which used to avoid over fitting.\n",
    "        :param min_info_gain: The minimum information gain which used to avoid over fitting.\n",
    "        \"\"\"\n",
    "        self.max_depth = max_depth\n",
    "        self.min_info_gain = min_info_gain\n",
    "        self.tree = None\n",
    "\n",
    "    def choose_best_feature_to_split(self, data):\n",
    "        \"\"\"\n",
    "        Choose the best feature to split the dataset, this method can be used to continuous and discrete features, like the age or the family history.\n",
    "        :param data: The dataset.\n",
    "        :return: The index of the best feature.\n",
    "        \"\"\"\n",
    "        num_features = data.shape[1] - 1 \n",
    "        base_entropy = calculate_entropy(data) \n",
    "        best_info_gain = 0.0 \n",
    "        best_feature = -1 \n",
    "\n",
    "        \"\"\"\n",
    "        To traverse all the features and find the best feature, each loop will calculate the information gain of the feature and update the best feature.\n",
    "        \"\"\"\n",
    "        for i in range(num_features):\n",
    "            feature_name = data.columns[i]\n",
    "            unique_vals = set(data[feature_name])\n",
    "            \n",
    "            # Split the dataset based on the feature and calculate the new entropy.\n",
    "            new_entropy = 0.0\n",
    "            for value in unique_vals:\n",
    "                sub_dataset = split_dataset(data, i, value)\n",
    "                # Calculate The probability of the feature value.\n",
    "                prob = len(sub_dataset) / float(len(data)) \n",
    "                # Update the new entropy.\n",
    "                new_entropy += prob * calculate_entropy(sub_dataset)\n",
    "            \n",
    "            # Calculate the change of the entropy.\n",
    "            info_gain = base_entropy - new_entropy\n",
    "            # Update the best feature.\n",
    "            if info_gain > best_info_gain and info_gain > self.min_info_gain:\n",
    "                best_info_gain = info_gain\n",
    "                best_feature = i\n",
    "\n",
    "        return best_feature\n",
    "\n",
    "    def build_tree(self, data, depth=0):\n",
    "        \"\"\"\n",
    "        Use the ID3 algorithm to build the decision tree.\n",
    "        :param data: The dataset.\n",
    "        :param depth: The depth of the tree.\n",
    "        :return: The decision tree.\n",
    "        \"\"\"\n",
    "        labels = data.iloc[:, -1]\n",
    "        if len(labels.unique()) == 1:\n",
    "            return labels.iloc[0]\n",
    "        if data.shape[1] == 1 or depth == self.max_depth:\n",
    "            return labels.mode()[0]\n",
    "\n",
    "        best_feature = self.choose_best_feature_to_split(data)\n",
    "        if best_feature == -1:\n",
    "            return labels.mode()[0]\n",
    "\n",
    "        feature_name = data.columns[best_feature]\n",
    "        tree = {feature_name: {}}\n",
    "        for value in set(data[feature_name]):\n",
    "            sub_data = split_dataset(data, best_feature, value)\n",
    "            tree[feature_name][value] = self.build_tree(sub_data, depth + 1)\n",
    "\n",
    "        return tree\n",
    "\n",
    "    def fit(self, data):\n",
    "        \"\"\"\n",
    "        Train the decision tree model.\n",
    "        :param data: The dataset.\n",
    "        \"\"\"\n",
    "        self.tree = self.build_tree(data)\n",
    "\n",
    "    def predict_sample(self, tree, sample):\n",
    "        \"\"\"\n",
    "        Predict the class of the signal sample.\n",
    "        :param tree: The decision tree.\n",
    "        :param sample: The single sample.\n",
    "        :return: The predict result.\n",
    "        \"\"\"\n",
    "        if not isinstance(tree, dict):\n",
    "            return tree\n",
    "        feature_index = list(tree.keys())[0]\n",
    "        feature_value = sample[feature_index]\n",
    "        \n",
    "        if feature_value not in tree[feature_index]:\n",
    "            # If the feature value is not in the tree, then return the mode of the labels.\n",
    "            sub_tree = tree[feature_index][list(tree[feature_index].keys())[0]]\n",
    "        else:\n",
    "            sub_tree = tree[feature_index][feature_value]\n",
    "        \n",
    "        return self.predict_sample(sub_tree, sample)\n",
    "\n",
    "    def predict(self, data):\n",
    "        \"\"\"\n",
    "        Predict the class of the dataset.\n",
    "        :param data: The dataset to be predicted.\n",
    "        :return: The predict result.\n",
    "        \"\"\"\n",
    "        predictions = data.apply(lambda x: self.predict_sample(self.tree, x), axis=1)\n",
    "        return predictions"
   ]
  },
  {
   "cell_type": "markdown",
   "id": "ff55ef4140885ce0",
   "metadata": {},
   "source": [
    "# 5. Model Training"
   ]
  },
  {
   "cell_type": "code",
   "execution_count": 40,
   "id": "e4a304c7826a24f",
   "metadata": {
    "ExecuteTime": {
     "end_time": "2023-11-28T06:45:35.636422Z",
     "start_time": "2023-11-28T06:45:34.841228Z"
    }
   },
   "outputs": [],
   "source": [
    "tree = DecisionTree(max_depth=3, min_info_gain=0.1)\n",
    "tree.fit(train)\n",
    "predictions = tree.predict(test)"
   ]
  },
  {
   "cell_type": "code",
   "execution_count": 41,
   "id": "75c4696032e330d7",
   "metadata": {
    "ExecuteTime": {
     "end_time": "2023-11-28T06:45:35.641739Z",
     "start_time": "2023-11-28T06:45:35.639111Z"
    }
   },
   "outputs": [
    {
     "data": {
      "text/plain": "{'elongation of the rete ridges': {0: {'Age': {7.0: 6,\n    8.0: 6,\n    9.0: 6,\n    10.0: {'follicular papules': {0: 2, 2: 6, 3: 6}},\n    12.0: {'itching': {0: 4, 1: 6}},\n    13.0: 6,\n    15.0: 2,\n    16.0: {'itching': {1: 2, 2: 4, 3: 3}},\n    17.0: 4,\n    18.0: {'scaling': {1: 4, 2: 3}},\n    19.0: 2,\n    20.0: {'definite borders': {0: 2, 1: 2, 2: 4}},\n    21.0: {'erythema': {1: 4, 2: 2}},\n    22.0: {'polygonal papules': {0: 4, 2: 3, 3: 3}},\n    23.0: {'scaling': {1: 3, 2: 2}},\n    25.0: {'spongiosis': {0: 3, 1: 4, 2: 2, 3: 2}},\n    26.0: 3,\n    27.0: {'parakeratosis': {0: 3, 1: 4, 2: 2}},\n    28.0: 3,\n    30.0: {'koebner phenomenon': {0: 2, 1: 3, 2: 4}},\n    31.0: {'erythema': {1: 4, 3: 2}},\n    32.0: {'itching': {0: 4, 2: 3, 3: 3}},\n    33.0: 2,\n    34.0: {'koebner phenomenon': {0: 2, 1: 4, 3: 3}},\n    35.0: {'itching': {0: 4, 1: 4, 2: 2, 3: 3}},\n    36.0: {'polygonal papules': {0: 2, 2: 3, 3: 3}},\n    37.0: 3,\n    38.0: 3,\n    40.0: {'band-like infiltrate': {0: 2, 1: 5, 2: 3, 3: 3}},\n    41.0: 3,\n    42.0: {'erythema': {1: 3, 2: 2, 3: 3}},\n    43.0: 2,\n    44.0: {'erythema': {2: 3, 3: 2}},\n    45.0: {'exocytosis': {1: 3, 2: 4, 3: 2}},\n    46.0: 4,\n    47.0: {'scaling': {1: 3, 2: 2}},\n    48.0: {'scaling': {1: 3, 2: 4}},\n    49.0: 3,\n    50.0: {'itching': {0: 2, 2: 3, 3: 3}},\n    51.0: {'erythema': {1: 2, 2: 3}},\n    52.0: {'definite borders': {0: 2, 1: 2, 3: 3}},\n    53.0: 3,\n    55.0: {'itching': {0: 4, 2: 2, 3: 5}},\n    56.0: 3,\n    57.0: 3,\n    60.0: {'erythema': {1: 4, 2: 3, 3: 3}},\n    61.0: 2,\n    62.0: {'definite borders': {1: 4, 2: 3}},\n    65.0: 3,\n    70.0: {'definite borders': {0: 4, 2: 2}}}},\n  1: {'Age': {33.0: 2,\n    34.0: {'erythema': {1: 2, 3: 5}},\n    38.0: 1,\n    8.0: 6,\n    40.0: {'scaling': {1: 5, 2: 1}},\n    43.0: 1,\n    47.0: 1,\n    18.0: 5,\n    19.0: 1,\n    20.0: 2,\n    51.0: 5,\n    60.0: 1,\n    30.0: 1}},\n  2: {'fibrosis of the papillary dermis': {0: {'spongiosis': {0: 1,\n      2: 2,\n      3: 2}},\n    1: 5,\n    2: 5,\n    3: 5}},\n  3: {'fibrosis of the papillary dermis': {0: 1, 1: 5, 2: 5, 3: 5}}}}"
     },
     "execution_count": 41,
     "metadata": {},
     "output_type": "execute_result"
    }
   ],
   "source": [
    "tree.tree"
   ]
  },
  {
   "cell_type": "markdown",
   "id": "d4ef836dbef33ebb",
   "metadata": {},
   "source": [
    "# 6. Model Evaluation\n",
    "## 6.1 Accuracy\n",
    "I will calculate the accuracy of the model.\n",
    "Accuracy is calculated as follows:\n",
    "$$\\( \\text{Accuracy} = \\frac{\\text{Number of correct predictions}}{\\text{Total number of predictions}} \\times 100 \\) $$\n",
    "Where:\n",
    "- $\\( \\text{Number of correct predictions} \\)$ is the number of correct predictions.\n",
    "- $\\( \\text{Total number of predictions} \\)$ is the number of all predictions.\n",
    "- $\\( \\text{Accuracy} \\)$ is the accuracy of the model.\n",
    "- I will use the function below to calculate the accuracy of the model."
   ]
  },
  {
   "cell_type": "code",
   "execution_count": 42,
   "id": "82e7362fc194e985",
   "metadata": {
    "ExecuteTime": {
     "end_time": "2023-11-28T06:45:35.651573Z",
     "start_time": "2023-11-28T06:45:35.642387Z"
    }
   },
   "outputs": [
    {
     "name": "stdout",
     "output_type": "stream",
     "text": [
      "Accuracy: 67.57%\n"
     ]
    }
   ],
   "source": [
    "def accuracy(y_true, y_pred):\n",
    "    \"\"\"\n",
    "    The accuracy function is used to compute the accuracy of the model.\n",
    "    :param y_true: the true labels\n",
    "    :param y_pred: the predicted labels\n",
    "    :return: the accuracy of the model\n",
    "    \"\"\"\n",
    "    return np.sum(y_true == y_pred) / len(y_true) * 100\n",
    "\n",
    "print(\"Accuracy: {:.2f}%\".format(accuracy(test.iloc[:, -1], predictions)))"
   ]
  },
  {
   "cell_type": "markdown",
   "id": "b941a9a4442ec09d",
   "metadata": {},
   "source": [
    "## 6.2 Modify the MAX Depth"
   ]
  },
  {
   "cell_type": "code",
   "execution_count": 43,
   "id": "73a23c47f56f0d38",
   "metadata": {
    "ExecuteTime": {
     "end_time": "2023-11-28T06:45:37.545621Z",
     "start_time": "2023-11-28T06:45:35.651688Z"
    }
   },
   "outputs": [
    {
     "name": "stdout",
     "output_type": "stream",
     "text": [
      "Accuracy: 59.46%\n",
      "Accuracy: 60.81%\n",
      "Accuracy: 67.57%\n",
      "Accuracy: 66.22%\n"
     ]
    }
   ],
   "source": [
    "tree1 = DecisionTree(max_depth=1, min_info_gain=0.1)\n",
    "tree1.fit(train)\n",
    "predictions1 = tree1.predict(test)\n",
    "print(\"Accuracy: {:.2f}%\".format(accuracy(test.iloc[:, -1], predictions1)))\n",
    "\n",
    "tree2 = DecisionTree(max_depth=2, min_info_gain=0.1)\n",
    "tree2.fit(train)\n",
    "predictions2 = tree2.predict(test)\n",
    "print(\"Accuracy: {:.2f}%\".format(accuracy(test.iloc[:, -1], predictions2)))\n",
    "\n",
    "tree3 = DecisionTree(max_depth=3, min_info_gain=0.1)\n",
    "tree3.fit(train)\n",
    "predictions3 = tree3.predict(test)\n",
    "print(\"Accuracy: {:.2f}%\".format(accuracy(test.iloc[:, -1], predictions3)))\n",
    "\n",
    "tree4 = DecisionTree(max_depth=4, min_info_gain=0.1)\n",
    "tree4.fit(train)\n",
    "predictions4 = tree4.predict(test)\n",
    "print(\"Accuracy: {:.2f}%\".format(accuracy(test.iloc[:, -1], predictions4)))"
   ]
  },
  {
   "cell_type": "markdown",
   "id": "db1520188cac589e",
   "metadata": {},
   "source": [
    "## 6.3 Modify the MIN Info Gain"
   ]
  },
  {
   "cell_type": "code",
   "execution_count": 44,
   "id": "fca4f32c2c199bab",
   "metadata": {
    "ExecuteTime": {
     "end_time": "2023-11-28T06:45:39.148759Z",
     "start_time": "2023-11-28T06:45:37.553261Z"
    }
   },
   "outputs": [
    {
     "name": "stdout",
     "output_type": "stream",
     "text": [
      "Accuracy: 67.57%\n",
      "Accuracy: 66.22%\n",
      "Accuracy: 41.89%\n",
      "Accuracy: 41.89%\n"
     ]
    }
   ],
   "source": [
    "tree1 = DecisionTree(max_depth=3, min_info_gain=0.1)\n",
    "tree1.fit(train)\n",
    "predictions1 = tree1.predict(test)\n",
    "print(\"Accuracy: {:.2f}%\".format(accuracy(test.iloc[:, -1], predictions1)))\n",
    "\n",
    "tree2 = DecisionTree(max_depth=3, min_info_gain=0.3)\n",
    "tree2.fit(train)\n",
    "predictions2 = tree2.predict(test)\n",
    "print(\"Accuracy: {:.2f}%\".format(accuracy(test.iloc[:, -1], predictions2)))\n",
    "\n",
    "tree3 = DecisionTree(max_depth=3, min_info_gain=0.9)\n",
    "tree3.fit(train)\n",
    "predictions3 = tree3.predict(test)\n",
    "print(\"Accuracy: {:.2f}%\".format(accuracy(test.iloc[:, -1], predictions3)))\n",
    "\n",
    "tree4 = DecisionTree(max_depth=3, min_info_gain=1.2)\n",
    "tree4.fit(train)\n",
    "predictions4 = tree4.predict(test)\n",
    "print(\"Accuracy: {:.2f}%\".format(accuracy(test.iloc[:, -1], predictions4)))"
   ]
  },
  {
   "cell_type": "markdown",
   "id": "a4add2d0a4a9bf49",
   "metadata": {},
   "source": [
    "# 6.4 Confusion Matrix"
   ]
  },
  {
   "cell_type": "code",
   "execution_count": 45,
   "id": "eb78b798b329630b",
   "metadata": {
    "ExecuteTime": {
     "end_time": "2023-11-28T06:45:39.294208Z",
     "start_time": "2023-11-28T06:45:39.151353Z"
    }
   },
   "outputs": [
    {
     "name": "stdout",
     "output_type": "stream",
     "text": [
      "Recall: [0.87096774 0.55555556 0.61538462 0.25       0.7        0.33333333]\n",
      "Precision: [1.         0.27777778 0.66666667 0.28571429 0.875      0.5       ]\n",
      "F1 Score: [0.93103448 0.37037037 0.64       0.26666667 0.77777778 0.4       ]\n"
     ]
    },
    {
     "data": {
      "text/plain": "<Figure size 640x480 with 2 Axes>",
      "image/png": "[encoded data removed]"
     },
     "metadata": {},
     "output_type": "display_data"
    }
   ],
   "source": [
    "def confusion_matrix(y_true, y_pred):\n",
    "    \"\"\"\n",
    "    The confusion matrix function is used to compute the confusion matrix of the model.\n",
    "    :param y_true: the true labels\n",
    "    :param y_pred: the predicted labels\n",
    "    :return: the confusion matrix of the model\n",
    "    \"\"\"\n",
    "    labels = np.unique(y_true)\n",
    "    matrix = np.zeros((len(labels), len(labels)))\n",
    "    for i in range(len(labels)):\n",
    "        for j in range(len(labels)):\n",
    "            matrix[i, j] = np.sum((y_true == labels[i]) & (y_pred == labels[j]))\n",
    "    \n",
    "    true_positives = np.diag(matrix)\n",
    "    false_positives = np.sum(matrix, axis=0) - true_positives\n",
    "    false_negatives = np.sum(matrix, axis=1) - true_positives\n",
    "    \n",
    "    precision = true_positives / (true_positives + false_positives)\n",
    "    recall = true_positives / (true_positives + false_negatives)\n",
    "    f1_score = 2 * precision * recall / (precision + recall)\n",
    "    \n",
    "    print(f\"Recall: {recall}\")\n",
    "    print(f\"Precision: {precision}\")\n",
    "    print(f\"F1 Score: {f1_score}\")\n",
    "    return matrix\n",
    "\n",
    "def plot_confusion_matrix(cm, classes):\n",
    "    \"\"\"\n",
    "    The plot_confusion_matrix function is used to plot the confusion matrix of the model.\n",
    "    :param cm: the confusion matrix\n",
    "    :param classes: the class labels\n",
    "    \"\"\"\n",
    "    plt.imshow(cm, interpolation='nearest', cmap=plt.cm.Blues)\n",
    "    plt.title(\"Confusion matrix\")\n",
    "    plt.colorbar()\n",
    "    tick_marks = np.arange(len(classes))\n",
    "    plt.xticks(tick_marks, classes)\n",
    "    plt.yticks(tick_marks, classes)\n",
    "\n",
    "    for i in range(cm.shape[0]):\n",
    "        for j in range(cm.shape[1]):\n",
    "            plt.text(j, i, str(int(cm[i, j])),\n",
    "                     horizontalalignment=\"center\",\n",
    "                     color=\"white\" if cm[i, j] > cm.max() / 2. else \"black\")\n",
    "\n",
    "    plt.ylabel('True label')\n",
    "    plt.xlabel('Predicted label')\n",
    "    plt.tight_layout()\n",
    "    plt.show()\n",
    "    \n",
    "plot_confusion_matrix(confusion_matrix(test.iloc[:, -1], predictions), classes=np.unique(test.iloc[:, -1]))"
   ]
  }
 ],
 "metadata": {
  "kernelspec": {
   "display_name": "Python 3 (ipykernel)",
   "language": "python",
   "name": "python3"
  },
  "language_info": {
   "codemirror_mode": {
    "name": "ipython",
    "version": 3
   },
   "file_extension": ".py",
   "mimetype": "text/x-python",
   "name": "python",
   "nbconvert_exporter": "python",
   "pygments_lexer": "ipython3",
   "version": "3.8.18"
  }
 },
 "nbformat": 4,
 "nbformat_minor": 5
}
