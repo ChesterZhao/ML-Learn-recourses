{
 "cells": [
  {
   "cell_type": "markdown",
   "source": [
    "# 1. Importing libraries"
   ],
   "metadata": {
    "collapsed": false
   },
   "id": "1ad69b835a404ab6"
  },
  {
   "cell_type": "code",
   "execution_count": 84,
   "outputs": [],
   "source": [
    "import pandas as pd\n",
    "import numpy as np\n",
    "from sklearn.model_selection import train_test_split"
   ],
   "metadata": {
    "collapsed": false,
    "ExecuteTime": {
     "end_time": "2023-11-22T11:09:44.559068Z",
     "start_time": "2023-11-22T11:09:44.494581Z"
    }
   },
   "id": "6e31fc390d04d3fb"
  },
  {
   "cell_type": "markdown",
   "source": [
    "# 2. Load data"
   ],
   "metadata": {
    "collapsed": false
   },
   "id": "6b67ec74b1bbeb9f"
  },
  {
   "cell_type": "code",
   "execution_count": 85,
   "outputs": [],
   "source": [
    "column_names = [\n",
    "    \"erythema\", \"scaling\", \"definite borders\", \"itching\", \"koebner phenomenon\",\n",
    "    \"polygonal papules\", \"follicular papules\", \"oral mucosal involvement\", \"knee and elbow involvement\",\n",
    "    \"scalp involvement\", \"family history\", \"melanin incontinence\", \"eosinophils in the infiltrate\",\n",
    "    \"PNL infiltrate\", \"fibrosis of the papillary dermis\", \"exocytosis\", \"acanthosis\",\n",
    "    \"hyperkeratosis\", \"parakeratosis\", \"clubbing of the rete ridges\", \"elongation of the rete ridges\",\n",
    "    \"thinning of the suprapapillary epidermis\", \"spongiform pustule\", \"munro microabcess\",\n",
    "    \"focal hypergranulosis\", \"disappearance of the granular layer\", \"vacuolisation and damage of basal layer\",\n",
    "    \"spongiosis\", \"saw-tooth appearance of retes\", \"follicular horn plug\", \"perifollicular parakeratosis\",\n",
    "    \"inflammatory monoluclear inflitrate\", \"band-like infiltrate\", \"Age\", \"class\"\n",
    "]\n",
    "\n",
    "dermatology_data = pd.read_csv('dermatology/dermatology.data', header=None, names=column_names)"
   ],
   "metadata": {
    "collapsed": false,
    "ExecuteTime": {
     "end_time": "2023-11-22T11:09:44.604249Z",
     "start_time": "2023-11-22T11:09:44.499328Z"
    }
   },
   "id": "e19891032336a1d9"
  },
  {
   "cell_type": "markdown",
   "source": [
    "# 3. Data Preprocessing\n",
    "## 3.1 Data replace and fill missing values"
   ],
   "metadata": {
    "collapsed": false
   },
   "id": "510cd4e0c91b7d95"
  },
  {
   "cell_type": "code",
   "execution_count": 86,
   "outputs": [],
   "source": [
    "# Replacing the missing values with NaN\n",
    "dermatology_data.replace(\"?\", pd.NA, inplace=True)\n",
    "dermatology_data['Age'] = pd.to_numeric(dermatology_data['Age'], errors='coerce')\n",
    "\n",
    "# Filling the missing values in 'Age' with the median age\n",
    "age_median = dermatology_data['Age'].median()\n",
    "dermatology_data['Age'].fillna(age_median, inplace=True)\n",
    "\n",
    "# Dropping the 'perifollicular parakeratosis' column\n",
    "dermatology_data.drop('perifollicular parakeratosis', axis=1, inplace=True)"
   ],
   "metadata": {
    "collapsed": false,
    "ExecuteTime": {
     "end_time": "2023-11-22T11:09:44.610599Z",
     "start_time": "2023-11-22T11:09:44.510217Z"
    }
   },
   "id": "313a27dcc71740b"
  },
  {
   "cell_type": "markdown",
   "source": [
    "## 3.2 Splitting the data into train and test sets"
   ],
   "metadata": {
    "collapsed": false
   },
   "id": "edd27ccf1342f194"
  },
  {
   "cell_type": "code",
   "execution_count": 87,
   "outputs": [],
   "source": [
    "# Splitting the data into train and test sets\n",
    "train, test = train_test_split(dermatology_data, test_size=0.2, random_state=42)"
   ],
   "metadata": {
    "collapsed": false,
    "ExecuteTime": {
     "end_time": "2023-11-22T11:09:44.610734Z",
     "start_time": "2023-11-22T11:09:44.515866Z"
    }
   },
   "id": "c662a53c501da570"
  },
  {
   "cell_type": "code",
   "execution_count": 95,
   "outputs": [
    {
     "name": "stdout",
     "output_type": "stream",
     "text": [
      "scaling\n"
     ]
    },
    {
     "data": {
      "text/plain": "     erythema  definite borders  itching  koebner phenomenon  \\\n202         2                 0        2                   0   \n75          3                 1        2                   0   \n16          2                 1        3                   0   \n66          2                 2        0                   0   \n271         2                 2        0                   0   \n..        ...               ...      ...                 ...   \n121         2                 2        1                   0   \n365         3                 2        0                   0   \n188         3                 0        2                   0   \n270         2                 1        0                   1   \n348         3                 2        0                   0   \n\n     polygonal papules  follicular papules  oral mucosal involvement  \\\n202                  0                   1                         0   \n75                   0                   0                         0   \n16                   0                   0                         0   \n66                   0                   0                         0   \n271                  0                   0                         0   \n..                 ...                 ...                       ...   \n121                  0                   2                         0   \n365                  0                   0                         0   \n188                  0                   0                         0   \n270                  0                   0                         0   \n348                  0                   3                         0   \n\n     knee and elbow involvement  scalp involvement  family history  ...  \\\n202                           0                  0               0  ...   \n75                            0                  0               0  ...   \n16                            0                  0               0  ...   \n66                            2                  2               0  ...   \n271                           0                  0               0  ...   \n..                          ...                ...             ...  ...   \n121                           0                  0               0  ...   \n365                           3                  3               0  ...   \n188                           0                  0               1  ...   \n270                           0                  0               0  ...   \n348                           1                  0               1  ...   \n\n     focal hypergranulosis  disappearance of the granular layer  \\\n202                      0                                    0   \n75                       0                                    0   \n16                       0                                    0   \n66                       0                                    3   \n271                      0                                    1   \n..                     ...                                  ...   \n121                      0                                    0   \n365                      0                                    2   \n188                      0                                    0   \n270                      0                                    1   \n348                      0                                    0   \n\n     vacuolisation and damage of basal layer  spongiosis  \\\n202                                        0           0   \n75                                         0           2   \n16                                         0           0   \n66                                         0           0   \n271                                        0           2   \n..                                       ...         ...   \n121                                        0           0   \n365                                        0           0   \n188                                        0           3   \n270                                        0           3   \n348                                        0           2   \n\n     saw-tooth appearance of retes  follicular horn plug  \\\n202                              0                     0   \n75                               0                     0   \n16                               0                     0   \n66                               0                     0   \n271                              0                     0   \n..                             ...                   ...   \n121                              0                     0   \n365                              0                     0   \n188                              0                     0   \n270                              0                     0   \n348                              0                     3   \n\n     inflammatory monoluclear inflitrate  band-like infiltrate   Age  class  \n202                                    3                     0  52.0      5  \n75                                     2                     0  25.0      2  \n16                                     1                     0  30.0      2  \n66                                     3                     0  36.0      1  \n271                                    3                     0  48.0      4  \n..                                   ...                   ...   ...    ...  \n121                                    2                     0  46.0      5  \n365                                    3                     0  35.0      1  \n188                                    3                     0  55.0      2  \n270                                    2                     0  62.0      4  \n348                                    2                     0  10.0      6  \n\n[158 rows x 33 columns]",
      "text/html": "<div>\n<style scoped>\n    .dataframe tbody tr th:only-of-type {\n        vertical-align: middle;\n    }\n\n    .dataframe tbody tr th {\n        vertical-align: top;\n    }\n\n    .dataframe thead th {\n        text-align: right;\n    }\n</style>\n<table border=\"1\" class=\"dataframe\">\n  <thead>\n    <tr style=\"text-align: right;\">\n      <th></th>\n      <th>erythema</th>\n      <th>definite borders</th>\n      <th>itching</th>\n      <th>koebner phenomenon</th>\n      <th>polygonal papules</th>\n      <th>follicular papules</th>\n      <th>oral mucosal involvement</th>\n      <th>knee and elbow involvement</th>\n      <th>scalp involvement</th>\n      <th>family history</th>\n      <th>...</th>\n      <th>focal hypergranulosis</th>\n      <th>disappearance of the granular layer</th>\n      <th>vacuolisation and damage of basal layer</th>\n      <th>spongiosis</th>\n      <th>saw-tooth appearance of retes</th>\n      <th>follicular horn plug</th>\n      <th>inflammatory monoluclear inflitrate</th>\n      <th>band-like infiltrate</th>\n      <th>Age</th>\n      <th>class</th>\n    </tr>\n  </thead>\n  <tbody>\n    <tr>\n      <th>202</th>\n      <td>2</td>\n      <td>0</td>\n      <td>2</td>\n      <td>0</td>\n      <td>0</td>\n      <td>1</td>\n      <td>0</td>\n      <td>0</td>\n      <td>0</td>\n      <td>0</td>\n      <td>...</td>\n      <td>0</td>\n      <td>0</td>\n      <td>0</td>\n      <td>0</td>\n      <td>0</td>\n      <td>0</td>\n      <td>3</td>\n      <td>0</td>\n      <td>52.0</td>\n      <td>5</td>\n    </tr>\n    <tr>\n      <th>75</th>\n      <td>3</td>\n      <td>1</td>\n      <td>2</td>\n      <td>0</td>\n      <td>0</td>\n      <td>0</td>\n      <td>0</td>\n      <td>0</td>\n      <td>0</td>\n      <td>0</td>\n      <td>...</td>\n      <td>0</td>\n      <td>0</td>\n      <td>0</td>\n      <td>2</td>\n      <td>0</td>\n      <td>0</td>\n      <td>2</td>\n      <td>0</td>\n      <td>25.0</td>\n      <td>2</td>\n    </tr>\n    <tr>\n      <th>16</th>\n      <td>2</td>\n      <td>1</td>\n      <td>3</td>\n      <td>0</td>\n      <td>0</td>\n      <td>0</td>\n      <td>0</td>\n      <td>0</td>\n      <td>0</td>\n      <td>0</td>\n      <td>...</td>\n      <td>0</td>\n      <td>0</td>\n      <td>0</td>\n      <td>0</td>\n      <td>0</td>\n      <td>0</td>\n      <td>1</td>\n      <td>0</td>\n      <td>30.0</td>\n      <td>2</td>\n    </tr>\n    <tr>\n      <th>66</th>\n      <td>2</td>\n      <td>2</td>\n      <td>0</td>\n      <td>0</td>\n      <td>0</td>\n      <td>0</td>\n      <td>0</td>\n      <td>2</td>\n      <td>2</td>\n      <td>0</td>\n      <td>...</td>\n      <td>0</td>\n      <td>3</td>\n      <td>0</td>\n      <td>0</td>\n      <td>0</td>\n      <td>0</td>\n      <td>3</td>\n      <td>0</td>\n      <td>36.0</td>\n      <td>1</td>\n    </tr>\n    <tr>\n      <th>271</th>\n      <td>2</td>\n      <td>2</td>\n      <td>0</td>\n      <td>0</td>\n      <td>0</td>\n      <td>0</td>\n      <td>0</td>\n      <td>0</td>\n      <td>0</td>\n      <td>0</td>\n      <td>...</td>\n      <td>0</td>\n      <td>1</td>\n      <td>0</td>\n      <td>2</td>\n      <td>0</td>\n      <td>0</td>\n      <td>3</td>\n      <td>0</td>\n      <td>48.0</td>\n      <td>4</td>\n    </tr>\n    <tr>\n      <th>...</th>\n      <td>...</td>\n      <td>...</td>\n      <td>...</td>\n      <td>...</td>\n      <td>...</td>\n      <td>...</td>\n      <td>...</td>\n      <td>...</td>\n      <td>...</td>\n      <td>...</td>\n      <td>...</td>\n      <td>...</td>\n      <td>...</td>\n      <td>...</td>\n      <td>...</td>\n      <td>...</td>\n      <td>...</td>\n      <td>...</td>\n      <td>...</td>\n      <td>...</td>\n      <td>...</td>\n    </tr>\n    <tr>\n      <th>121</th>\n      <td>2</td>\n      <td>2</td>\n      <td>1</td>\n      <td>0</td>\n      <td>0</td>\n      <td>2</td>\n      <td>0</td>\n      <td>0</td>\n      <td>0</td>\n      <td>0</td>\n      <td>...</td>\n      <td>0</td>\n      <td>0</td>\n      <td>0</td>\n      <td>0</td>\n      <td>0</td>\n      <td>0</td>\n      <td>2</td>\n      <td>0</td>\n      <td>46.0</td>\n      <td>5</td>\n    </tr>\n    <tr>\n      <th>365</th>\n      <td>3</td>\n      <td>2</td>\n      <td>0</td>\n      <td>0</td>\n      <td>0</td>\n      <td>0</td>\n      <td>0</td>\n      <td>3</td>\n      <td>3</td>\n      <td>0</td>\n      <td>...</td>\n      <td>0</td>\n      <td>2</td>\n      <td>0</td>\n      <td>0</td>\n      <td>0</td>\n      <td>0</td>\n      <td>3</td>\n      <td>0</td>\n      <td>35.0</td>\n      <td>1</td>\n    </tr>\n    <tr>\n      <th>188</th>\n      <td>3</td>\n      <td>0</td>\n      <td>2</td>\n      <td>0</td>\n      <td>0</td>\n      <td>0</td>\n      <td>0</td>\n      <td>0</td>\n      <td>0</td>\n      <td>1</td>\n      <td>...</td>\n      <td>0</td>\n      <td>0</td>\n      <td>0</td>\n      <td>3</td>\n      <td>0</td>\n      <td>0</td>\n      <td>3</td>\n      <td>0</td>\n      <td>55.0</td>\n      <td>2</td>\n    </tr>\n    <tr>\n      <th>270</th>\n      <td>2</td>\n      <td>1</td>\n      <td>0</td>\n      <td>1</td>\n      <td>0</td>\n      <td>0</td>\n      <td>0</td>\n      <td>0</td>\n      <td>0</td>\n      <td>0</td>\n      <td>...</td>\n      <td>0</td>\n      <td>1</td>\n      <td>0</td>\n      <td>3</td>\n      <td>0</td>\n      <td>0</td>\n      <td>2</td>\n      <td>0</td>\n      <td>62.0</td>\n      <td>4</td>\n    </tr>\n    <tr>\n      <th>348</th>\n      <td>3</td>\n      <td>2</td>\n      <td>0</td>\n      <td>0</td>\n      <td>0</td>\n      <td>3</td>\n      <td>0</td>\n      <td>1</td>\n      <td>0</td>\n      <td>1</td>\n      <td>...</td>\n      <td>0</td>\n      <td>0</td>\n      <td>0</td>\n      <td>2</td>\n      <td>0</td>\n      <td>3</td>\n      <td>2</td>\n      <td>0</td>\n      <td>10.0</td>\n      <td>6</td>\n    </tr>\n  </tbody>\n</table>\n<p>158 rows × 33 columns</p>\n</div>"
     },
     "execution_count": 95,
     "metadata": {},
     "output_type": "execute_result"
    }
   ],
   "source": [
    "def split_dataset(data, feature_index, value):\n",
    "        \"\"\"\n",
    "        根据特征索引和特征值分割数据集。\n",
    "        :param data: DataFrame, 数据集。\n",
    "        :param feature_index: int, 用于分割的特征的索引。\n",
    "        :param value: 特征的值。\n",
    "        :return: DataFrame, 分割后的子数据集。\n",
    "        \"\"\"\n",
    "        feature_name = data.columns[feature_index]\n",
    "        print(feature_name)\n",
    "        reduced_data = data[data[feature_name] == value].drop(columns=[feature_name])\n",
    "        return reduced_data\n",
    "\n",
    "reduced_data = split_dataset(train, 1, 2)\n",
    "reduced_data"
   ],
   "metadata": {
    "collapsed": false,
    "ExecuteTime": {
     "end_time": "2023-11-22T11:10:24.425112Z",
     "start_time": "2023-11-22T11:10:24.420335Z"
    }
   },
   "id": "3c3b23c7e93bf78f"
  },
  {
   "cell_type": "markdown",
   "source": [
    "# 4. Decision Tree Model\n",
    "## 4.1 Tools Preparation"
   ],
   "metadata": {
    "collapsed": false
   },
   "id": "e726cc92bab22c3c"
  },
  {
   "cell_type": "code",
   "execution_count": 0,
   "outputs": [],
   "source": [
    "def calculate_entropy(data):\n",
    "    \"\"\"\n",
    "    Calculate the entropy of the data using ID3 formula.\n",
    "    :param data: The dataset.\n",
    "    :return: The entropy of the data.\n",
    "    \"\"\"\n",
    "    labels = data.iloc[:, -1]\n",
    "    label_counts = labels.value_counts()\n",
    "    entropy = -sum((count/len(labels)) * np.log2(count/len(labels)) for count in label_counts)\n",
    "    return entropy\n",
    "\n",
    "def split_dataset(data, feature_index, value):\n",
    "    \"\"\"\n",
    "    根据特征索引和特征值分割数据集。\n",
    "    :param data: DataFrame, 数据集。\n",
    "    :param feature_index: int, 用于分割的特征的索引。\n",
    "    :param value: 特征的值。\n",
    "    :return: DataFrame, 分割后的子数据集。\n",
    "    \"\"\"\n",
    "    feature_name = data.columns[feature_index]\n",
    "    reduced_data = data[data[feature_name] == value].drop(columns=[feature_name])\n",
    "    return reduced_data"
   ],
   "metadata": {
    "collapsed": false
   },
   "id": "ccd5a752ce4dbb61"
  },
  {
   "cell_type": "markdown",
   "source": [
    "## 4.2 ID3DecisionTree"
   ],
   "metadata": {
    "collapsed": false
   },
   "id": "25f5c33c5b614237"
  },
  {
   "cell_type": "code",
   "execution_count": 89,
   "outputs": [],
   "source": [
    "class ID3DecisionTree:\n",
    "    def __init__(self, max_depth, min_info_gain):\n",
    "        \"\"\"\n",
    "        Initialize the decision tree model.\n",
    "        :param max_depth: The maximum depth of the tree which used to avoid over fitting.\n",
    "        :param min_info_gain: The minimum information gain which used to avoid over fitting.\n",
    "        \"\"\"\n",
    "        self.max_depth = max_depth\n",
    "        self.min_info_gain = min_info_gain\n",
    "        self.tree = None\n",
    "\n",
    "    def choose_best_feature_to_split(self, data):\n",
    "        \"\"\"\n",
    "        选择最佳特征进行数据集分割。\n",
    "        :param data: DataFrame, 数据集。\n",
    "        :return: int, 最佳特征的索引。\n",
    "        \"\"\"\n",
    "        num_features = data.shape[1] - 1\n",
    "        base_entropy = calculate_entropy(data)\n",
    "        best_info_gain = 0.0\n",
    "        best_feature = -1\n",
    "\n",
    "        for i in range(num_features):\n",
    "            feature_name = data.columns[i]\n",
    "            unique_vals = set(data[feature_name])\n",
    "            new_entropy = 0.0\n",
    "            for value in unique_vals:\n",
    "                sub_dataset = split_dataset(data, i, value)\n",
    "                prob = len(sub_dataset) / float(len(data))\n",
    "                new_entropy += prob * calculate_entropy(sub_dataset)\n",
    "\n",
    "            info_gain = base_entropy - new_entropy\n",
    "            if info_gain > best_info_gain and info_gain > self.min_info_gain:\n",
    "                best_info_gain = info_gain\n",
    "                best_feature = i\n",
    "\n",
    "        return best_feature\n",
    "\n",
    "    def build_tree(self, data, depth=0):\n",
    "        \"\"\"\n",
    "        递归构建决策树。\n",
    "        :param data: DataFrame, 数据集。\n",
    "        :param depth: int, 当前深度。\n",
    "        :return: dict, 构建的决策树。\n",
    "        \"\"\"\n",
    "        labels = data.iloc[:, -1]\n",
    "        if len(labels.unique()) == 1:\n",
    "            return labels.iloc[0]\n",
    "        if data.shape[1] == 1 or depth == self.max_depth:\n",
    "            return labels.mode()[0]\n",
    "\n",
    "        best_feature = self.choose_best_feature_to_split(data)\n",
    "        if best_feature == -1:\n",
    "            return labels.mode()[0]\n",
    "\n",
    "        feature_name = data.columns[best_feature]\n",
    "        tree = {feature_name: {}}\n",
    "        for value in set(data[feature_name]):\n",
    "            sub_data = split_dataset(data, best_feature, value)\n",
    "            tree[feature_name][value] = self.build_tree(sub_data, depth + 1)\n",
    "\n",
    "        return tree\n",
    "\n",
    "    def fit(self, data):\n",
    "        \"\"\"\n",
    "        训练决策树模型。\n",
    "        :param data: DataFrame, 训练数据集。\n",
    "        \"\"\"\n",
    "        self.tree = self.build_tree(data)\n",
    "\n",
    "    def predict_sample(self, tree, sample):\n",
    "        \"\"\"\n",
    "        对单个样本进行预测。\n",
    "        :param tree: dict, 决策树。\n",
    "        :param sample: Series, 单个样本数据。\n",
    "        :return: 预测结果。\n",
    "        \"\"\"\n",
    "        if not isinstance(tree, dict):\n",
    "            return tree\n",
    "        feature_index = list(tree.keys())[0]\n",
    "        feature_value = sample[feature_index]\n",
    "        sub_tree = tree[feature_index].get(feature_value, np.nan)\n",
    "        return self.predict_sample(sub_tree, sample)\n",
    "\n",
    "    def predict(self, data):\n",
    "        \"\"\"\n",
    "        对数据集进行预测。\n",
    "        :param data: DataFrame, 待预测的数据集。\n",
    "        :return: Series, 预测结果。\n",
    "        \"\"\"\n",
    "        predictions = data.apply(lambda x: self.predict_sample(self.tree, x), axis=1)\n",
    "        return predictions"
   ],
   "metadata": {
    "collapsed": false,
    "ExecuteTime": {
     "start_time": "2023-11-22T11:09:44.538686Z"
    }
   },
   "id": "da651bd2c6449a8e"
  },
  {
   "cell_type": "markdown",
   "source": [
    "# 5. Model Training"
   ],
   "metadata": {
    "collapsed": false
   },
   "id": "ff55ef4140885ce0"
  },
  {
   "cell_type": "code",
   "execution_count": 90,
   "outputs": [],
   "source": [
    "# Training the decision tree model\n",
    "tree = ID3DecisionTree(max_depth=5, min_info_gain=0.01)\n",
    "tree.fit(train)"
   ],
   "metadata": {
    "collapsed": false,
    "ExecuteTime": {
     "end_time": "2023-11-22T11:09:45.549326Z",
     "start_time": "2023-11-22T11:09:44.543792Z"
    }
   },
   "id": "e4a304c7826a24f"
  },
  {
   "cell_type": "code",
   "execution_count": 91,
   "outputs": [
    {
     "data": {
      "text/plain": "{'elongation of the rete ridges': {0: {'Age': {7.0: 6,\n    8.0: 6,\n    9.0: 6,\n    10.0: {'follicular papules': {0: 2, 2: 6, 3: 6}},\n    12.0: {'itching': {0: 4, 1: 6}},\n    13.0: 6,\n    15.0: 2,\n    16.0: {'itching': {1: 2, 2: 4, 3: 3}},\n    17.0: 4,\n    18.0: {'scaling': {1: 4, 2: 3}},\n    19.0: 2,\n    20.0: {'definite borders': {0: 2, 1: 2, 2: 4}},\n    21.0: {'erythema': {1: 4, 2: 2}},\n    22.0: {'polygonal papules': {0: {'erythema': {1: 4, 2: 4, 3: 2}},\n      2: 3,\n      3: 3}},\n    23.0: {'scaling': {1: 3, 2: 2}},\n    25.0: {'spongiosis': {0: 3,\n      1: 4,\n      2: 2,\n      3: {'definite borders': {0: 4, 2: 2}}}},\n    26.0: 3,\n    27.0: {'parakeratosis': {0: 3, 1: {'itching': {0: 4, 2: 5}}, 2: 2}},\n    28.0: 3,\n    30.0: {'koebner phenomenon': {0: {'erythema': {0: 5, 2: 2, 3: 2}},\n      1: 3,\n      2: 4}},\n    31.0: {'erythema': {1: 4, 3: 2}},\n    32.0: {'itching': {0: 4, 2: 3, 3: 3}},\n    33.0: 2,\n    34.0: {'koebner phenomenon': {0: 2, 1: 4, 3: 3}},\n    35.0: {'itching': {0: {'knee and elbow involvement': {0: 4, 1: 2}},\n      1: 4,\n      2: 2,\n      3: 3}},\n    36.0: {'polygonal papules': {0: {'definite borders': {0: 2, 2: 4}},\n      2: 3,\n      3: 3}},\n    37.0: 3,\n    38.0: 3,\n    40.0: {'band-like infiltrate': {0: 2, 1: 5, 2: 3, 3: 3}},\n    41.0: 3,\n    42.0: {'erythema': {1: 3, 2: {'scaling': {2: 4, 3: 2}}, 3: 3}},\n    43.0: 2,\n    44.0: {'erythema': {2: 3, 3: 2}},\n    45.0: {'exocytosis': {1: 3, 2: 4, 3: 2}},\n    46.0: 4,\n    47.0: {'scaling': {1: 3, 2: 2}},\n    48.0: {'scaling': {1: 3, 2: 4}},\n    49.0: 3,\n    50.0: {'itching': {0: {'erythema': {2: 4, 3: 2}}, 2: 3, 3: 3}},\n    51.0: {'erythema': {1: 2, 2: 3}},\n    52.0: {'definite borders': {0: 2, 1: 2, 3: 3}},\n    53.0: 3,\n    55.0: {'itching': {0: 4, 2: 2, 3: 5}},\n    56.0: 3,\n    57.0: 3,\n    60.0: {'erythema': {1: 4, 2: 3, 3: 3}},\n    61.0: 2,\n    62.0: {'definite borders': {1: 4, 2: 3}},\n    65.0: 3,\n    70.0: {'definite borders': {0: 4, 2: 2}}}},\n  1: {'Age': {33.0: 2,\n    34.0: {'erythema': {1: 2, 3: 5}},\n    38.0: 1,\n    8.0: 6,\n    40.0: {'scaling': {1: 5, 2: 1}},\n    43.0: 1,\n    47.0: 1,\n    18.0: 5,\n    19.0: 1,\n    20.0: 2,\n    51.0: 5,\n    60.0: 1,\n    30.0: 1}},\n  2: {'fibrosis of the papillary dermis': {0: {'spongiosis': {0: 1,\n      2: 2,\n      3: 2}},\n    1: 5,\n    2: 5,\n    3: 5}},\n  3: {'fibrosis of the papillary dermis': {0: 1, 1: 5, 2: 5, 3: 5}}}}"
     },
     "execution_count": 91,
     "metadata": {},
     "output_type": "execute_result"
    }
   ],
   "source": [
    "tree.tree"
   ],
   "metadata": {
    "collapsed": false,
    "ExecuteTime": {
     "end_time": "2023-11-22T11:09:45.560758Z",
     "start_time": "2023-11-22T11:09:45.552307Z"
    }
   },
   "id": "75c4696032e330d7"
  },
  {
   "cell_type": "markdown",
   "source": [
    "# 6. Model Evaluation\n",
    "## 6.1 Accuracy"
   ],
   "metadata": {
    "collapsed": false
   },
   "id": "d4ef836dbef33ebb"
  },
  {
   "cell_type": "code",
   "execution_count": 92,
   "outputs": [
    {
     "name": "stdout",
     "output_type": "stream",
     "text": [
      "Accuracy: 0.6351351351351351\n"
     ]
    }
   ],
   "source": [
    "# Evaluating the decision tree model\n",
    "predictions = tree.predict(test)\n",
    "accuracy = (predictions == test['class']).mean()\n",
    "print(f\"Accuracy: {accuracy}\")"
   ],
   "metadata": {
    "collapsed": false,
    "ExecuteTime": {
     "end_time": "2023-11-22T11:09:45.561034Z",
     "start_time": "2023-11-22T11:09:45.557351Z"
    }
   },
   "id": "82e7362fc194e985"
  },
  {
   "cell_type": "markdown",
   "source": [
    "## 6.2 MSE"
   ],
   "metadata": {
    "collapsed": false
   },
   "id": "8acbcd12b14660d8"
  },
  {
   "cell_type": "code",
   "execution_count": 93,
   "outputs": [
    {
     "name": "stdout",
     "output_type": "stream",
     "text": [
      "MSE: 0.6557377049180327\n"
     ]
    }
   ],
   "source": [
    "# Evaluating the decision tree model\n",
    "predictions = tree.predict(test)\n",
    "mse = ((predictions - test['class']) ** 2).mean()\n",
    "print(f\"MSE: {mse}\")"
   ],
   "metadata": {
    "collapsed": false,
    "ExecuteTime": {
     "end_time": "2023-11-22T11:09:45.566999Z",
     "start_time": "2023-11-22T11:09:45.559944Z"
    }
   },
   "id": "432d3057dc06a0ea"
  },
  {
   "cell_type": "markdown",
   "source": [],
   "metadata": {
    "collapsed": false
   },
   "id": "2acb2dbc0e87988"
  }
 ],
 "metadata": {
  "kernelspec": {
   "display_name": "Python 3",
   "language": "python",
   "name": "python3"
  },
  "language_info": {
   "codemirror_mode": {
    "name": "ipython",
    "version": 2
   },
   "file_extension": ".py",
   "mimetype": "text/x-python",
   "name": "python",
   "nbconvert_exporter": "python",
   "pygments_lexer": "ipython2",
   "version": "2.7.6"
  }
 },
 "nbformat": 4,
 "nbformat_minor": 5
}
