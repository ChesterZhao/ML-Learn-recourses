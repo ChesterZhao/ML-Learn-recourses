{
 "cells": [
  {
   "cell_type": "markdown",
   "source": [
    "# logistic regression"
   ],
   "metadata": {
    "collapsed": false
   },
   "id": "747a6da52487c04d"
  },
  {
   "cell_type": "code",
   "execution_count": 2,
   "outputs": [],
   "source": [
    "import pandas as pd\n",
    "import numpy as np\n",
    "import matplotlib.pyplot as plt\n",
    "from sklearn.model_selection import train_test_split"
   ],
   "metadata": {
    "collapsed": false,
    "ExecuteTime": {
     "end_time": "2023-11-20T06:38:56.502870Z",
     "start_time": "2023-11-20T06:38:56.339410Z"
    }
   },
   "id": "75ca02113f03e3e2"
  },
  {
   "cell_type": "markdown",
   "source": [
    "# 1. Input and process data\n",
    "## 1.1. Load data"
   ],
   "metadata": {
    "collapsed": false
   },
   "id": "7415e50face9310c"
  },
  {
   "cell_type": "code",
   "execution_count": 3,
   "outputs": [],
   "source": [
    "column_names = [\n",
    "    \"erythema\", \"scaling\", \"definite borders\", \"itching\", \"koebner phenomenon\",\n",
    "    \"polygonal papules\", \"follicular papules\", \"oral mucosal involvement\", \"knee and elbow involvement\",\n",
    "    \"scalp involvement\", \"family history\", \"melanin incontinence\", \"eosinophils in the infiltrate\",\n",
    "    \"PNL infiltrate\", \"fibrosis of the papillary dermis\", \"exocytosis\", \"acanthosis\",\n",
    "    \"hyperkeratosis\", \"parakeratosis\", \"clubbing of the rete ridges\", \"elongation of the rete ridges\",\n",
    "    \"thinning of the suprapapillary epidermis\", \"spongiform pustule\", \"munro microabcess\",\n",
    "    \"focal hypergranulosis\", \"disappearance of the granular layer\", \"vacuolisation and damage of basal layer\",\n",
    "    \"spongiosis\", \"saw-tooth appearance of retes\", \"follicular horn plug\", \"perifollicular parakeratosis\",\n",
    "    \"inflammatory monoluclear inflitrate\", \"band-like infiltrate\", \"Age\", \"class\"\n",
    "]\n",
    "\n",
    "dermatology_data = pd.read_csv('dermatology/dermatology.data', header=None, names=column_names)"
   ],
   "metadata": {
    "collapsed": false,
    "ExecuteTime": {
     "end_time": "2023-11-20T06:38:56.510328Z",
     "start_time": "2023-11-20T06:38:56.504451Z"
    }
   },
   "id": "d87de94dde4c98ca"
  },
  {
   "cell_type": "markdown",
   "source": [
    "## 1.2. Preprocess data\n",
    "- I will replace the missing values with the median value of the column.\n",
    "- Also I found that the colum \"perifollicular parakeratosis\" has only one value, so I will drop it.\n",
    "- Due to the logistic regression, I will delete class 6,5,4,2"
   ],
   "metadata": {
    "collapsed": false
   },
   "id": "ef2471aa0fb4b6cd"
  },
  {
   "cell_type": "code",
   "execution_count": 4,
   "outputs": [],
   "source": [
    "dermatology_data.replace(\"?\", pd.NA, inplace=True)\n",
    "dermatology_data['Age'] = pd.to_numeric(dermatology_data['Age'], errors='coerce')\n",
    "\n",
    "# Fill the missing values in 'Age' with the median age\n",
    "age_median = dermatology_data['Age'].median()\n",
    "dermatology_data['Age'].fillna(age_median, inplace=True)\n",
    "\n",
    "# delete class 6,5,4,2\n",
    "dermatology_data = dermatology_data[dermatology_data['class'] != 6]\n",
    "dermatology_data = dermatology_data[dermatology_data['class'] != 5]\n",
    "dermatology_data = dermatology_data[dermatology_data['class'] != 4]\n",
    "dermatology_data = dermatology_data[dermatology_data['class'] != 2]\n",
    "\n",
    "dermatology_data.drop('perifollicular parakeratosis', axis=1, inplace=True)\n",
    "\n",
    "dermatology_data.replace(3, 0, inplace=True)"
   ],
   "metadata": {
    "collapsed": false,
    "ExecuteTime": {
     "end_time": "2023-11-20T06:38:56.517064Z",
     "start_time": "2023-11-20T06:38:56.512426Z"
    }
   },
   "id": "d2cce79ce453584a"
  },
  {
   "cell_type": "markdown",
   "source": [
    "## 1.3. Scale data\n",
    "- I will scale the data using the min-max scaler."
   ],
   "metadata": {
    "collapsed": false
   },
   "id": "ec242408660446f"
  },
  {
   "cell_type": "code",
   "execution_count": 5,
   "outputs": [],
   "source": [
    "dermatology_data_scaled = dermatology_data.copy()\n",
    "for column in dermatology_data.columns[:-1]:\n",
    "    col_min = dermatology_data[column].min()\n",
    "    col_max = dermatology_data[column].max()\n",
    "    dermatology_data_scaled[column] = (dermatology_data[column] - col_min) / (col_max - col_min)"
   ],
   "metadata": {
    "collapsed": false,
    "ExecuteTime": {
     "end_time": "2023-11-20T06:38:56.528356Z",
     "start_time": "2023-11-20T06:38:56.522964Z"
    }
   },
   "id": "df8a1145b03bd10c"
  },
  {
   "cell_type": "markdown",
   "source": [
    "# 1.4. Split data\n",
    "- I will split the data into training and testing sets."
   ],
   "metadata": {
    "collapsed": false
   },
   "id": "3ed990f9d98d05a7"
  },
  {
   "cell_type": "code",
   "execution_count": 6,
   "outputs": [],
   "source": [
    "X = dermatology_data_scaled.drop('class', axis=1).values\n",
    "y = dermatology_data_scaled['class'].values\n",
    "\n",
    "X_train, X_test, y_train, y_test = train_test_split(X, y, test_size=0.2, random_state=42)"
   ],
   "metadata": {
    "collapsed": false,
    "ExecuteTime": {
     "end_time": "2023-11-20T06:38:56.531248Z",
     "start_time": "2023-11-20T06:38:56.527259Z"
    }
   },
   "id": "ba195c268ebade26"
  },
  {
   "cell_type": "markdown",
   "source": [
    "# 2. Logistic Regression\n",
    "## 2.1 Tools preparation\n",
    "- I will define the sigmoid function."
   ],
   "metadata": {
    "collapsed": false
   },
   "id": "58ba3ccb4494d4d1"
  },
  {
   "cell_type": "code",
   "execution_count": 7,
   "outputs": [],
   "source": [
    "def sigmoid(z):\n",
    "    \"\"\"\n",
    "    To compute the sigmoid function for the input x\n",
    "    :param z: the input data\n",
    "    :return: the sigmoid function for the input x\n",
    "    \"\"\"\n",
    "    return 1 / (1 + np.exp(-z))"
   ],
   "metadata": {
    "collapsed": false,
    "ExecuteTime": {
     "end_time": "2023-11-20T06:38:56.533690Z",
     "start_time": "2023-11-20T06:38:56.530597Z"
    }
   },
   "id": "6e32ada0bc8e9087"
  },
  {
   "cell_type": "markdown",
   "source": [
    "## 2.2. Model preparation"
   ],
   "metadata": {
    "collapsed": false
   },
   "id": "5360e06ee0351e10"
  },
  {
   "cell_type": "code",
   "execution_count": 8,
   "outputs": [],
   "source": [
    "class LogisticRegressionModel:\n",
    "    \"\"\"\n",
    "    Logistic Regression Model\n",
    "    :param learning_rate: the learning rate\n",
    "    :param num_iterations: the number of iterations\n",
    "    :param w: the weights\n",
    "    :param b: the bias\n",
    "    :param cost_history: the cost history will be used to plot the cost history\n",
    "    \"\"\"\n",
    "    def __init__(self, learning_rate, num_iterations):\n",
    "        self.learning_rate = learning_rate\n",
    "        self.num_iterations = num_iterations\n",
    "        self.w = None\n",
    "        self.b = None\n",
    "        self.cost_history = []\n",
    "\n",
    "    def compute_cost(self, X, y):\n",
    "        \"\"\"\n",
    "        To compute the cost function\n",
    "        :param X: the input data\n",
    "        :param y: the labels\n",
    "        :return: the cost of the model\n",
    "        \"\"\"\n",
    "        m = len(y)\n",
    "        h = sigmoid(np.dot(X, self.w) + self.b)\n",
    "        epsilon = 1e-5  # Adding epsilon to avoid log(0)\n",
    "        cost = (-1/m) * np.sum(y * np.log(h + epsilon) + (1 - y) * np.log(1 - h + epsilon))\n",
    "        return cost\n",
    "\n",
    "    def compute_gradient(self, X, y):\n",
    "        \"\"\"\n",
    "        To compute the gradient of the cost function\n",
    "        :param X: the input data\n",
    "        :param y: the labels\n",
    "        :return: the gradient of the cost function\n",
    "        \"\"\"\n",
    "        m = len(y)\n",
    "        h = sigmoid(np.dot(X, self.w) + self.b)\n",
    "        gradient_w = np.dot(X.T, (h - y)) / m\n",
    "        gradient_b = np.sum(h - y) / m\n",
    "        return gradient_w, gradient_b\n",
    "\n",
    "    def fit(self, X, y):\n",
    "        \"\"\"\n",
    "        To train the model, this function will update the weights and the bias and save the cost history.\n",
    "        :param X: the input data\n",
    "        :param y: the labels\n",
    "        \"\"\"\n",
    "        self.w = np.zeros(X.shape[1])\n",
    "        self.b = 0\n",
    "        for i in range(self.num_iterations):\n",
    "            gradient_w, gradient_b = self.compute_gradient(X, y)\n",
    "            self.w -= self.learning_rate * gradient_w\n",
    "            self.b -= self.learning_rate * gradient_b\n",
    "            cost = self.compute_cost(X, y)\n",
    "            self.cost_history.append(cost)\n",
    "            if i % 1000 == 0:\n",
    "                print(f\"Iteration {i+1}/{self.num_iterations} - Cost: {cost}\")\n",
    "\n",
    "    def predict_prob(self, X):\n",
    "        \"\"\"\n",
    "        To predict the probability of the input data\n",
    "        :param X: the input data\n",
    "        :return: the probability of the input data\n",
    "        \"\"\"\n",
    "        return sigmoid(np.dot(X, self.w) + self.b)\n",
    "\n",
    "    def predict(self, X):\n",
    "        \"\"\"\n",
    "        due to the logistic regression, I will predict the labels using the probability, so I use this function to convert the probability to the labels - 0 or 1.\n",
    "        :param X: the input data\n",
    "        :return: the labels of the input data which are 0 or 1\n",
    "        \"\"\"\n",
    "        return [1 if x >= 0.5 else 0 for x in self.predict_prob(X)]\n",
    "\n",
    "    def get_cost_history(self):\n",
    "        \"\"\"\n",
    "        To get the cost history\n",
    "        :return: the cost history\n",
    "        \"\"\"\n",
    "        return self.cost_history\n"
   ],
   "metadata": {
    "collapsed": false,
    "ExecuteTime": {
     "end_time": "2023-11-20T06:38:56.541722Z",
     "start_time": "2023-11-20T06:38:56.537079Z"
    }
   },
   "id": "5e0f26c68815f464"
  },
  {
   "cell_type": "markdown",
   "source": [
    "# 3. Train the model\n",
    "- I will train the model using the training set."
   ],
   "metadata": {
    "collapsed": false
   },
   "id": "1d101c4eb22ca955"
  },
  {
   "cell_type": "code",
   "execution_count": 9,
   "outputs": [
    {
     "name": "stdout",
     "output_type": "stream",
     "text": [
      "Iteration 1/10000 - Cost: 0.6895464219688847\n",
      "Iteration 1001/10000 - Cost: 0.11116935918857435\n",
      "Iteration 2001/10000 - Cost: 0.06639644987002252\n",
      "Iteration 3001/10000 - Cost: 0.04944639678025611\n",
      "Iteration 4001/10000 - Cost: 0.04025366852351063\n",
      "Iteration 5001/10000 - Cost: 0.034368283112996806\n",
      "Iteration 6001/10000 - Cost: 0.030220581649898926\n",
      "Iteration 7001/10000 - Cost: 0.02710891407528\n",
      "Iteration 8001/10000 - Cost: 0.024669897453380746\n",
      "Iteration 9001/10000 - Cost: 0.0226952792049568\n"
     ]
    }
   ],
   "source": [
    "model = LogisticRegressionModel(learning_rate=0.01, num_iterations=10000)\n",
    "\n",
    "# Train the model\n",
    "model.fit(X_train, y_train)\n",
    "\n",
    "predictions_test = model.predict(X_test)"
   ],
   "metadata": {
    "collapsed": false,
    "ExecuteTime": {
     "end_time": "2023-11-20T06:38:56.791085Z",
     "start_time": "2023-11-20T06:38:56.540423Z"
    }
   },
   "id": "af620a2556161488"
  },
  {
   "cell_type": "code",
   "execution_count": 10,
   "outputs": [
    {
     "data": {
      "text/plain": "<Figure size 640x480 with 1 Axes>",
      "image/png": "[encoded data removed]"
     },
     "metadata": {},
     "output_type": "display_data"
    }
   ],
   "source": [
    "# Plot the cost history \n",
    "plt.plot(model.get_cost_history())\n",
    "plt.xlabel('Iteration')\n",
    "plt.ylabel('$J(\\Theta)$')\n",
    "plt.title('Cost function using Gradient Descent')\n",
    "plt.show()"
   ],
   "metadata": {
    "collapsed": false,
    "ExecuteTime": {
     "end_time": "2023-11-20T06:38:56.978260Z",
     "start_time": "2023-11-20T06:38:56.790156Z"
    }
   },
   "id": "2c8cd77d1a7c57df"
  },
  {
   "cell_type": "markdown",
   "source": [
    "# 4. Evaluate the model\n",
    "## 4.1. Accuracy\n",
    "I will calculate the accuracy of the model.\n",
    "Accuracy is calculated as follows:\n",
    "$$\\( \\text{Accuracy} = \\frac{\\text{Number of correct predictions}}{\\text{Total number of predictions}} \\times 100 \\) $$\n",
    "Where:\n",
    "- $\\( \\text{Number of correct predictions} \\)$ is the number of correct predictions.\n",
    "- $\\( \\text{Total number of predictions} \\)$ is the number of all predictions.\n",
    "- $\\( \\text{Accuracy} \\)$ is the accuracy of the model.\n",
    "- I will use the function below to calculate the accuracy of the model."
   ],
   "metadata": {
    "collapsed": false
   },
   "id": "304cbcfa32926dbd"
  },
  {
   "cell_type": "code",
   "execution_count": 11,
   "outputs": [
    {
     "name": "stdout",
     "output_type": "stream",
     "text": [
      "Accuracy: 97.30%\n"
     ]
    }
   ],
   "source": [
    "def accuracy(y_true, y_pred):\n",
    "    \"\"\"\n",
    "    To calculate the accuracy of the model\n",
    "    :param y_true: the true labels\n",
    "    :param y_pred: the predicted labels\n",
    "    \"\"\"\n",
    "    correct = 0  \n",
    "    for i in range(len(y_true)):  \n",
    "        if y_true[i] == y_pred[i]: \n",
    "            correct += 1 \n",
    "            \n",
    "    result = correct / len(y_true) * 100\n",
    "    print(f\"Accuracy: {result:.2f}%\")\n",
    "\n",
    "accuracy(y_test, predictions_test)"
   ],
   "metadata": {
    "collapsed": false,
    "ExecuteTime": {
     "end_time": "2023-11-20T06:38:56.982588Z",
     "start_time": "2023-11-20T06:38:56.978185Z"
    }
   },
   "id": "fa47fb5f451bb1f3"
  },
  {
   "cell_type": "markdown",
   "source": [
    "## 4.2. MSE\n",
    "MSE (Mean Squared Error) is calculated as follows:\n",
    "$$\n",
    "\\[ \\text{MSE} = \\frac{1}{n} \\sum_{i=1}^{n} (y_i - \\hat{y}_i)^2 \\]\n",
    "$$\n",
    "Where:\n",
    "\n",
    "- $\\( n \\)$ is the number of samples.\n",
    "- $\\( y_i \\)$ is the actual value.\n",
    "- $\\( \\hat{y}_i \\)$ is the predicted value.\n",
    "- $\\( (y_i - \\hat{y}_i)^2 \\)$ is the square of the difference between the actual and predicted values."
   ],
   "metadata": {
    "collapsed": false
   },
   "id": "4e351a45f65a5d2d"
  },
  {
   "cell_type": "code",
   "execution_count": 12,
   "outputs": [
    {
     "name": "stdout",
     "output_type": "stream",
     "text": [
      "MSE: 0.02702702702702703\n"
     ]
    }
   ],
   "source": [
    "def mse(y_true, y_pred):\n",
    "    \"\"\"\n",
    "    To calculate the mean squared error of the model\n",
    "    :param y_true: the true labels\n",
    "    :param y_pred: the predicted labels\n",
    "    \"\"\"\n",
    "    return np.mean((y_true - y_pred) ** 2)\n",
    "\n",
    "print(f\"MSE: {mse(y_test, predictions_test)}\")"
   ],
   "metadata": {
    "collapsed": false,
    "ExecuteTime": {
     "end_time": "2023-11-20T06:38:56.985955Z",
     "start_time": "2023-11-20T06:38:56.981605Z"
    }
   },
   "id": "758587e59eeaab3f"
  },
  {
   "cell_type": "markdown",
   "source": [
    "## 4.3. Results visualization"
   ],
   "metadata": {
    "collapsed": false
   },
   "id": "ebf343255e5d4886"
  },
  {
   "cell_type": "code",
   "execution_count": 13,
   "outputs": [
    {
     "data": {
      "text/plain": "<Figure size 640x480 with 1 Axes>",
      "image/png": "[encoded data removed]"
     },
     "metadata": {},
     "output_type": "display_data"
    }
   ],
   "source": [
    "# Plot the erythema and scaling\n",
    "plt.scatter(dermatology_data['erythema'], dermatology_data['scaling'], c=dermatology_data['class'])\n",
    "plt.xlabel('erythema')\n",
    "plt.ylabel('scaling')\n",
    "\n",
    "plt.show()"
   ],
   "metadata": {
    "collapsed": false,
    "ExecuteTime": {
     "end_time": "2023-11-20T06:38:57.116807Z",
     "start_time": "2023-11-20T06:38:56.984957Z"
    }
   },
   "id": "116c8a19ef2adffb"
  },
  {
   "cell_type": "code",
   "execution_count": 14,
   "outputs": [
    {
     "data": {
      "text/plain": "<Figure size 640x480 with 1 Axes>",
      "image/png": "[encoded data removed]"
     },
     "metadata": {},
     "output_type": "display_data"
    }
   ],
   "source": [
    "# Plot the koebner phenomenon and scaling\n",
    "plt.scatter(dermatology_data['erythema'], dermatology_data['Age'], c=dermatology_data['class'])\n",
    "plt.xlabel('erythema')\n",
    "plt.ylabel('Age')\n",
    "\n",
    "plt.show()"
   ],
   "metadata": {
    "collapsed": false,
    "ExecuteTime": {
     "end_time": "2023-11-20T06:38:57.179170Z",
     "start_time": "2023-11-20T06:38:57.095676Z"
    }
   },
   "id": "6525887bb5edaf08"
  }
 ],
 "metadata": {
  "kernelspec": {
   "display_name": "Python 3",
   "language": "python",
   "name": "python3"
  },
  "language_info": {
   "codemirror_mode": {
    "name": "ipython",
    "version": 2
   },
   "file_extension": ".py",
   "mimetype": "text/x-python",
   "name": "python",
   "nbconvert_exporter": "python",
   "pygments_lexer": "ipython2",
   "version": "2.7.6"
  }
 },
 "nbformat": 4,
 "nbformat_minor": 5
}
