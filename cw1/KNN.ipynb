{
 "cells": [
  {
   "cell_type": "markdown",
   "source": [
    "# KNN\n",
    "# 1. Import Libraries"
   ],
   "metadata": {
    "collapsed": false
   },
   "id": "2f40a0812b529ae8"
  },
  {
   "cell_type": "code",
   "execution_count": 17,
   "outputs": [],
   "source": [
    "import pandas as pd\n",
    "import numpy as np\n",
    "import matplotlib.pyplot as plt\n",
    "from sklearn.model_selection import train_test_split"
   ],
   "metadata": {
    "collapsed": false,
    "ExecuteTime": {
     "end_time": "2023-11-21T06:50:27.680858Z",
     "start_time": "2023-11-21T06:50:27.680400Z"
    }
   },
   "id": "f7250841324dc429"
  },
  {
   "cell_type": "markdown",
   "source": [
    "# 2. Load Data"
   ],
   "metadata": {
    "collapsed": false
   },
   "id": "e41254f53cd314a8"
  },
  {
   "cell_type": "code",
   "execution_count": 18,
   "outputs": [],
   "source": [
    "column_names = [\n",
    "    \"erythema\", \"scaling\", \"definite borders\", \"itching\", \"koebner phenomenon\",\n",
    "    \"polygonal papules\", \"follicular papules\", \"oral mucosal involvement\", \"knee and elbow involvement\",\n",
    "    \"scalp involvement\", \"family history\", \"melanin incontinence\", \"eosinophils in the infiltrate\",\n",
    "    \"PNL infiltrate\", \"fibrosis of the papillary dermis\", \"exocytosis\", \"acanthosis\",\n",
    "    \"hyperkeratosis\", \"parakeratosis\", \"clubbing of the rete ridges\", \"elongation of the rete ridges\",\n",
    "    \"thinning of the suprapapillary epidermis\", \"spongiform pustule\", \"munro microabcess\",\n",
    "    \"focal hypergranulosis\", \"disappearance of the granular layer\", \"vacuolisation and damage of basal layer\",\n",
    "    \"spongiosis\", \"saw-tooth appearance of retes\", \"follicular horn plug\", \"perifollicular parakeratosis\",\n",
    "    \"inflammatory monoluclear inflitrate\", \"band-like infiltrate\", \"Age\", \"class\"\n",
    "]\n",
    "\n",
    "dermatology_data = pd.read_csv('dermatology/dermatology.data', header=None, names=column_names)"
   ],
   "metadata": {
    "collapsed": false,
    "ExecuteTime": {
     "end_time": "2023-11-21T06:50:27.742159Z",
     "start_time": "2023-11-21T06:50:27.692534Z"
    }
   },
   "id": "f838e1b1943e99c7"
  },
  {
   "cell_type": "markdown",
   "source": [
    "# 3. Data Preprocessing\n",
    "## 3.1 Data replace and fill missing values\n",
    "- Replace the missing values with NaN\n",
    "- Convert the 'Age' column to numeric\n",
    "- Fill the missing values in 'Age' with the median age\n",
    "- Drop the 'perifollicular parakeratosis' column(because all values are 0)"
   ],
   "metadata": {
    "collapsed": false
   },
   "id": "1671aba752cc8811"
  },
  {
   "cell_type": "code",
   "execution_count": 19,
   "outputs": [],
   "source": [
    "# Replacing the missing values with NaN\n",
    "dermatology_data.replace(\"?\", pd.NA, inplace=True)\n",
    "dermatology_data['Age'] = pd.to_numeric(dermatology_data['Age'], errors='coerce')\n",
    "\n",
    "# Filling the missing values in 'Age' with the median age\n",
    "age_median = dermatology_data['Age'].median()\n",
    "dermatology_data['Age'].fillna(age_median, inplace=True)\n",
    "\n",
    "# Dropping the 'perifollicular parakeratosis' column\n",
    "dermatology_data.drop('perifollicular parakeratosis', axis=1, inplace=True)"
   ],
   "metadata": {
    "collapsed": false,
    "ExecuteTime": {
     "end_time": "2023-11-21T06:50:27.761881Z",
     "start_time": "2023-11-21T06:50:27.741937Z"
    }
   },
   "id": "776a4ef4a6905286"
  },
  {
   "cell_type": "markdown",
   "source": [
    "## 3.2 Data Scaling\n",
    "I scaled the data using the min-max scaling method. This method scales the data to a fixed range - usually 0 to 1.\n",
    "To get a more accurate result, I scaled the data after filling the missing values.\n",
    "The formula I used for scaling the data is:\n",
    "\n",
    "$$\\[\n",
    "x' = \\frac{x - x_{min}}{x_{max} - x_{min}}\n",
    "\\]$$\n",
    "\n",
    "Where:\n",
    "- \\( x \\): The original value.\n",
    "- \\( x' \\): The scaled value.\n",
    "- \\( x_{min} \\): The minimum value of the feature.\n",
    "- \\( x_{max} \\): The maximum value of the feature."
   ],
   "metadata": {
    "collapsed": false
   },
   "id": "34ffa970b309eb8e"
  },
  {
   "cell_type": "code",
   "execution_count": 20,
   "outputs": [],
   "source": [
    "dermatology_data_scaled = dermatology_data.copy()\n",
    "for column in dermatology_data.columns[:-1]:\n",
    "    col_min = dermatology_data[column].min()\n",
    "    col_max = dermatology_data[column].max()\n",
    "    dermatology_data_scaled[column] = (dermatology_data[column] - col_min) / (col_max - col_min)"
   ],
   "metadata": {
    "collapsed": false,
    "ExecuteTime": {
     "end_time": "2023-11-21T06:50:27.774400Z",
     "start_time": "2023-11-21T06:50:27.766162Z"
    }
   },
   "id": "b00ca5531086b474"
  },
  {
   "cell_type": "markdown",
   "source": [
    "## 3.2 Data Splitting\n",
    "- Split the data into features and target\n",
    "- Split the data into train and test sets"
   ],
   "metadata": {
    "collapsed": false
   },
   "id": "87936e33382d5124"
  },
  {
   "cell_type": "code",
   "execution_count": 21,
   "outputs": [],
   "source": [
    "X = dermatology_data_scaled.drop('class', axis=1).values\n",
    "y = dermatology_data_scaled['class'].values\n",
    "\n",
    "X_train, X_test, y_train, y_test = train_test_split(X, y, test_size=0.2, random_state=42)"
   ],
   "metadata": {
    "collapsed": false,
    "ExecuteTime": {
     "end_time": "2023-11-21T06:50:27.787067Z",
     "start_time": "2023-11-21T06:50:27.778264Z"
    }
   },
   "id": "2fb403434f961721"
  },
  {
   "cell_type": "markdown",
   "source": [
    "# 4. KNN algorithm\n",
    "I used the Euclidean distance to calculate the distance between the test sample and the training samples.\n",
    "\n",
    "The Euclidean distance is the straight-line distance between two points in Euclidean space. For points \\( P \\) and \\( Q \\), if the coordinates of \\( P \\) are \\( (p_1, p_2, ..., p_n) \\) and the coordinates of \\( Q \\) are \\( (q_1, q_2, ..., q_n) \\), then the Euclidean distance \\( d \\) between points \\( P \\) and \\( Q \\) can be calculated using the following formula:\n",
    "\n",
    "\n",
    "$$\\[\n",
    "d(P, Q) = \\sqrt{(q_1 - p_1)^2 + (q_2 - p_2)^2 + ... + (q_n - p_n)^2}\n",
    "\\]$$\n",
    "\n",
    "Where:\n",
    "- \\( p_1, p_2, ..., p_n \\): Coordinates of point \\( P \\) in an n-dimensional space.\n",
    "- \\( q_1, q_2, ..., q_n \\): Coordinates of point \\( Q \\) in an n-dimensional space.\n",
    "- \\( n \\): Dimension of the space.\n"
   ],
   "metadata": {
    "collapsed": false
   },
   "id": "3c10e36823eb3245"
  },
  {
   "cell_type": "code",
   "execution_count": 22,
   "outputs": [],
   "source": [
    "class KNN:\n",
    "    def __init__(self, k, test_sample, train_data, train_labels):\n",
    "        \"\"\"\n",
    "        KnnClassifier to predict the class of a single test sample.\n",
    "        :param k: Number of nearest neighbors to consider.\n",
    "        :param test_sample: The test sample for which we want to predict the class.\n",
    "        :param train_data: The training data set.\n",
    "        :param train_labels: The labels of the training data set.\n",
    "        \"\"\"\n",
    "        self.k = k\n",
    "        self.test_sample = test_sample\n",
    "        self.train_data = train_data\n",
    "        self.train_labels = train_labels\n",
    "\n",
    "    def euclidean_distance(self, sample1, sample2):\n",
    "        \"\"\"\n",
    "        To calculate the euclidean distance between two samples.\n",
    "        \"\"\"\n",
    "        return np.sqrt(np.sum((sample1 - sample2) ** 2))\n",
    "\n",
    "    def predict(self):\n",
    "        \"\"\"\n",
    "        To predict the class of the test sample.\n",
    "        :return: The predicted class.\n",
    "        \"\"\"\n",
    "        # This step calculates the euclidean distance between the test sample and all the training samples.\n",
    "        distances = np.array([self.euclidean_distance(self.test_sample, train_sample) for train_sample in self.train_data])\n",
    "        # This step sorts the distances in ascending order and returns the indices of the first k neighbors.\n",
    "        k_nearest_indices = np.argsort(distances)[:self.k]\n",
    "        # This step gets the labels of the k nearest neighbors.\n",
    "        k_nearest_labels = self.train_labels[k_nearest_indices]\n",
    "        prediction = np.argmax(np.bincount(k_nearest_labels))\n",
    "        return prediction\n"
   ],
   "metadata": {
    "collapsed": false,
    "ExecuteTime": {
     "end_time": "2023-11-21T06:50:27.793518Z",
     "start_time": "2023-11-21T06:50:27.789564Z"
    }
   },
   "id": "c1d947f8252a5a0a"
  },
  {
   "cell_type": "markdown",
   "source": [
    "# 5. Model Evaluation\n",
    "# 5.1 Accuracy\n",
    "\n",
    "I used the KNN algorithm to predict the class of each test sample, and then calculated the accuracy of the model.\n",
    "The formula for accuracy is:\n",
    "\n",
    "$$\\[\n",
    "Accuracy = \\frac{Number\\ of\\ correct\\ predictions}{Total\\ number\\ of\\ predictions}\n",
    "\\]$$\n",
    "\n",
    "Where:\n",
    "- Number of correct predictions: The number of test samples that were correctly predicted.\n",
    "- Total number of predictions: The total number of test samples.\n",
    "- Accuracy: The accuracy of the model."
   ],
   "metadata": {
    "collapsed": false
   },
   "id": "479945bb7cf56c9c"
  },
  {
   "cell_type": "code",
   "execution_count": 23,
   "outputs": [
    {
     "name": "stdout",
     "output_type": "stream",
     "text": [
      "Accuracy: 97.30%\n"
     ]
    }
   ],
   "source": [
    "predictions = []\n",
    "for i in range(len(X_test)):\n",
    "    knn = KNN(k=5, test_sample=X_test[i], train_data=X_train, train_labels=y_train)\n",
    "    predictions.append(knn.predict())\n",
    "    \n",
    "accuracy = np.sum(predictions == y_test) / len(y_test) * 100\n",
    "print(f'Accuracy: {accuracy:.2f}%')"
   ],
   "metadata": {
    "collapsed": false,
    "ExecuteTime": {
     "end_time": "2023-11-21T06:50:27.854560Z",
     "start_time": "2023-11-21T06:50:27.795838Z"
    }
   },
   "id": "1fd91dd773553c61"
  },
  {
   "cell_type": "markdown",
   "source": [
    "# 5.2 Confusion Matrix"
   ],
   "metadata": {
    "collapsed": false
   },
   "id": "e70a851c7d4e5b84"
  },
  {
   "cell_type": "code",
   "execution_count": 24,
   "outputs": [
    {
     "data": {
      "text/plain": "<Figure size 1000x1000 with 1 Axes>",
      "image/png": "[encoded data removed]"
     },
     "metadata": {},
     "output_type": "display_data"
    }
   ],
   "source": [
    "# 计算混淆矩阵\n",
    "from sklearn.metrics import confusion_matrix\n",
    "import seaborn as sns\n",
    "\n",
    "cm = confusion_matrix(y_test, predictions)\n",
    "plt.figure(figsize=(10, 10))\n",
    "sns.heatmap(cm, annot=True, fmt='d', cmap='Blues', cbar=False)\n",
    "plt.xlabel('Predicted')\n",
    "plt.ylabel('Actual')\n",
    "plt.show()"
   ],
   "metadata": {
    "collapsed": false,
    "ExecuteTime": {
     "end_time": "2023-11-21T06:50:27.982265Z",
     "start_time": "2023-11-21T06:50:27.855327Z"
    }
   },
   "id": "fcc3ef908c44d196"
  }
 ],
 "metadata": {
  "kernelspec": {
   "display_name": "Python 3",
   "language": "python",
   "name": "python3"
  },
  "language_info": {
   "codemirror_mode": {
    "name": "ipython",
    "version": 2
   },
   "file_extension": ".py",
   "mimetype": "text/x-python",
   "name": "python",
   "nbconvert_exporter": "python",
   "pygments_lexer": "ipython2",
   "version": "2.7.6"
  }
 },
 "nbformat": 4,
 "nbformat_minor": 5
}
