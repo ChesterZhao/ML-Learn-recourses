{
 "cells": [
  {
   "cell_type": "markdown",
   "source": [
    "# 1.Input Libraries"
   ],
   "metadata": {
    "collapsed": false
   },
   "id": "5e566f44fb9d65ee"
  },
  {
   "cell_type": "code",
   "execution_count": 1,
   "id": "7b75bb4de9908ad7",
   "metadata": {
    "collapsed": true,
    "ExecuteTime": {
     "end_time": "2023-11-20T06:07:42.640940Z",
     "start_time": "2023-11-20T06:07:41.662838Z"
    }
   },
   "outputs": [],
   "source": [
    "import pandas as pd\n",
    "import numpy as np\n",
    "from sklearn.preprocessing import OneHotEncoder\n",
    "from sklearn.model_selection import train_test_split"
   ]
  },
  {
   "cell_type": "markdown",
   "source": [
    "# 2. Load Data"
   ],
   "metadata": {
    "collapsed": false
   },
   "id": "efc2330d325cef25"
  },
  {
   "cell_type": "code",
   "execution_count": 2,
   "outputs": [],
   "source": [
    "column_names = [\n",
    "    \"erythema\", \"scaling\", \"definite borders\", \"itching\", \"koebner phenomenon\",\n",
    "    \"polygonal papules\", \"follicular papules\", \"oral mucosal involvement\", \"knee and elbow involvement\",\n",
    "    \"scalp involvement\", \"family history\", \"melanin incontinence\", \"eosinophils in the infiltrate\",\n",
    "    \"PNL infiltrate\", \"fibrosis of the papillary dermis\", \"exocytosis\", \"acanthosis\",\n",
    "    \"hyperkeratosis\", \"parakeratosis\", \"clubbing of the rete ridges\", \"elongation of the rete ridges\",\n",
    "    \"thinning of the suprapapillary epidermis\", \"spongiform pustule\", \"munro microabcess\",\n",
    "    \"focal hypergranulosis\", \"disappearance of the granular layer\", \"vacuolisation and damage of basal layer\",\n",
    "    \"spongiosis\", \"saw-tooth appearance of retes\", \"follicular horn plug\", \"perifollicular parakeratosis\",\n",
    "    \"inflammatory monoluclear inflitrate\", \"band-like infiltrate\", \"Age\", \"class\"\n",
    "]\n",
    "\n",
    "dermatology_data = pd.read_csv('dermatology/dermatology.data', header=None, names=column_names)"
   ],
   "metadata": {
    "collapsed": false,
    "ExecuteTime": {
     "end_time": "2023-11-20T06:07:42.647933Z",
     "start_time": "2023-11-20T06:07:42.642767Z"
    }
   },
   "id": "initial_id"
  },
  {
   "cell_type": "markdown",
   "source": [
    "# 3. Data Preprocessing\n",
    "## 3.1 Data replace and fill missing values\n",
    "- Replace the missing values with NaN\n",
    "- Convert the 'Age' column to numeric\n",
    "- Fill the missing values in 'Age' with the median age\n",
    "- Drop the 'perifollicular parakeratosis' column(because all values are 0)"
   ],
   "metadata": {
    "collapsed": false
   },
   "id": "aa9f28416dd28e2"
  },
  {
   "cell_type": "code",
   "execution_count": 3,
   "outputs": [],
   "source": [
    "# Replacing the missing values with NaN\n",
    "dermatology_data.replace(\"?\", pd.NA, inplace=True)\n",
    "dermatology_data['Age'] = pd.to_numeric(dermatology_data['Age'], errors='coerce')\n",
    "\n",
    "# Filling the missing values in 'Age' with the median age\n",
    "age_median = dermatology_data['Age'].median()\n",
    "dermatology_data['Age'].fillna(age_median, inplace=True)\n",
    "\n",
    "# Dropping the 'perifollicular parakeratosis' column\n",
    "dermatology_data.drop('perifollicular parakeratosis', axis=1, inplace=True)"
   ],
   "metadata": {
    "collapsed": false,
    "ExecuteTime": {
     "end_time": "2023-11-20T06:07:42.654241Z",
     "start_time": "2023-11-20T06:07:42.648873Z"
    }
   },
   "id": "e4ca06310ab7db2d"
  },
  {
   "cell_type": "markdown",
   "source": [
    "## 3.2 Data Scaling"
   ],
   "metadata": {
    "collapsed": false
   },
   "id": "12c008b690be4541"
  },
  {
   "cell_type": "code",
   "execution_count": 4,
   "outputs": [],
   "source": [
    "# Scaling the data\n",
    "dermatology_data_scaled = dermatology_data.copy()\n",
    "for column in dermatology_data.columns[:-1]:\n",
    "    col_min = dermatology_data[column].min()\n",
    "    col_max = dermatology_data[column].max()\n",
    "    dermatology_data_scaled[column] = (dermatology_data[column] - col_min) / (col_max - col_min)"
   ],
   "metadata": {
    "collapsed": false,
    "ExecuteTime": {
     "end_time": "2023-11-20T06:07:42.670930Z",
     "start_time": "2023-11-20T06:07:42.652481Z"
    }
   },
   "id": "c4c40237672db3c6"
  },
  {
   "cell_type": "markdown",
   "source": [
    "## 3.3 Data Splitting\n",
    "- Split the data into features and target\n",
    "- One-hot encode the target, to get 6 output nodes\n",
    "- Split the data into train and test sets"
   ],
   "metadata": {
    "collapsed": false
   },
   "id": "e64f64c483e5eb03"
  },
  {
   "cell_type": "code",
   "execution_count": 5,
   "outputs": [
    {
     "name": "stderr",
     "output_type": "stream",
     "text": [
      "/Users/zhaochengxin/anaconda3/envs/Learn/lib/python3.8/site-packages/sklearn/preprocessing/_encoders.py:972: FutureWarning: `sparse` was renamed to `sparse_output` in version 1.2 and will be removed in 1.4. `sparse_output` is ignored unless you leave `sparse` to its default value.\n",
      "  warnings.warn(\n"
     ]
    }
   ],
   "source": [
    "# Splitting the data into features and target\n",
    "X = dermatology_data_scaled.drop('class', axis=1).values\n",
    "y = dermatology_data_scaled['class'].values\n",
    "\n",
    "# One-hot encoding the target, to get 6 output nodes, it will more fit to train ANN model\n",
    "encoder = OneHotEncoder(sparse=False)\n",
    "y_encoded = encoder.fit_transform(y.reshape(-1, 1))\n",
    "\n",
    "# Splitting the data into train and test sets\n",
    "X_train, X_test, y_train, y_test = train_test_split(X, y_encoded, test_size=0.2, random_state=42)"
   ],
   "metadata": {
    "collapsed": false,
    "ExecuteTime": {
     "end_time": "2023-11-20T06:07:42.671459Z",
     "start_time": "2023-11-20T06:07:42.664937Z"
    }
   },
   "id": "69c284527853f441"
  },
  {
   "cell_type": "markdown",
   "source": [
    "# 4. ANN Model\n",
    "## 4.1 Tools preparation\n",
    "- I choose use sigmoid as my activation function\n",
    "- I choose use cross-entropy as my loss function\n",
    "- Due to the output is multi-class, I choose use softmax as my activation function for output layer"
   ],
   "metadata": {
    "collapsed": false
   },
   "id": "ec15becfac5cfedf"
  },
  {
   "cell_type": "code",
   "execution_count": 6,
   "outputs": [],
   "source": [
    "def sigmoid(x):\n",
    "    \"\"\"\n",
    "    To compute the sigmoid function for the input x\n",
    "    :param x: the input data\n",
    "    :return: the sigmoid function for the input x\n",
    "    \"\"\"\n",
    "    return 1 / (1 + np.exp(-x))\n",
    "\n",
    "def sigmoid_derivative(x):\n",
    "    \"\"\"\n",
    "    To compute the derivative of the sigmoid function for the input x\n",
    "    :param x: the input data\n",
    "    :return: the derivative of the sigmoid function for the input x\n",
    "    \"\"\"\n",
    "    return x * (1 - x)\n",
    "\n",
    "def softmax(x):\n",
    "    \"\"\"\n",
    "    To compute the softmax function for the input x, due to the output is multi-class, I choose use softmax as my activation function for output layer\n",
    "    :param x: the input data\n",
    "    :return: the softmax function for the input x\n",
    "    \"\"\"\n",
    "    e_x = np.exp(x - np.max(x, axis=1, keepdims=True))\n",
    "    return e_x / e_x.sum(axis=1, keepdims=True)\n",
    "\n",
    "def cross_entropy_loss(y_true, y_pred):\n",
    "    \"\"\"\n",
    "    To compute the cross-entropy loss for the input y_true and y_pred, due to the output is multi-class, I choose use cross-entropy as my loss function\n",
    "    :param y_true: the true labels\n",
    "    :param y_pred: the predicted labels\n",
    "    :return: the cross-entropy loss for the input y_true and y_pred\n",
    "    \"\"\"\n",
    "    return -np.sum(y_true * np.log(y_pred))"
   ],
   "metadata": {
    "collapsed": false,
    "ExecuteTime": {
     "end_time": "2023-11-20T06:07:42.674301Z",
     "start_time": "2023-11-20T06:07:42.670176Z"
    }
   },
   "id": "851eded2265baecf"
  },
  {
   "cell_type": "markdown",
   "source": [
    "## 4.2 ANN implementation"
   ],
   "metadata": {
    "collapsed": false
   },
   "id": "bd4c1573625c20d8"
  },
  {
   "cell_type": "code",
   "execution_count": 7,
   "outputs": [],
   "source": [
    "class ANN:\n",
    "    def __init__(self, input_size, hidden_size, output_size):\n",
    "        \"\"\"\n",
    "        - I choose use 2 layers ANN model, the first layer is hidden layer, the second layer is output layer. I used the random \"randn\" function to initialize the weights to get more accuracy and help the model to fitting the data better.\n",
    "        - For the bias, I used the zeros function to initialize the bias.\n",
    "        :param input_size: the number of input nodes\n",
    "        :param hidden_size: the number of hidden nodes\n",
    "        :param output_size: the number of output nodes\n",
    "        :return: None\n",
    "        \"\"\"\n",
    "        self.weights1 = np.random.randn(input_size, hidden_size)\n",
    "        self.bias1 = np.zeros((1, hidden_size))\n",
    "        self.weights2 = np.random.randn(hidden_size, output_size)\n",
    "        self.bias2 = np.zeros((1, output_size))\n",
    "        \n",
    "        self.cost_history = []\n",
    "\n",
    "    def feedforward(self, X):\n",
    "        \"\"\"\n",
    "        In the feedforward pass, the weighted sum of the inputs and the bias is computed for each node in the hidden layer. The result is then passed through the sigmoid activation function to get the output of the hidden layer. The same process is repeated for the output layer, but the activation function used is softmax.\n",
    "        :param X: the input data - X\n",
    "        :return: the output of the output layer\n",
    "        \"\"\"\n",
    "        self.layer1 = sigmoid(np.dot(X, self.weights1) + self.bias1)\n",
    "        self.output = softmax(np.dot(self.layer1, self.weights2) + self.bias2)\n",
    "        return self.output\n",
    "\n",
    "    def backpropagation(self, X, y, learning_rate):\n",
    "        \"\"\"\n",
    "        In the backpropagation pass, the error is computed for the output layer. The weights and biases are then updated using the error and the learning rate. The same process is repeated for the hidden layer.\n",
    "        :param X: the input data - X\n",
    "        :param y: the target data - y\n",
    "        :param learning_rate: the learning rate\n",
    "        \"\"\"\n",
    "\n",
    "        \"\"\"\n",
    "        Calculate the error and delta for each layer, due to the output is multi-class, I choose use cross-entropy as my loss function and the softmax as my activation function for output layer, so the output_delta can equal to the output_error.\n",
    "        \"\"\"\n",
    "        output_error = self.output - y\n",
    "        output_delta = output_error\n",
    "\n",
    "        layer1_error = output_delta.dot(self.weights2.T)\n",
    "        layer1_delta = layer1_error * sigmoid_derivative(self.layer1)\n",
    "\n",
    "        \"\"\"\n",
    "        Update the weights and bias for each layer\n",
    "        \"\"\"\n",
    "        self.weights2 -= self.layer1.T.dot(output_delta) * learning_rate\n",
    "        self.bias2 -= np.sum(output_delta, axis=0, keepdims=True) * learning_rate\n",
    "        self.weights1 -= X.T.dot(layer1_delta) * learning_rate\n",
    "        self.bias1 -= np.sum(layer1_delta, axis=0, keepdims=True) * learning_rate\n",
    "\n",
    "    def train(self, X, y, epochs, learning_rate):\n",
    "        \"\"\"\n",
    "        The train function is used to train the model for a specified number of epochs. The feedforward and backpropagation functions are called for each epoch. The loss is also computed for each epoch.\n",
    "        :param X: the input data - X\n",
    "        :param y: the target data(class) - y\n",
    "        :param epochs: the number of epochs\n",
    "        :param learning_rate: the learning rate\n",
    "        :return: None\n",
    "        \"\"\"\n",
    "        for epoch in range(epochs):\n",
    "            self.feedforward(X)\n",
    "            self.backpropagation(X, y, learning_rate)\n",
    "            self.cost_history.append(cross_entropy_loss(y, self.output))\n",
    "            \n",
    "    def predict(self, X):\n",
    "        \"\"\"\n",
    "        The predict function is used to predict the classes for the input data. The feedforward function is called to get the output of the output layer. The class with the highest probability is chosen as the predicted class.\n",
    "        :param X: the input data - X\n",
    "        :return: the predicted classes\n",
    "        \"\"\"\n",
    "        output = self.feedforward(X)\n",
    "        predictions = np.argmax(output, axis=1)\n",
    "        return predictions"
   ],
   "metadata": {
    "collapsed": false,
    "ExecuteTime": {
     "end_time": "2023-11-20T06:07:42.684069Z",
     "start_time": "2023-11-20T06:07:42.676031Z"
    }
   },
   "id": "cf8277b26ff69fbf"
  },
  {
   "cell_type": "markdown",
   "source": [
    "# 5. Model Training"
   ],
   "metadata": {
    "collapsed": false
   },
   "id": "1459c333c9520929"
  },
  {
   "cell_type": "code",
   "execution_count": 8,
   "outputs": [],
   "source": [
    "# Creating the ANN\n",
    "ann = ANN(X_train.shape[1], 10, y_train.shape[1])\n",
    "\n",
    "# Training the ANN\n",
    "ann.train(X_train, y_train, epochs=1000, learning_rate=0.01)"
   ],
   "metadata": {
    "collapsed": false,
    "ExecuteTime": {
     "end_time": "2023-11-20T06:07:42.782959Z",
     "start_time": "2023-11-20T06:07:42.681730Z"
    }
   },
   "id": "4b100499488a9598"
  },
  {
   "cell_type": "code",
   "execution_count": 9,
   "outputs": [
    {
     "name": "stdout",
     "output_type": "stream",
     "text": [
      "Accuracy: 98.65%\n"
     ]
    }
   ],
   "source": [
    "# Predicting classes on the test set\n",
    "y_pred = ann.predict(X_test)\n",
    "\n",
    "# Converting one-hot encoded test labels back to class labels for comparison\n",
    "y_test_labels = np.argmax(y_test, axis=1)\n",
    "\n",
    "def accuracy(y_true, y_pred):\n",
    "    \"\"\"\n",
    "    The accuracy function is used to compute the accuracy of the model.\n",
    "    :param y_true: the true labels\n",
    "    :param y_pred: the predicted labels\n",
    "    :return: the accuracy of the model\n",
    "    \"\"\"\n",
    "    return np.sum(y_true == y_pred) / len(y_true) * 100\n",
    "\n",
    "print(f\"Accuracy: {accuracy(y_test_labels, y_pred):.2f}%\")"
   ],
   "metadata": {
    "collapsed": false,
    "ExecuteTime": {
     "end_time": "2023-11-20T06:07:42.786183Z",
     "start_time": "2023-11-20T06:07:42.783725Z"
    }
   },
   "id": "fdfa612859d3b7ba"
  },
  {
   "cell_type": "code",
   "execution_count": 10,
   "outputs": [
    {
     "data": {
      "text/plain": "<Figure size 640x480 with 1 Axes>",
      "image/png": "[encoded data removed]"
     },
     "metadata": {},
     "output_type": "display_data"
    }
   ],
   "source": [
    "# Plotting the loss curve\n",
    "import matplotlib.pyplot as plt\n",
    "plt.plot(range(1000), ann.cost_history)\n",
    "plt.xlabel('Epochs')\n",
    "plt.ylabel('Loss')\n",
    "plt.show()"
   ],
   "metadata": {
    "collapsed": false,
    "ExecuteTime": {
     "end_time": "2023-11-20T06:07:43.123154Z",
     "start_time": "2023-11-20T06:07:42.786359Z"
    }
   },
   "id": "84b4a83cdc8ece0d"
  }
 ],
 "metadata": {
  "kernelspec": {
   "display_name": "Python 3",
   "language": "python",
   "name": "python3"
  },
  "language_info": {
   "codemirror_mode": {
    "name": "ipython",
    "version": 2
   },
   "file_extension": ".py",
   "mimetype": "text/x-python",
   "name": "python",
   "nbconvert_exporter": "python",
   "pygments_lexer": "ipython2",
   "version": "2.7.6"
  }
 },
 "nbformat": 4,
 "nbformat_minor": 5
}
