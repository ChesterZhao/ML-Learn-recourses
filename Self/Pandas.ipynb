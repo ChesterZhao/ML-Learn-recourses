{
 "cells": [
  {
   "cell_type": "markdown",
   "source": [
    "# Pandas"
   ],
   "metadata": {
    "collapsed": false
   },
   "id": "7633420c5188046d"
  },
  {
   "cell_type": "code",
   "execution_count": null,
   "outputs": [],
   "source": [
    "import pandas as pd\n",
    "import numpy as np\n",
    "import matplotlib.pyplot as plt"
   ],
   "metadata": {
    "collapsed": false
   },
   "id": "567d4961fee60c74"
  },
  {
   "cell_type": "markdown",
   "source": [
    "## Series"
   ],
   "metadata": {
    "collapsed": false
   },
   "id": "5de453c1e1eb18f1"
  },
  {
   "cell_type": "code",
   "execution_count": null,
   "outputs": [],
   "source": [
    "pd.Series([1.2, 2.2, 3.6, 5.9], index=[1, 2, 3, 4])"
   ],
   "metadata": {
    "collapsed": false
   },
   "id": "f77f74b2522b61e2"
  },
  {
   "cell_type": "code",
   "execution_count": null,
   "outputs": [],
   "source": [
    "# 字典型\n",
    "color_count = pd.Series({\"red\": 10, \"Blue\": 20, \"Black\": 30})\n",
    "color_count"
   ],
   "metadata": {
    "collapsed": false
   },
   "id": "e2f7cef3c3d1c35e"
  },
  {
   "cell_type": "markdown",
   "source": [
    "## Series 属性    "
   ],
   "metadata": {
    "collapsed": false
   },
   "id": "4c03ff2dfd24e892"
  },
  {
   "cell_type": "code",
   "execution_count": null,
   "outputs": [],
   "source": [
    "# 获取index\n",
    "color_count.index"
   ],
   "metadata": {
    "collapsed": false
   },
   "id": "996b2507c28ce821"
  },
  {
   "cell_type": "code",
   "execution_count": null,
   "outputs": [],
   "source": [
    "# 获取值\n",
    "color_count.values"
   ],
   "metadata": {
    "collapsed": false
   },
   "id": "b622f54daf76376b"
  },
  {
   "cell_type": "code",
   "execution_count": null,
   "outputs": [],
   "source": [
    "# 获取index对应的值\n",
    "color_count[0]"
   ],
   "metadata": {
    "collapsed": false
   },
   "id": "ff3b3997ad3db967"
  },
  {
   "cell_type": "markdown",
   "source": [
    "## DataFrame\n",
    "可以给数据加上横纵标签"
   ],
   "metadata": {
    "collapsed": false
   },
   "id": "9e35975269744001"
  },
  {
   "cell_type": "code",
   "execution_count": null,
   "outputs": [],
   "source": [
    "score = np.random.randint(40, 100, (10, 5))"
   ],
   "metadata": {
    "collapsed": false
   },
   "id": "1af0e46c8f149a2c"
  },
  {
   "cell_type": "code",
   "execution_count": null,
   "outputs": [],
   "source": [
    "print(score)"
   ],
   "metadata": {
    "collapsed": false
   },
   "id": "350710324356dc7f"
  },
  {
   "cell_type": "code",
   "execution_count": null,
   "outputs": [],
   "source": [
    "subjects = [\"语文\", \"数学\", \"英语\", \"政治\", \"体育\"]\n",
    "stu = [\"Student\" + str(i) for i in range(score.shape[0])]\n",
    "data = pd.DataFrame(score, columns=subjects, index=stu)"
   ],
   "metadata": {
    "collapsed": false
   },
   "id": "1f8f0354437d67b3"
  },
  {
   "cell_type": "markdown",
   "source": [
    "## DataFrame属性"
   ],
   "metadata": {
    "collapsed": false
   },
   "id": "8f870fc338f85499"
  },
  {
   "cell_type": "code",
   "execution_count": null,
   "outputs": [],
   "source": [
    "data.shape"
   ],
   "metadata": {
    "collapsed": false
   },
   "id": "63616fe333c2abc1"
  },
  {
   "cell_type": "code",
   "execution_count": null,
   "outputs": [],
   "source": [
    "data.index"
   ],
   "metadata": {
    "collapsed": false
   },
   "id": "dcc0eddc201711a7"
  },
  {
   "cell_type": "code",
   "execution_count": null,
   "outputs": [],
   "source": [
    "data.columns"
   ],
   "metadata": {
    "collapsed": false
   },
   "id": "5203151a6b325478"
  },
  {
   "cell_type": "code",
   "execution_count": null,
   "outputs": [],
   "source": [
    "data.T"
   ],
   "metadata": {
    "collapsed": false
   },
   "id": "e610afe565f9aaae"
  },
  {
   "cell_type": "code",
   "execution_count": null,
   "outputs": [],
   "source": [
    "data.head(3)"
   ],
   "metadata": {
    "collapsed": false
   },
   "id": "9f4bdf94b58c5c14"
  },
  {
   "cell_type": "markdown",
   "source": [
    "## MultiIndex"
   ],
   "metadata": {
    "collapsed": false
   },
   "id": "dd0537c9aa8be8c0"
  },
  {
   "cell_type": "code",
   "execution_count": null,
   "outputs": [],
   "source": [
    "arrays = [[1, 1, 2, 2], [\"r\", \"b\", \"r\", \"b\"]]\n",
    "pd.MultiIndex.from_arrays(arrays, names=(\"num\", \"col\"))"
   ],
   "metadata": {
    "collapsed": false
   },
   "id": "4a79bccc01cc7f96"
  },
  {
   "cell_type": "markdown",
   "source": [
    "# 基本数据操作\n",
    "## 1. 取值"
   ],
   "metadata": {
    "collapsed": false
   },
   "id": "dce9070dd545c4d"
  },
  {
   "cell_type": "code",
   "execution_count": null,
   "outputs": [],
   "source": [
    "data = pd.read_csv(\"cars.csv\")\n",
    "data.head()"
   ],
   "metadata": {
    "collapsed": false
   },
   "id": "c00f22e703c197ef"
  },
  {
   "cell_type": "code",
   "execution_count": null,
   "outputs": [],
   "source": [
    "# 取数据-先列后行\n",
    "data[\"mpg\"][1]"
   ],
   "metadata": {
    "collapsed": false
   },
   "id": "95e9f943afaa406a"
  },
  {
   "cell_type": "code",
   "execution_count": null,
   "outputs": [],
   "source": [
    "# 区间取数据\n",
    "data.loc[1:6, \"mpg\":\"weight\"]"
   ],
   "metadata": {
    "collapsed": false
   },
   "id": "3a53f41ed3190f7d"
  },
  {
   "cell_type": "code",
   "execution_count": null,
   "outputs": [],
   "source": [
    "# 下标索引\n",
    "data.iloc[:5, :3]  # 前五行，前三列"
   ],
   "metadata": {
    "collapsed": false
   },
   "id": "78e0a7713cdbcd53"
  },
  {
   "cell_type": "markdown",
   "source": [
    "## 2. 赋值"
   ],
   "metadata": {
    "collapsed": false
   },
   "id": "8233fdd31580f1aa"
  },
  {
   "cell_type": "code",
   "execution_count": null,
   "outputs": [],
   "source": [
    "data[\"cylinders\"] = 1  # 全部变为1"
   ],
   "metadata": {
    "collapsed": false
   },
   "id": "88b3ddb35e84ceac"
  },
  {
   "cell_type": "code",
   "execution_count": null,
   "outputs": [],
   "source": [
    "data"
   ],
   "metadata": {
    "collapsed": false
   },
   "id": "4550acf12470790"
  },
  {
   "cell_type": "markdown",
   "source": [
    "## 3. 排序"
   ],
   "metadata": {
    "collapsed": false
   },
   "id": "6a9e2d35c8947e5"
  },
  {
   "cell_type": "code",
   "execution_count": null,
   "outputs": [],
   "source": [
    "data"
   ],
   "metadata": {
    "collapsed": false
   },
   "id": "c0d064af88e9a653"
  },
  {
   "cell_type": "code",
   "execution_count": null,
   "outputs": [],
   "source": [
    "data.sort_values(by=\"mpg\", ascending=False)  # 降序\n",
    "data.sort_values(by=\"mpg\", ascending=True)  # 升序"
   ],
   "metadata": {
    "collapsed": false
   },
   "id": "42afcb8be29c9c6e"
  },
  {
   "cell_type": "code",
   "execution_count": null,
   "outputs": [],
   "source": [
    "data.sort_values(by=[\"mpg\", \"horsepower\"], ascending=True)  # 按照两个值排序，第一个一样就排第二个"
   ],
   "metadata": {
    "collapsed": false
   },
   "id": "6e44a764826fe1d0"
  },
  {
   "cell_type": "code",
   "execution_count": null,
   "outputs": [],
   "source": [
    "data.sort_index()  # 按照索引排序"
   ],
   "metadata": {
    "collapsed": false
   },
   "id": "a427eefe9a5e4626"
  },
  {
   "cell_type": "code",
   "execution_count": null,
   "outputs": [],
   "source": [
    "data[\"horsepower\"].sort_values()  # 按照值排序"
   ],
   "metadata": {
    "collapsed": false
   },
   "id": "fa1050cd3366c01c"
  },
  {
   "cell_type": "markdown",
   "source": [
    "# DataFrame 运算\n",
    "## 1. 算数运算"
   ],
   "metadata": {
    "collapsed": false
   },
   "id": "c713a8499a6fb104"
  },
  {
   "cell_type": "code",
   "execution_count": null,
   "outputs": [],
   "source": [
    "data"
   ],
   "metadata": {
    "collapsed": false
   },
   "id": "d369c7df6c9c55ee"
  },
  {
   "cell_type": "code",
   "execution_count": null,
   "outputs": [],
   "source": [
    "data[\"mpg\"].add(10)"
   ],
   "metadata": {
    "collapsed": false
   },
   "id": "82aa26cb548d6b9f"
  },
  {
   "cell_type": "markdown",
   "source": [
    "## 2. 逻辑运算"
   ],
   "metadata": {
    "collapsed": false
   },
   "id": "13f78dd37573073b"
  },
  {
   "cell_type": "code",
   "execution_count": null,
   "outputs": [],
   "source": [
    "data[data[\"mpg\"] > 25]"
   ],
   "metadata": {
    "collapsed": false
   },
   "id": "ab95a25e2f8d606"
  },
  {
   "cell_type": "code",
   "execution_count": null,
   "outputs": [],
   "source": [
    "data[(data[\"mpg\"] > 23) & (data[\"mpg\"] > 24)]"
   ],
   "metadata": {
    "collapsed": false
   },
   "id": "d47d012e5ccb05da"
  },
  {
   "cell_type": "code",
   "execution_count": null,
   "outputs": [],
   "source": [
    "data.query(\"mpg < 24 & displacement > 400\")"
   ],
   "metadata": {
    "collapsed": false
   },
   "id": "35b76327d09c253a"
  },
  {
   "cell_type": "markdown",
   "source": [
    "## 3. 统计运算"
   ],
   "metadata": {
    "collapsed": false
   },
   "id": "6e184cebed8fffc9"
  },
  {
   "cell_type": "code",
   "execution_count": null,
   "outputs": [],
   "source": [
    "data.describe()  # 综合统计"
   ],
   "metadata": {
    "collapsed": false
   },
   "id": "79b30b47f31170f1"
  },
  {
   "cell_type": "code",
   "execution_count": null,
   "outputs": [],
   "source": [
    "data.idxmin"
   ],
   "metadata": {
    "collapsed": false
   },
   "id": "13b9f2bbda194b8f"
  },
  {
   "cell_type": "code",
   "execution_count": null,
   "outputs": [],
   "source": [
    "data"
   ],
   "metadata": {
    "collapsed": false
   },
   "id": "1bab4f474d74601c"
  },
  {
   "cell_type": "code",
   "execution_count": null,
   "outputs": [],
   "source": [
    "# 累计统计函数 & 绘制\n",
    "data = data.sort_index()\n",
    "data.head()"
   ],
   "metadata": {
    "collapsed": false
   },
   "id": "5d6d0b6a83450833"
  },
  {
   "cell_type": "code",
   "execution_count": null,
   "outputs": [],
   "source": [
    "smg_rise = data[\"mpg\"]\n",
    "smg_rise.cumsum().plot()\n",
    "plt.show()"
   ],
   "metadata": {
    "collapsed": false
   },
   "id": "7047d3f801a886ea"
  },
  {
   "cell_type": "markdown",
   "source": [
    "# 数据处理\n",
    "## 1.判断缺失值与处理"
   ],
   "metadata": {
    "collapsed": false
   },
   "id": "4821f27083b92d3a"
  },
  {
   "cell_type": "code",
   "execution_count": null,
   "outputs": [],
   "source": [
    "import pandas as pd\n",
    "import numpy as np\n",
    "\n",
    "# Attribute names\n",
    "attribute_names = [\n",
    "    \"erythema\", \"scaling\", \"definite borders\", \"itching\", \"koebner phenomenon\",\n",
    "    \"polygonal papules\", \"follicular papules\", \"oral mucosal involvement\",\n",
    "    \"knee and elbow involvement\", \"scalp involvement\", \"family history\",\n",
    "    \"melanin incontinence\", \"eosinophils in the infiltrate\", \"PNL infiltrate\",\n",
    "    \"fibrosis of the papillary dermis\", \"exocytosis\", \"acanthosis\", \"hyperkeratosis\",\n",
    "    \"parakeratosis\", \"clubbing of the rete ridges\", \"elongation of the rete ridges\",\n",
    "    \"thinning of the suprapapillary epidermis\", \"spongiform pustule\", \"munro microabcess\",\n",
    "    \"focal hypergranulosis\", \"disappearance of the granular layer\",\n",
    "    \"vacuolisation and damage of basal layer\", \"spongiosis\", \"saw-tooth appearance of retes\",\n",
    "    \"follicular horn plug\", \"perifollicular parakeratosis\", \"inflammatory monoluclear inflitrate\",\n",
    "    \"band-like infiltrate\", \"Age\", \"Class\"\n",
    "]\n",
    "\n",
    "# Load the dermatology.data file from the specified path into a pandas DataFrame\n",
    "file_path = \"cw1/dermatology/dermatology.data\"\n",
    "dermatology_df = pd.read_csv(file_path, header=None, names=attribute_names, sep=\",\")\n",
    "\n",
    "# Replace '?' with NaN\n",
    "dermatology_df.replace(\"?\", np.nan, inplace=True)"
   ],
   "metadata": {
    "collapsed": false
   },
   "id": "8890fbbe364fd5df"
  },
  {
   "cell_type": "code",
   "execution_count": null,
   "outputs": [],
   "source": [
    "np.all(pd.notnull(dermatology_df))  # 证明有缺失值"
   ],
   "metadata": {
    "collapsed": false
   },
   "id": "b7989b229f416ef9"
  },
  {
   "cell_type": "code",
   "execution_count": null,
   "outputs": [],
   "source": [
    "np.any(pd.isnull(dermatology_df))  # 证明有缺失值"
   ],
   "metadata": {
    "collapsed": false
   },
   "id": "a9f84f4c33ecf9cf"
  },
  {
   "cell_type": "code",
   "execution_count": null,
   "outputs": [],
   "source": [
    "dermatology_df = dermatology_df.replace(to_replace=\"?\", value=np.nan) # 处理\"?\"数据\n",
    "dermatology_df"
   ],
   "metadata": {
    "collapsed": false
   },
   "id": "9ef57f04f386c3f5"
  },
  {
   "cell_type": "code",
   "execution_count": null,
   "outputs": [],
   "source": [
    "# 判断那一列有缺失值并替换\n",
    "for i in dermatology_df.columns:\n",
    "    if np.any(pd.isnull(dermatology_df[i])):\n",
    "        print(i)\n",
    "        dermatology_df[i].fillna(dermatology_df[i].mean(), inplace=True)"
   ],
   "metadata": {
    "collapsed": false
   },
   "id": "ef2af54a0668a495"
  },
  {
   "cell_type": "markdown",
   "source": [
    "## 2.数据离散化"
   ],
   "metadata": {
    "collapsed": false
   },
   "id": "e294a57c1c2b8cdd"
  },
  {
   "cell_type": "code",
   "execution_count": null,
   "outputs": [],
   "source": [
    "Ages = dermatology_df[\"Age\"]\n",
    "Ages = Ages.replace(to_replace=\"?\", value=np.nan)\n",
    "Ages = Ages.dropna()  # 删除含有 NaN 的行\n",
    "Ages = Ages.astype(int)  # 将Series转化为整数类型"
   ],
   "metadata": {
    "collapsed": false
   },
   "id": "dc9ef8627c1c308a"
  },
  {
   "cell_type": "code",
   "execution_count": 122,
   "outputs": [
    {
     "data": {
      "text/plain": "Age\n(45.9, 51.0]      42\n(17.0, 22.0]      41\n(35.0, 40.0]      40\n(-0.001, 17.0]    38\n(22.0, 27.0]      38\n(32.0, 35.0]      34\n(56.0, 75.0]      34\n(51.0, 56.0]      32\n(40.0, 45.9]      30\n(27.0, 32.0]      29\nName: count, dtype: int64"
     },
     "execution_count": 122,
     "metadata": {},
     "output_type": "execute_result"
    }
   ],
   "source": [
    "# 自动分类\n",
    "Ages = pd.qcut(Ages, 10)\n",
    "Ages.value_counts()"
   ],
   "metadata": {
    "collapsed": false,
    "ExecuteTime": {
     "end_time": "2023-10-26T02:48:17.206138Z",
     "start_time": "2023-10-26T02:48:17.138719Z"
    }
   },
   "id": "774e103c656815cf"
  },
  {
   "cell_type": "code",
   "execution_count": 124,
   "outputs": [
    {
     "data": {
      "text/plain": "Age\n(30, 40]    82\n(20, 30]    77\n(40, 50]    65\n(50, 60]    53\n(60, 70]    19\nName: count, dtype: int64"
     },
     "execution_count": 124,
     "metadata": {},
     "output_type": "execute_result"
    }
   ],
   "source": [
    "# 自定义分组\n",
    "bins = [20, 30, 40, 50, 60, 70]\n",
    "Ages = pd.cut(Ages, bins)\n",
    "Ages.value_counts()"
   ],
   "metadata": {
    "collapsed": false,
    "ExecuteTime": {
     "end_time": "2023-10-26T02:49:49.932040Z",
     "start_time": "2023-10-26T02:49:49.922595Z"
    }
   },
   "id": "7f5b226901f0a8fe"
  },
  {
   "cell_type": "code",
   "execution_count": null,
   "outputs": [],
   "source": [],
   "metadata": {
    "collapsed": false
   },
   "id": "59839badc450bbbe"
  }
 ],
 "metadata": {
  "kernelspec": {
   "display_name": "Python 3",
   "language": "python",
   "name": "python3"
  },
  "language_info": {
   "codemirror_mode": {
    "name": "ipython",
    "version": 2
   },
   "file_extension": ".py",
   "mimetype": "text/x-python",
   "name": "python",
   "nbconvert_exporter": "python",
   "pygments_lexer": "ipython2",
   "version": "2.7.6"
  }
 },
 "nbformat": 4,
 "nbformat_minor": 5
}
