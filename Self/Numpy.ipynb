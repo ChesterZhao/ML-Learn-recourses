{
 "cells": [
  {
   "cell_type": "markdown",
   "source": [
    "# Numpy"
   ],
   "metadata": {
    "collapsed": false
   },
   "id": "17504425285c51ce"
  },
  {
   "cell_type": "markdown",
   "source": [
    "## ndarray的使用"
   ],
   "metadata": {
    "collapsed": false
   },
   "id": "e5fdcc767b92f31f"
  },
  {
   "cell_type": "code",
   "execution_count": null,
   "outputs": [],
   "source": [
    "import numpy as np\n",
    "import matplotlib.pyplot as plt"
   ],
   "metadata": {
    "collapsed": false
   },
   "id": "8f6fedde13bc89ce"
  },
  {
   "cell_type": "code",
   "execution_count": null,
   "outputs": [],
   "source": [
    "score = np.array([\n",
    "    [80, 90, 87, 72],\n",
    "    [87, 87, 99, 82],\n",
    "    [87, 23, 67, 86]\n",
    "])\n",
    "\n",
    "# 数组纬度的元素\n",
    "print(score.shape)\n",
    "\n",
    "# 数组的纬度\n",
    "print(score.ndim)\n",
    "\n",
    "# 元素的数量\n",
    "print(score.size)\n",
    "\n",
    "# 元素的长度\n",
    "print(score.itemsize)\n",
    "\n",
    "# 元素的类型\n",
    "print(score.dtype)"
   ],
   "metadata": {
    "collapsed": false
   },
   "id": "83b0022b25a5430"
  },
  {
   "cell_type": "markdown",
   "source": [
    "## 生成随机数组"
   ],
   "metadata": {
    "collapsed": false
   },
   "id": "9e3c5874438fe2f6"
  },
  {
   "cell_type": "code",
   "execution_count": null,
   "outputs": [],
   "source": [
    "x1 = np.random.normal(1.75, 1, 100000000)  # 1.75为均值，标准差为1的1亿个随机数\n",
    "\n",
    "plt.figure(figsize=(20, 8), dpi=100)\n",
    "\n",
    "plt.hist(x1, 1000)\n",
    "\n",
    "plt.show()"
   ],
   "metadata": {
    "collapsed": false
   },
   "id": "2b35ffff5b452fee"
  },
  {
   "cell_type": "markdown",
   "source": [
    "## 数组索引切片"
   ],
   "metadata": {
    "collapsed": false
   },
   "id": "47ed566f779039ad"
  },
  {
   "cell_type": "code",
   "execution_count": null,
   "outputs": [],
   "source": [
    "stock_change = np.array([\n",
    "    [-5.0, -0.32, -0.39, 1.022, 0.334],\n",
    "    [-0.22, 0.32, 0.39, 1.022, 0.334],\n",
    "    [-0.86, 0.31, 0.29, 1.022, 0.334]\n",
    "])\n",
    "\n",
    "stock_change[0, 0:3]  # 第一列，0-3个数据"
   ],
   "metadata": {
    "collapsed": false
   },
   "id": "76ac15901de0d203"
  },
  {
   "cell_type": "markdown",
   "source": [
    "## 形状修改"
   ],
   "metadata": {
    "collapsed": false
   },
   "id": "81c3aa45b89f14f8"
  },
  {
   "cell_type": "code",
   "execution_count": null,
   "outputs": [],
   "source": [
    "var = stock_change.shape\n",
    "\n",
    "stock_change.reshape([3, 5])  # 把所有数据压平，然后重新组合\n",
    "\n",
    "stock_change.reshape([-1, 3])  # 不确定行，变成2列\n",
    "\n",
    "stock_change.reshape([5, -1])  # 不确定列，变成5列\n",
    "\n",
    "stock_change.T  # 转制"
   ],
   "metadata": {
    "collapsed": false
   },
   "id": "31adc000386f3758"
  },
  {
   "cell_type": "markdown",
   "source": [
    "# 统计运算"
   ],
   "metadata": {
    "collapsed": false
   },
   "id": "ebd22f9f3ebafe50"
  },
  {
   "cell_type": "code",
   "execution_count": null,
   "outputs": [],
   "source": [
    "scores = np.random.randint(40, 100, (10, 5))\n",
    "temp = scores[:4, :]"
   ],
   "metadata": {
    "collapsed": false
   },
   "id": "8fe2c9e885fd437e"
  },
  {
   "cell_type": "code",
   "execution_count": null,
   "outputs": [],
   "source": [
    "np.max(temp) # 最大值"
   ],
   "metadata": {
    "collapsed": false
   },
   "id": "4f6f64485312252e"
  },
  {
   "cell_type": "code",
   "execution_count": null,
   "outputs": [],
   "source": [
    "np.max(temp, axis=1) # axis1的最大值"
   ],
   "metadata": {
    "collapsed": false
   },
   "id": "ec2a1f95cf9e95a5"
  },
  {
   "cell_type": "code",
   "execution_count": null,
   "outputs": [],
   "source": [
    "np.argmax(temp) # 获取temp中数最大值的下标"
   ],
   "metadata": {
    "collapsed": false
   },
   "id": "9caff577455d77a2"
  },
  {
   "cell_type": "markdown",
   "source": [
    "## 数组间的运算"
   ],
   "metadata": {
    "collapsed": false
   },
   "id": "eeb22d6f3d246ffa"
  },
  {
   "cell_type": "markdown",
   "source": [
    "### 数组与数的运算"
   ],
   "metadata": {
    "collapsed": false
   },
   "id": "e2822b33801b7c31"
  },
  {
   "cell_type": "code",
   "execution_count": null,
   "outputs": [],
   "source": [
    "arr = np.array([1, 2, 3], [3, 4, 5])"
   ],
   "metadata": {
    "collapsed": false
   },
   "id": "cdbac74ba6c8c2a9"
  },
  {
   "cell_type": "code",
   "execution_count": null,
   "outputs": [],
   "source": [
    "arr"
   ],
   "metadata": {
    "collapsed": false
   },
   "id": "64d4cbcfbf3aa5b1"
  },
  {
   "cell_type": "code",
   "execution_count": null,
   "outputs": [],
   "source": [
    "arr + 3 # 全部+3"
   ],
   "metadata": {
    "collapsed": false
   },
   "id": "e2d5061677958eee"
  },
  {
   "cell_type": "code",
   "execution_count": null,
   "outputs": [],
   "source": [
    "arr / 3 # 全部/3"
   ],
   "metadata": {
    "collapsed": false
   },
   "id": "48652f80b33f32c5"
  },
  {
   "cell_type": "markdown",
   "source": [
    "### 数组与数组的运算"
   ],
   "metadata": {
    "collapsed": false
   },
   "id": "2b1e22f0ca4cddb1"
  },
  {
   "cell_type": "code",
   "execution_count": null,
   "outputs": [],
   "source": [
    "# 形状不同不能运算\n",
    "arr1 = np.array([[1, 2, 3, 2, 1, 4], [1, 2, 3, 2, 1, 4]])\n",
    "arr2 = np.array([[1, 2, 3, 2, 1], [1, 2, 3, 2, 1]])"
   ],
   "metadata": {
    "collapsed": false
   },
   "id": "27f407e5a7437b82"
  },
  {
   "cell_type": "code",
   "execution_count": null,
   "outputs": [],
   "source": [
    "# 广播机制\n",
    "# 需要满足数组的某一纬度等长或其中一个数组纬度为1\n",
    "arr3 = np.array([[1, 2, 3, 2, 1, 4], [1, 2, 3, 2, 1, 4]])\n",
    "arr4 = np.array([[1], [2]])\n",
    "arr3 + arr4"
   ],
   "metadata": {
    "collapsed": false
   },
   "id": "4f65f5af203a48dc"
  },
  {
   "cell_type": "markdown",
   "source": [
    "## 矩阵"
   ],
   "metadata": {
    "collapsed": false
   },
   "id": "d3bc98c40dddbc45"
  },
  {
   "cell_type": "code",
   "execution_count": null,
   "outputs": [],
   "source": [
    "arr5 = np.array([\n",
    "    [80, 80],\n",
    "    [82, 82],\n",
    "    [85, 81],\n",
    "    [86, 84],\n",
    "    [92, 84],\n",
    "])\n",
    "\n",
    "arr6 = np.array([\n",
    "    [0.7],\n",
    "    [0.3]\n",
    "])\n",
    "\n",
    "print(np.dot(arr5, arr6))"
   ],
   "metadata": {
    "collapsed": false
   },
   "id": "11ae0517fd14d727"
  }
 ],
 "metadata": {
  "kernelspec": {
   "display_name": "Python 3",
   "language": "python",
   "name": "python3"
  },
  "language_info": {
   "codemirror_mode": {
    "name": "ipython",
    "version": 2
   },
   "file_extension": ".py",
   "mimetype": "text/x-python",
   "name": "python",
   "nbconvert_exporter": "python",
   "pygments_lexer": "ipython2",
   "version": "2.7.6"
  }
 },
 "nbformat": 4,
 "nbformat_minor": 5
}
